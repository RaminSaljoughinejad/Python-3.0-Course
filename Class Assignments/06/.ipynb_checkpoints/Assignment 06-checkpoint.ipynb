{
 "cells": [
  {
   "cell_type": "markdown",
   "metadata": {},
   "source": [
    "# Assignment 06\n",
    "<br>\n",
    "<span style='color:green;'>\n",
    "Write a program that search inside a given List, and then prints the cell number of all those with an odd number inside.\n",
    "<br><br><br>\n",
    "<span dir='rtl' style='align:right;float:right;'>\n",
    "برنامه ای بنویسید که در یک لیست داده شده شماره خانه هایی که در انها مقادیر فرد وجود دارد را چاپ کند. \n",
    "</span>\n",
    "</span>\n",
    "<span style='display:none;'>Copyright All Rights Reserved Ramin Saljoughinejad</span>"
   ]
  },
  {
   "cell_type": "code",
   "execution_count": 1,
   "metadata": {},
   "outputs": [
    {
     "name": "stdout",
     "output_type": "stream",
     "text": [
      "List:[4, 3, 6, 2, 8, 9, 5, 1, 0, 7]\n",
      "Cell [1] | Value -> 3\n",
      "Cell [5] | Value -> 9\n",
      "Cell [6] | Value -> 5\n",
      "Cell [7] | Value -> 1\n",
      "Cell [9] | Value -> 7\n"
     ]
    }
   ],
   "source": [
    "my_numbers = [4,3,6,2,8,9,5,1,0,7]\n",
    "print(\"List:\" + str(my_numbers))\n",
    "Lenght = len(my_numbers)\n",
    "\n",
    "x=0\n",
    "while x<Lenght:\n",
    "    if my_numbers[x]%2:\n",
    "        print(\"Cell [\" + str(x) + \"]\" + \" | Value -> \" + str(my_numbers[x]))\n",
    "    x+=1"
   ]
  }
 ],
 "metadata": {
  "kernelspec": {
   "display_name": "Python 3",
   "language": "python",
   "name": "python3"
  },
  "language_info": {
   "codemirror_mode": {
    "name": "ipython",
    "version": 3
   },
   "file_extension": ".py",
   "mimetype": "text/x-python",
   "name": "python",
   "nbconvert_exporter": "python",
   "pygments_lexer": "ipython3",
   "version": "3.7.3"
  }
 },
 "nbformat": 4,
 "nbformat_minor": 2
}
