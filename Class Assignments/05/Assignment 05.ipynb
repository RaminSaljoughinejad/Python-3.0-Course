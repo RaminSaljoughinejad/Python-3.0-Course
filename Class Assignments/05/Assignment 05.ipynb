{
 "cells": [
  {
   "cell_type": "markdown",
   "metadata": {},
   "source": [
    "# Assignment 05\n",
    "<br>\n",
    "<span style='color:green;'>\n",
    "Write a program that takes n numbers, then prints the maximum and minimum number of those. the last number is 0. the number of variables can not be greater than 3.\n",
    "<br><br><br>\n",
    "<span dir='rtl' style='align:right;float:right;'>\n",
    "    برنامه ای بنویسید که n عدد دریافت، بزرگ ترین و کوچکترین انها را چاپ کند. اخرین عدد 0 است. تعداد متغییر های مورد استفاده نباید بیشتر از 3 باشد.\n",
    "</span>\n",
    "</span>\n",
    "<span style='display:none;'>Copyright All Rights Reserved Ramin Saljoughinejad</span>"
   ]
  },
  {
   "cell_type": "code",
   "execution_count": 1,
   "metadata": {},
   "outputs": [
    {
     "name": "stdout",
     "output_type": "stream",
     "text": [
      "Please Enter a Number: 5\n",
      "Please Enter a Number: 4\n",
      "Please Enter a Number: 8\n",
      "Please Enter a Number: 2\n",
      "Please Enter a Number: 6\n",
      "Please Enter a Number: 1\n",
      "Please Enter a Number: 0\n",
      "Min :  1\n",
      "Max :  8\n"
     ]
    }
   ],
   "source": [
    "x = int(input(\"Please Enter a Number: \"))\n",
    "min = max = x\n",
    "while x:\n",
    "    if x > max:\n",
    "        max = x\n",
    "    elif x < min:\n",
    "        min = x\n",
    "    x = int(input(\"Please Enter a Number: \"))\n",
    "    \n",
    "print(\"Min : \", min)\n",
    "print(\"Max : \", max)"
   ]
  }
 ],
 "metadata": {
  "kernelspec": {
   "display_name": "Python 3",
   "language": "python",
   "name": "python3"
  },
  "language_info": {
   "codemirror_mode": {
    "name": "ipython",
    "version": 3
   },
   "file_extension": ".py",
   "mimetype": "text/x-python",
   "name": "python",
   "nbconvert_exporter": "python",
   "pygments_lexer": "ipython3",
   "version": "3.7.3"
  }
 },
 "nbformat": 4,
 "nbformat_minor": 2
}
