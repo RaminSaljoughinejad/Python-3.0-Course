{
 "cells": [
  {
   "cell_type": "markdown",
   "metadata": {},
   "source": [
    "# Assignment 04\n",
    "<br>\n",
    "<span style='color:green;'>\n",
    "    Write a program that takes a number, then checks if the number is a <span style='color:orange'>'Prime'</span> number or not.\n",
    "<br><br><br>\n",
    "<span dir='rtl' style='align:right;float:right;'>\n",
    "    برنامه ای بنویسید که 1 عدد دریافت، بررسی کنید عدد وارد شده <span style='color:orange'>عدد اول</span> است یا خیر.\n",
    "</span>\n",
    "</span>\n",
    "<span style='display:none;'>Copyright All Rights Reserved Ramin Saljoughinejad</span>"
   ]
  },
  {
   "cell_type": "code",
   "execution_count": 9,
   "metadata": {},
   "outputs": [
    {
     "name": "stdout",
     "output_type": "stream",
     "text": [
      "Please Enter Your Number:17\n",
      "17 is a Prime Number\n"
     ]
    }
   ],
   "source": [
    "x = int(input(\"Please Enter Your Number:\"))\n",
    "if x<2:\n",
    "    print(\"Numbers Lower than 2 are Not Allowed.\")\n",
    "else:\n",
    "    i = 2\n",
    "    flag = 0\n",
    "    while i<x:\n",
    "        if x%i==0:  #if not x%i:\n",
    "            flag+=1\n",
    "        i+=1\n",
    "    if(flag):\n",
    "        print(str(x) +\" is Not a Prime Number\")\n",
    "    else:\n",
    "        print(str(x) +\" is a Prime Number\")"
   ]
  }
 ],
 "metadata": {
  "kernelspec": {
   "display_name": "Python 3",
   "language": "python",
   "name": "python3"
  },
  "language_info": {
   "codemirror_mode": {
    "name": "ipython",
    "version": 3
   },
   "file_extension": ".py",
   "mimetype": "text/x-python",
   "name": "python",
   "nbconvert_exporter": "python",
   "pygments_lexer": "ipython3",
   "version": "3.7.3"
  }
 },
 "nbformat": 4,
 "nbformat_minor": 2
}
