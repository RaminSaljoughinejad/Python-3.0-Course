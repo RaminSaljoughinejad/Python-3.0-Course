{
 "cells": [
  {
   "cell_type": "code",
   "execution_count": 11,
   "metadata": {},
   "outputs": [],
   "source": [
    "import time\n",
    "import sys"
   ]
  },
  {
   "cell_type": "code",
   "execution_count": 97,
   "metadata": {},
   "outputs": [
    {
     "name": "stdout",
     "output_type": "stream",
     "text": [
      "Progress: [##################################################]\n"
     ]
    }
   ],
   "source": [
    "toolbar_width = 50\n",
    "sys.stdout.write(\"Progress: \")\n",
    "sys.stdout.write(\"[%s]\" % (\"\" * toolbar_width))\n",
    "sys.stdout.flush()\n",
    "sys.stdout.write(\"\\b\" * (toolbar_width+1))\n",
    "\n",
    "for i in range(toolbar_width):\n",
    "    time.sleep(0.2)\n",
    "    sys.stdout.write(\"#\")\n",
    "    sys.stdout.flush()\n",
    "sys.stdout.write(\"]\\n\")"
   ]
  },
  {
   "cell_type": "code",
   "execution_count": 139,
   "metadata": {},
   "outputs": [],
   "source": [
    "def progressbar(i,flag=0,pTime=0.1):\n",
    "    if not flag:\n",
    "        sys.stdout.write(\"Progress: \")\n",
    "        sys.stdout.write(\"[%s]\" % (\"\" * toolbar_width))\n",
    "        sys.stdout.flush()\n",
    "        sys.stdout.write(\"\\b\" * (toolbar_width+1))\n",
    "        flag=1\n",
    "    if i == 1:\n",
    "        sys.stdout.write(\"]\\n\")\n",
    "        return\n",
    "    else:\n",
    "        time.sleep(pTime)\n",
    "        sys.stdout.write(\"■\") ### ALT + 254 ■     ###ALT + 16 ►   ### ALT + 175 »\n",
    "        sys.stdout.flush()\n",
    "        return progressbar(i-1,flag,pTime)"
   ]
  },
  {
   "cell_type": "code",
   "execution_count": 140,
   "metadata": {
    "scrolled": true
   },
   "outputs": [
    {
     "name": "stdout",
     "output_type": "stream",
     "text": [
      "Progress: [■■■■■■■■■■■■■■■■■■■■■■■■■■■■■■■■■■■■■■■■■■■■■■■■■■■■■■■■■■■]\n"
     ]
    }
   ],
   "source": [
    "progressbar(60,pTime=0.05)"
   ]
  }
 ],
 "metadata": {
  "kernelspec": {
   "display_name": "Python 3",
   "language": "python",
   "name": "python3"
  },
  "language_info": {
   "codemirror_mode": {
    "name": "ipython",
    "version": 3
   },
   "file_extension": ".py",
   "mimetype": "text/x-python",
   "name": "python",
   "nbconvert_exporter": "python",
   "pygments_lexer": "ipython3",
   "version": "3.7.3"
  }
 },
 "nbformat": 4,
 "nbformat_minor": 2
}
