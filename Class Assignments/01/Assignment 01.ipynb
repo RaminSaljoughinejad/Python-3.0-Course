{
 "cells": [
  {
   "cell_type": "markdown",
   "metadata": {},
   "source": [
    "# Assignment 01\n",
    "<br>\n",
    "<span style='color:green;'>\n",
    "Write a program that takes 3 seperate numbers, store them in diffrent variables, and then prints out the maximum number.\n",
    "    <br>\n",
    "    - Fix the invalid input problem.\n",
    "    <br>\n",
    "    - Make your program bug-free.\n",
    "<br><br><br>\n",
    "<span dir='rtl' style='align:right;float:right;'>\n",
    "برنامه ای بنویسید که 3 عدد از کاربر دریافت، انها را در متغییرهای مجزایی ذخیر کرده، و در انتها بزرگترین انها را چاپ کند.\n",
    "    <br>\n",
    "     - مشکل ورودی غیر مجاز را در برنامه حل کنید.\n",
    "    <br>\n",
    "    - برنامه را به گونه ای تغییر بدهید که بدون خطا باشد.\n",
    "</span>\n",
    "</span>\n",
    "<span style='display:none;'>Copyright All Rights Reserved Ramin Saljoughinejad</span>"
   ]
  },
  {
   "cell_type": "code",
   "execution_count": 1,
   "metadata": {},
   "outputs": [
    {
     "name": "stdout",
     "output_type": "stream",
     "text": [
      "Please Enter Your First Number:2\n",
      "Please Enter Your Second Number:9\n",
      "Please Enter Your Third Number:15\n",
      "Max: 15.0\n"
     ]
    }
   ],
   "source": [
    "x = float(input(\"Please Enter Your First Number:\"))\n",
    "y = float(input(\"Please Enter Your Second Number:\"))\n",
    "z = float(input(\"Please Enter Your Third Number:\"))\n",
    "\n",
    "if x>y:\n",
    "    if x>z:\n",
    "        print(\"Max: \" + str(x))\n",
    "    else:\n",
    "        print(\"Max: \" + str(z))\n",
    "else:\n",
    "    if y>z:\n",
    "        print(\"Max: \" + str(y))\n",
    "    else:\n",
    "        print(\"Max: \" + str(z))"
   ]
  }
 ],
 "metadata": {
  "kernelspec": {
   "display_name": "Python 3",
   "language": "python",
   "name": "python3"
  },
  "language_info": {
   "codemirror_mode": {
    "name": "ipython",
    "version": 3
   },
   "file_extension": ".py",
   "mimetype": "text/x-python",
   "name": "python",
   "nbconvert_exporter": "python",
   "pygments_lexer": "ipython3",
   "version": "3.7.3"
  }
 },
 "nbformat": 4,
 "nbformat_minor": 2
}
