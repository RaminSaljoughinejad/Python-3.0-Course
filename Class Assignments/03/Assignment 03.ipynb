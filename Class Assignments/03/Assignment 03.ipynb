{
 "cells": [
  {
   "cell_type": "markdown",
   "metadata": {},
   "source": [
    "# Assignment 03\n",
    "<br>\n",
    "<span style='color:green;'>\n",
    "Write a program that takes 2 numbers, then prints out the sum of all the numbers between those two numbers.\n",
    "<br><br><br>\n",
    "<span dir='rtl' style='align:right;float:right;'>\n",
    "    برنامه ای بنویسید که 2 عدد دریافت، مجموع تمامی اعداد بین ان دو عدد را چاپ کند.\n",
    "</span>\n",
    "</span>\n",
    "<span style='display:none;'>Copyright All Rights Reserved Ramin Saljoughinejad</span>"
   ]
  },
  {
   "cell_type": "code",
   "execution_count": 2,
   "metadata": {},
   "outputs": [
    {
     "name": "stdout",
     "output_type": "stream",
     "text": [
      "Please Enter a Number:5\n",
      "Please Enter Another Number:10\n",
      "Sum: 30\n"
     ]
    }
   ],
   "source": [
    "x = int(input(\"Please Enter a Number:\"))\n",
    "y = int(input(\"Please Enter Another Number:\"))\n",
    "\n",
    "min = max = 0\n",
    "if x>y:\n",
    "    min = y + 1\n",
    "    max = x\n",
    "else:\n",
    "    min = x + 1\n",
    "    max = y\n",
    "\n",
    "sum = 0\n",
    "while min < max:\n",
    "    sum+=min\n",
    "    min+=1\n",
    "\n",
    "print(\"Sum: \" + str(sum))"
   ]
  }
 ],
 "metadata": {
  "kernelspec": {
   "display_name": "Python 3",
   "language": "python",
   "name": "python3"
  },
  "language_info": {
   "codemirror_mode": {
    "name": "ipython",
    "version": 3
   },
   "file_extension": ".py",
   "mimetype": "text/x-python",
   "name": "python",
   "nbconvert_exporter": "python",
   "pygments_lexer": "ipython3",
   "version": "3.7.3"
  }
 },
 "nbformat": 4,
 "nbformat_minor": 2
}
