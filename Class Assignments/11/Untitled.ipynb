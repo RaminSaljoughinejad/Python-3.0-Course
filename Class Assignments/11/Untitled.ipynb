{
 "cells": [
  {
   "cell_type": "code",
   "execution_count": 1,
   "metadata": {},
   "outputs": [],
   "source": [
    "import numpy as np"
   ]
  },
  {
   "cell_type": "code",
   "execution_count": 2,
   "metadata": {},
   "outputs": [
    {
     "name": "stdout",
     "output_type": "stream",
     "text": [
      "Number of open doors:  9\n",
      "Number of closed doors:  91\n"
     ]
    }
   ],
   "source": [
    "doors = np.ones(100)\n",
    "\n",
    "for i in range(2,101):\n",
    "    for j in range(100):\n",
    "        if not j%i:\n",
    "            if doors[j]==0:\n",
    "                doors[j]=1\n",
    "            else:\n",
    "                doors[j]=0\n",
    "Open=0\n",
    "Close=0\n",
    "for i in doors:\n",
    "    if i:\n",
    "        Open+=1\n",
    "    else:\n",
    "        Close+=1\n",
    "print(\"Number of open doors: \",Open)\n",
    "print(\"Number of closed doors: \",Close)"
   ]
  }
 ],
 "metadata": {
  "kernelspec": {
   "display_name": "Python 3",
   "language": "python",
   "name": "python3"
  },
  "language_info": {
   "codemirror_mode": {
    "name": "ipython",
    "version": 3
   },
   "file_extension": ".py",
   "mimetype": "text/x-python",
   "name": "python",
   "nbconvert_exporter": "python",
   "pygments_lexer": "ipython3",
   "version": "3.7.3"
  }
 },
 "nbformat": 4,
 "nbformat_minor": 2
}
