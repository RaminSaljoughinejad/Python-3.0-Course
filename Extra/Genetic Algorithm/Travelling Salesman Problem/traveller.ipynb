{
 "cells": [
  {
   "cell_type": "code",
   "execution_count": 1,
   "metadata": {},
   "outputs": [],
   "source": [
    "import random\n",
    "import matplotlib.pyplot as plt\n",
    "import numpy as np"
   ]
  },
  {
   "cell_type": "code",
   "execution_count": 2,
   "metadata": {},
   "outputs": [],
   "source": [
    "weight_of_cities=np.array([[0,12,29,22,13,24],[12,0,19,3,25,6],[29,19,0,21,23,28],[22,3,21,0,4,5],[13,25,23,4,0,16],[24,6,28,5,16,0]])\n",
    "n=6\n",
    "p=10"
   ]
  },
  {
   "cell_type": "code",
   "execution_count": 3,
   "metadata": {},
   "outputs": [],
   "source": [
    "def random_population(number_of_cities,population):\n",
    "    current_population=[]\n",
    "    for i in range(population):\n",
    "        new_ord=[]\n",
    "        k=0\n",
    "        while k<number_of_cities:\n",
    "            new=random.randint(1,number_of_cities)\n",
    "            if new not in new_ord:\n",
    "                new_ord.append(new)\n",
    "                k+=1\n",
    "        new_ord.append(0)\n",
    "        current_population.append(new_ord)\n",
    "    return current_population\n",
    "        "
   ]
  },
  {
   "cell_type": "code",
   "execution_count": 4,
   "metadata": {},
   "outputs": [],
   "source": [
    "def cross_over(current_population,population,number_of_cities):\n",
    "    new_kid1=[]\n",
    "    new_kid2=[]\n",
    "    for i in range(0,population,2):\n",
    "        new_kid1=current_population[i][0:number_of_cities//2]\n",
    "        new_kid2=current_population[i+1][number_of_cities//2:number_of_cities]\n",
    "        for j in range(number_of_cities):\n",
    "            if current_population[i+1][j] not in new_kid1:\n",
    "                new_kid1.append(current_population[i+1][j])\n",
    "            if current_population[i][j] not in new_kid2:\n",
    "                new_kid2.append(current_population[i][j])\n",
    "        new_kid1.append(0)\n",
    "        new_kid2.append(0)\n",
    "        current_population.append(new_kid1)\n",
    "        current_population.append(new_kid2)\n",
    "    return current_population\n",
    "            "
   ]
  },
  {
   "cell_type": "code",
   "execution_count": 5,
   "metadata": {},
   "outputs": [],
   "source": [
    "def mutation (current_population,population,number_of_cities,rate):\n",
    "    change_list=[]\n",
    "    l=(len(current_population)-population)*rate\n",
    "    k=0\n",
    "    while k<l:\n",
    "        newrand=random.randint(population,len(current_population)-1)\n",
    "        if newrand not in change_list:\n",
    "            change_list.append(newrand)\n",
    "            k+=1\n",
    "    for i in change_list:\n",
    "        r=random.randint(0,number_of_cities-1)\n",
    "        temp=current_population[i][r]\n",
    "        current_population[i][r]=current_population[i][number_of_cities-1-r]\n",
    "        current_population[i][number_of_cities-1-r]=temp\n",
    "    return current_population"
   ]
  },
  {
   "cell_type": "code",
   "execution_count": 6,
   "metadata": {},
   "outputs": [],
   "source": [
    "def fitness(current_population,number_of_cities,population):\n",
    "    l=len(current_population)\n",
    "    for i in range(l):\n",
    "        c=0\n",
    "        for j in range(number_of_cities-1):\n",
    "            c+=weight_of_cities[current_population[i][j]-1][current_population[i][j+1]-1]\n",
    "        current_population[i][number_of_cities]=c + weight_of_cities[current_population[i][0]-1][current_population[i][number_of_cities-1]-1]\n",
    "    for i in range(l):\n",
    "        min = i\n",
    "        for j in range(i,l):\n",
    "            if current_population[j][number_of_cities]<current_population[min][number_of_cities]:\n",
    "                min = j\n",
    "        temp =  current_population[i]\n",
    "        current_population[i] = current_population[min]\n",
    "        current_population[min] = temp\n",
    "    current_population=current_population[0:population]\n",
    "    return current_population"
   ]
  },
  {
   "cell_type": "code",
   "execution_count": 7,
   "metadata": {},
   "outputs": [],
   "source": [
    "def changed_list(current_generation,p):\n",
    "    for i in range(len(current_generation)//4):\n",
    "        temp=current_generation[2*i]\n",
    "        current_generation[2*i]=current_generation[p-1-(2*i)]\n",
    "        current_generation[p-1-(2*i)]=temp\n",
    "    return current_generation"
   ]
  },
  {
   "cell_type": "code",
   "execution_count": 8,
   "metadata": {},
   "outputs": [
    {
     "name": "stdout",
     "output_type": "stream",
     "text": [
      "-------------------------------------------------------\n",
      "Epoch  1\n",
      "Solution Found:  [4, 6, 2, 3, 1, 5, 76]\n",
      "-------------------------------------------------------\n",
      "Epoch  2\n",
      "Solution Found:  [4, 6, 2, 3, 1, 5, 76]\n",
      "-------------------------------------------------------\n",
      "Epoch  3\n",
      "Solution Found:  [4, 6, 2, 3, 1, 5, 76]\n",
      "-------------------------------------------------------\n",
      "Epoch  4\n",
      "Solution Found:  [4, 6, 2, 3, 1, 5, 76]\n",
      "-------------------------------------------------------\n",
      "Epoch  5\n",
      "Solution Found:  [4, 6, 2, 3, 1, 5, 76]\n",
      "-------------------------------------------------------\n",
      "Epoch  6\n",
      "Solution Found:  [4, 6, 2, 3, 1, 5, 76]\n",
      "-------------------------------------------------------\n",
      "Epoch  7\n",
      "Solution Found:  [4, 6, 2, 3, 1, 5, 76]\n",
      "-------------------------------------------------------\n",
      "Epoch  8\n",
      "Solution Found:  [4, 6, 2, 3, 1, 5, 76]\n",
      "-------------------------------------------------------\n",
      "Epoch  9\n",
      "Solution Found:  [4, 6, 2, 3, 1, 5, 76]\n"
     ]
    }
   ],
   "source": [
    "current_generation = random_population(n,p)\n",
    "current_generation = fitness(current_generation,n,p)\n",
    "epoch = 1\n",
    "while epoch<10:\n",
    "    print(\"-------------------------------------------------------\")\n",
    "    print(\"Epoch \",epoch)\n",
    "    #current_generation = changed_list(current_generation,p)\n",
    "    new_generation = cross_over(current_generation,p,n)\n",
    "    new_generation = mutation(new_generation,p,n,0.8)\n",
    "    current_generation = new_generation\n",
    "    current_generation = fitness(current_generation,n,p)\n",
    "    epoch+=1\n",
    "    print(\"Solution Found: \", current_generation[0])\n",
    "        \n",
    "       "
   ]
  }
 ],
 "metadata": {
  "kernelspec": {
   "display_name": "Python 3",
   "language": "python",
   "name": "python3"
  },
  "language_info": {
   "codemirror_mode": {
    "name": "ipython",
    "version": 3
   },
   "file_extension": ".py",
   "mimetype": "text/x-python",
   "name": "python",
   "nbconvert_exporter": "python",
   "pygments_lexer": "ipython3",
   "version": "3.7.6"
  }
 },
 "nbformat": 4,
 "nbformat_minor": 4
}
