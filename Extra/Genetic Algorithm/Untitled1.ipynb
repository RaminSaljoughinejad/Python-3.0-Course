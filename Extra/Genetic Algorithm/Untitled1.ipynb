{
 "cells": [
  {
   "cell_type": "code",
   "execution_count": 52,
   "metadata": {},
   "outputs": [],
   "source": [
    "import random"
   ]
  },
  {
   "cell_type": "code",
   "execution_count": 91,
   "metadata": {},
   "outputs": [],
   "source": [
    "n = 8\n",
    "p = 400\n",
    "mutation_rate = 1\n",
    "epoch = 200\n",
    "\n",
    "current_generation = []\n",
    "new_generation = []"
   ]
  },
  {
   "cell_type": "code",
   "execution_count": 92,
   "metadata": {},
   "outputs": [],
   "source": [
    "def initPopulation(numberOfQueens,numberOfRows):    # n    ,  p\n",
    "    generation_list = []\n",
    "    for i in range(numberOfRows):\n",
    "        gen = []\n",
    "        for j in range(numberOfQueens):\n",
    "            gen.append(random.randint(1,numberOfQueens))\n",
    "        gen.append(0)\n",
    "        generation_list.append(gen)\n",
    "    return generation_list"
   ]
  },
  {
   "cell_type": "code",
   "execution_count": 93,
   "metadata": {},
   "outputs": [],
   "source": [
    "def fitness(generation_list,numberOfQueens):\n",
    "    row=0\n",
    "    conflict = 0\n",
    "    while row<len(generation_list):\n",
    "        i = 0\n",
    "        conflict=0\n",
    "        while i<numberOfQueens:\n",
    "            j = i+1\n",
    "            while j<numberOfQueens:\n",
    "                if generation_list[row][i] == generation_list[row][j]:\n",
    "                    conflict+=1\n",
    "                if abs(i-j)==abs(generation_list[row][i]-generation_list[row][j]):\n",
    "                    conflict+=1\n",
    "                j+=1\n",
    "            i+=1\n",
    "        generation_list[row][numberOfQueens]=conflict\n",
    "        row+=1\n",
    "    \n",
    "    \n",
    "    for i in range(len(generation_list)):\n",
    "        mini = i\n",
    "        for j in range(i,len(generation_list)):\n",
    "            if generation_list[j][numberOfQueens] < generation_list[mini][numberOfQueens]:\n",
    "                mini = j\n",
    "        temp = generation_list[i]\n",
    "        generation_list[i]=generation_list[mini]\n",
    "        generation_list[mini]=temp\n",
    "    return generation_list"
   ]
  },
  {
   "cell_type": "code",
   "execution_count": 94,
   "metadata": {},
   "outputs": [],
   "source": [
    "def cross_over(generation_list,numberOfPopulation,numberOfQueens):\n",
    "    for i in range(0,numberOfPopulation//2,2):\n",
    "        new_kid1 = generation_list[i][0:numberOfQueens//2]+generation_list[i+1][numberOfQueens//2:numberOfQueens]+[0]\n",
    "        new_kid2 = generation_list[i+1][0:numberOfQueens//2]+generation_list[i][numberOfQueens//2:numberOfQueens]+[0]\n",
    "        generation_list.append(new_kid1)\n",
    "        generation_list.append(new_kid2)\n",
    "    return generation_list"
   ]
  },
  {
   "cell_type": "code",
   "execution_count": 95,
   "metadata": {},
   "outputs": [],
   "source": [
    "def mutation(generation_list,mRate,numberOfPopulation,numberOfQueens):\n",
    "    mRate = (numberOfPopulation//2)*mRate\n",
    "    mutation_list = []\n",
    "    newRand = 0\n",
    "    while mRate > 0:\n",
    "        newRand = random.randint(numberOfPopulation//2,numberOfPopulation-1)\n",
    "        if newRand not in mutation_list:\n",
    "            mutation_list.append(newRand)\n",
    "            mRate-=1\n",
    "    for i in mutation_list:\n",
    "        newRand = random.randint(0,numberOfQueens)\n",
    "        generation_list[i][newRand] = random.randint(1,numberOfQueens)\n",
    "    return generation_list"
   ]
  },
  {
   "cell_type": "code",
   "execution_count": 98,
   "metadata": {},
   "outputs": [
    {
     "name": "stdout",
     "output_type": "stream",
     "text": [
      "# 1  -- Best solution so far:  [4, 2, 7, 6, 2, 5, 8, 1] ----- Conflicts:  2\n",
      "# 2  -- Best solution so far:  [4, 2, 7, 6, 2, 5, 8, 1] ----- Conflicts:  2\n",
      "# 3  -- Best solution so far:  [4, 2, 7, 6, 2, 5, 8, 1] ----- Conflicts:  2\n",
      "# 4  -- Best solution so far:  [4, 2, 7, 6, 2, 5, 8, 1] ----- Conflicts:  2\n",
      "# 5  -- Best solution so far:  [4, 2, 7, 6, 2, 5, 8, 1] ----- Conflicts:  2\n",
      "# 6  -- Best solution so far:  [8, 2, 5, 1, 6, 1, 3, 7] ----- Conflicts:  1\n",
      "# 7  -- Best solution so far:  [8, 2, 5, 1, 6, 1, 3, 7] ----- Conflicts:  1\n",
      "# 8  -- Best solution so far:  [8, 2, 5, 1, 6, 1, 3, 7] ----- Conflicts:  1\n",
      "# 9  -- Best solution so far:  [8, 2, 5, 1, 6, 1, 3, 7] ----- Conflicts:  1\n",
      "# 10  -- Best solution so far:  [8, 2, 5, 1, 6, 1, 3, 7] ----- Conflicts:  1\n",
      "# 11  -- Best solution so far:  [8, 2, 5, 1, 6, 1, 3, 7] ----- Conflicts:  1\n",
      "# 12  -- Best solution so far:  [8, 2, 5, 1, 6, 1, 3, 7] ----- Conflicts:  1\n",
      "# 13  -- Best solution so far:  [8, 2, 5, 1, 6, 1, 3, 7] ----- Conflicts:  1\n",
      "# 14  -- Best solution so far:  [8, 2, 5, 1, 6, 1, 3, 7] ----- Conflicts:  1\n",
      "# 15  -- Best solution so far:  [8, 2, 5, 1, 6, 1, 3, 7] ----- Conflicts:  1\n",
      "# 16  -- Best solution so far:  [8, 2, 5, 1, 6, 1, 3, 7] ----- Conflicts:  1\n",
      "# 17  -- Best solution so far:  [8, 2, 5, 1, 6, 1, 3, 7] ----- Conflicts:  1\n",
      "# 18  -- Best solution so far:  [8, 2, 5, 1, 6, 1, 3, 7] ----- Conflicts:  1\n",
      "# 19  -- Best solution so far:  [8, 2, 5, 1, 6, 1, 3, 7] ----- Conflicts:  1\n",
      "# 20  -- Best solution so far:  [8, 2, 5, 1, 6, 1, 3, 7] ----- Conflicts:  1\n",
      "# 21  -- Best solution so far:  [8, 2, 5, 1, 6, 1, 3, 7] ----- Conflicts:  1\n",
      "# 22  -- Best solution so far:  [8, 2, 5, 1, 6, 1, 3, 7] ----- Conflicts:  1\n",
      "# 23  -- Best solution so far:  [8, 2, 5, 1, 6, 1, 3, 7] ----- Conflicts:  1\n",
      "# 24  -- Best solution so far:  [8, 2, 5, 1, 6, 1, 3, 7] ----- Conflicts:  1\n",
      "# 25  -- Best solution so far:  [8, 2, 5, 1, 6, 1, 3, 7] ----- Conflicts:  1\n",
      "# 26  -- Best solution so far:  [8, 2, 5, 1, 6, 1, 3, 7] ----- Conflicts:  1\n",
      "# 27  -- Best solution so far:  [8, 2, 5, 1, 6, 1, 3, 7] ----- Conflicts:  1\n",
      "# 28  -- Best solution so far:  [8, 2, 5, 1, 6, 1, 3, 7] ----- Conflicts:  1\n",
      "# 29  -- Best solution so far:  [8, 2, 5, 1, 6, 1, 3, 7] ----- Conflicts:  1\n",
      "# 30  -- Best solution so far:  [8, 2, 5, 1, 6, 1, 3, 7] ----- Conflicts:  1\n",
      "# 31  -- Best solution so far:  [8, 2, 5, 1, 6, 1, 3, 7] ----- Conflicts:  1\n",
      "# 32  -- Best solution so far:  [8, 2, 5, 1, 6, 1, 3, 7] ----- Conflicts:  1\n",
      "# 33  -- Best solution so far:  [8, 2, 5, 1, 6, 1, 3, 7] ----- Conflicts:  1\n",
      "# 34  -- Best solution so far:  [8, 2, 5, 1, 6, 1, 3, 7] ----- Conflicts:  1\n",
      "# 35  -- Best solution so far:  [8, 2, 5, 1, 6, 1, 3, 7] ----- Conflicts:  1\n",
      "# 36  -- Best solution so far:  [8, 2, 5, 1, 6, 1, 3, 7] ----- Conflicts:  1\n",
      "# 37  -- Best solution so far:  [8, 2, 5, 1, 6, 1, 3, 7] ----- Conflicts:  1\n",
      "# 38  -- Best solution so far:  [8, 2, 5, 1, 6, 1, 3, 7] ----- Conflicts:  1\n",
      "# 39  -- Best solution so far:  [8, 2, 5, 1, 6, 1, 3, 7] ----- Conflicts:  1\n",
      "# 40  -- Best solution so far:  [8, 2, 5, 1, 6, 1, 3, 7] ----- Conflicts:  1\n",
      "# 41  -- Best solution so far:  [8, 2, 5, 1, 6, 1, 3, 7] ----- Conflicts:  1\n",
      "# 42  -- Best solution so far:  [8, 2, 5, 1, 6, 1, 3, 7] ----- Conflicts:  1\n",
      "# 43  -- Best solution so far:  [8, 2, 5, 1, 6, 1, 3, 7] ----- Conflicts:  1\n",
      "Solution Found:  [6, 3, 5, 7, 1, 4, 2, 8]\n"
     ]
    }
   ],
   "source": [
    "current_generation = initPopulation(n,p)\n",
    "current_generation = fitness(current_generation,n)\n",
    "#--------\n",
    "z=1\n",
    "while z+1 < epoch:\n",
    "    new_generation = current_generation[0:p//2]\n",
    "    new_generation = cross_over(new_generation,p,n)\n",
    "    new_generation = mutation(new_generation,mutation_rate,p,n)\n",
    "    current_generation = fitness(new_generation,n)\n",
    "    if current_generation[0][n] == 0:\n",
    "        print(\"Solution Found: \",current_generation[0][:n])\n",
    "        break;\n",
    "    print(\"#\",z,\" -- Best solution so far: \", current_generation[0][0:n],\"----- Conflicts: \",current_generation[0][n])\n",
    "    z+=1\n"
   ]
  }
 ],
 "metadata": {
  "kernelspec": {
   "display_name": "Python 3",
   "language": "python",
   "name": "python3"
  },
  "language_info": {
   "codemirror_mode": {
    "name": "ipython",
    "version": 3
   },
   "file_extension": ".py",
   "mimetype": "text/x-python",
   "name": "python",
   "nbconvert_exporter": "python",
   "pygments_lexer": "ipython3",
   "version": "3.7.3"
  }
 },
 "nbformat": 4,
 "nbformat_minor": 2
}
