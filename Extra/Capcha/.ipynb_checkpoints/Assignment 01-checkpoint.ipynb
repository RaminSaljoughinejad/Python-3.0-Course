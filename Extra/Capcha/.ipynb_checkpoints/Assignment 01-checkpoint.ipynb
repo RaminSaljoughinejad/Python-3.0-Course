{
 "cells": [
  {
   "cell_type": "code",
   "execution_count": null,
   "metadata": {},
   "outputs": [],
   "source": [
    "\"\"\"\"Assignment 01\n",
    "\n",
    "Write a program that takes 3 seperate numbers, store them in diffrent variables, and then prints out the maximum number.\n",
    "- Fix the invalid input problem.\n",
    "- Make your program bug-free.\"\"\"\n",
    "\n",
    "#try:\n",
    "\n",
    "a=float(input(\"enter first number: \"))\n",
    "b=float(input(\"enter second number: \"))\n",
    "c=float(input(\"enter third number: \"))\n",
    "\n",
    "max=0\n",
    "if a>=b:\n",
    "    if a>=c:\n",
    "        max=a\n",
    "    else:\n",
    "        max=c\n",
    "elif b>=c:\n",
    "    max=b\n",
    "else:\n",
    "    max=c\n",
    "    \n",
    "print(\"maximum number is : \" + str(max))\n",
    "\n",
    "#exception:\n",
    "#   print(\"please enter correct numbers\")\n"
   ]
  },
  {
   "cell_type": "code",
   "execution_count": 13,
   "metadata": {},
   "outputs": [
    {
     "data": {
      "text/plain": [
       "0.0"
      ]
     },
     "execution_count": 13,
     "metadata": {},
     "output_type": "execute_result"
    }
   ],
   "source": [
    "max"
   ]
  },
  {
   "cell_type": "code",
   "execution_count": null,
   "metadata": {},
   "outputs": [],
   "source": []
  }
 ],
 "metadata": {
  "kernelspec": {
   "display_name": "Python 3",
   "language": "python",
   "name": "python3"
  },
  "language_info": {
   "codemirror_mode": {
    "name": "ipython",
    "version": 3
   },
   "file_extension": ".py",
   "mimetype": "text/x-python",
   "name": "python",
   "nbconvert_exporter": "python",
   "pygments_lexer": "ipython3",
   "version": "3.7.6"
  }
 },
 "nbformat": 4,
 "nbformat_minor": 2
}
