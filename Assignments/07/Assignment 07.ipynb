{
 "cells": [
  {
   "cell_type": "markdown",
   "metadata": {},
   "source": [
    "# Assignment 07\n",
    "<br>\n",
    "<span style='color:green;'>\n",
    "Write a program that randomly prints all the numbers (int) in range of 1 to 10.<br>\n",
    "    <span style='color:red'>Note: You can only print 10 numbers and they should be all unique. (no repeated number)<span>\n",
    "<br><br><br>\n",
    "<span dir='rtl' style='align:right;float:right;'>\n",
    "برنامه ای بنویسید که تمامی اعداد بین 1 تا 10 را به صورت تصادفی چاپ کند.<br>\n",
    "    <span style='color:red;'>نکته: شما فقط می توانید 10 عدد منحصر به فرد چاپ کنید. ( اعداد تکراری نباشند )</span>\n",
    "</span>\n",
    "</span>\n",
    "<span style='display:none;'>Copyright All Rights Reserved Ramin Saljoughinejad</span>"
   ]
  },
  {
   "cell_type": "code",
   "execution_count": 1,
   "metadata": {},
   "outputs": [],
   "source": [
    "import random"
   ]
  },
  {
   "cell_type": "code",
   "execution_count": 2,
   "metadata": {},
   "outputs": [
    {
     "name": "stdout",
     "output_type": "stream",
     "text": [
      "2\n",
      "6\n",
      "10\n",
      "8\n",
      "3\n",
      "1\n",
      "5\n",
      "4\n",
      "9\n",
      "7\n",
      "Total:  40\n"
     ]
    }
   ],
   "source": [
    "printed_numbers = []\n",
    "i = 0\n",
    "counter = 1\n",
    "while i<10:\n",
    "    new_rand = random.randint(1,10)\n",
    "    if new_rand not in printed_numbers:\n",
    "        printed_numbers.append(new_rand)\n",
    "        print(new_rand)\n",
    "        i+=1\n",
    "    counter+=1\n",
    "print(\"Total: \",counter)"
   ]
  },
  {
   "cell_type": "code",
   "execution_count": 3,
   "metadata": {},
   "outputs": [
    {
     "name": "stdout",
     "output_type": "stream",
     "text": [
      "3\n",
      "10\n",
      "6\n",
      "5\n",
      "8\n",
      "1\n",
      "2\n",
      "4\n",
      "7\n",
      "9\n",
      "Total:  19\n"
     ]
    }
   ],
   "source": [
    "my_numbers = [0,0,0,0,0,0,0,0,0,0,0]\n",
    "total_counter = 0\n",
    "counter=0\n",
    "while True:\n",
    "    newNum = random.randint(1,10)\n",
    "    total_counter+=1\n",
    "    if not my_numbers[newNum]:\n",
    "        my_numbers[newNum]=1\n",
    "        counter+=1\n",
    "        print(newNum)\n",
    "    if counter>9:\n",
    "        break\n",
    "print(\"Total: \",total_counter)"
   ]
  },
  {
   "cell_type": "code",
   "execution_count": 4,
   "metadata": {},
   "outputs": [
    {
     "name": "stdout",
     "output_type": "stream",
     "text": [
      "[2, 8, 6, 9, 3, 4, 7, 10, 5, 1]\n",
      "Total:  9\n"
     ]
    }
   ],
   "source": [
    "my_list = [1,2,3,4,5,6,7,8,9,10]         #my_list = list(range(1,11))\n",
    "list_lenght = len(my_list)\n",
    "counter = 1\n",
    "for i in range(list_lenght - 2):\n",
    "    new_random = random.randint(i, list_lenght-1)\n",
    "    temp = my_list[i]\n",
    "    my_list[i]=my_list[new_random]\n",
    "    my_list[new_random]=temp\n",
    "    counter+=1\n",
    "print(my_list)\n",
    "print(\"Total: \",counter)"
   ]
  }
 ],
 "metadata": {
  "kernelspec": {
   "display_name": "Python 3",
   "language": "python",
   "name": "python3"
  },
  "language_info": {
   "codemirror_mode": {
    "name": "ipython",
    "version": 3
   },
   "file_extension": ".py",
   "mimetype": "text/x-python",
   "name": "python",
   "nbconvert_exporter": "python",
   "pygments_lexer": "ipython3",
   "version": "3.7.3"
  }
 },
 "nbformat": 4,
 "nbformat_minor": 2
}
