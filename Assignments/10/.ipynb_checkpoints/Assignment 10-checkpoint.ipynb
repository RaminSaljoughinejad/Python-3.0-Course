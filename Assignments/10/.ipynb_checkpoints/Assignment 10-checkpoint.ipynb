{
 "cells": [
  {
   "cell_type": "code",
   "execution_count": 10,
   "metadata": {},
   "outputs": [
    {
     "name": "stdout",
     "output_type": "stream",
     "text": [
      "Please Enter Your Number: 12\n",
      "An Error Occurred!\n"
     ]
    }
   ],
   "source": [
    "try:\n",
    "    myInput= int(input(\"Please Enter Your Number: \"))\n",
    "    myList = []\n",
    "    while True:\n",
    "        c = myInput%2\n",
    "        d = myInput//2\n",
    "        if d<2:\n",
    "            myList.append(c)\n",
    "            myList.append(d)\n",
    "            break\n",
    "        else:\n",
    "            myList.append(c)\n",
    "            myInput = d\n",
    "    myOutput=\"\"\n",
    "    for i in myList[::-1]:\n",
    "        myOutput+=i\n",
    "    print(myOutput)\n",
    "except:\n",
    "    print(\"An Error Occurred!\")"
   ]
  },
  {
   "cell_type": "code",
   "execution_count": null,
   "metadata": {},
   "outputs": [],
   "source": []
  }
 ],
 "metadata": {
  "kernelspec": {
   "display_name": "Python 3",
   "language": "python",
   "name": "python3"
  },
  "language_info": {
   "codemirror_mode": {
    "name": "ipython",
    "version": 3
   },
   "file_extension": ".py",
   "mimetype": "text/x-python",
   "name": "python",
   "nbconvert_exporter": "python",
   "pygments_lexer": "ipython3",
   "version": "3.7.3"
  }
 },
 "nbformat": 4,
 "nbformat_minor": 2
}
