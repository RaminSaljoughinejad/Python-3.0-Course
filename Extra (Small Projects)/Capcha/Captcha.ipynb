{
 "cells": [
  {
   "cell_type": "code",
   "execution_count": 1,
   "metadata": {},
   "outputs": [],
   "source": [
    "import numpy as np\n",
    "import cv2\n",
    "import random\n",
    "import matplotlib.pyplot as plt"
   ]
  },
  {
   "cell_type": "code",
   "execution_count": 2,
   "metadata": {},
   "outputs": [],
   "source": [
    "cap = np.zeros([30,110,3], np.uint8)\n",
    "\n",
    "characters = ['0','1','2','3','4','5','6','7','8','9','a','b','c','d','e','f','g','h','i','j','k','l','m','n','p','q','r','s','t','u','v','w','x','y','z']\n",
    "\n",
    "# creating random lines \n",
    "lines=random.randint(4,7)\n",
    "for i in range(0,lines):\n",
    "    x0=random.randint(0,np.size(cap,0))\n",
    "    y0=random.randint(0,np.size(cap,1))\n",
    "    x1=random.randint(0,np.size(cap,0))\n",
    "    y1=random.randint(0,np.size(cap,1))\n",
    "    cap=cv2.line(cap,(y0,x0),(y1,x1),(0,200,50),2)\n",
    "\n",
    "#creating random text\n",
    "mytext = \"\"\n",
    "newrand= 0\n",
    "for i in range(5):\n",
    "    newrand = random.randint(0,34)\n",
    "    mytext += str(characters[newrand])\n",
    "\n",
    "font = cv2.FONT_HERSHEY_COMPLEX\n",
    "cap = cv2.putText(cap, mytext, (5,23), font,1, (0,200,50), 2, cv2.LINE_AA)\n",
    "\n",
    "#adding gussian noise\n",
    "h = np.size(cap,0)\n",
    "w = np.size(cap,1)\n",
    "noise_sigma=1\n",
    "noise = np.random.randn(h, w) * (noise_sigma ** 2)  \n",
    "cap[:,:,0] = cap[:,:,0] + noise\n",
    "cap[:,:,1] = cap[:,:,1] + noise\n",
    "cap[:,:,2] = cap[:,:,2] + noise"
   ]
  },
  {
   "cell_type": "code",
   "execution_count": 3,
   "metadata": {},
   "outputs": [
    {
     "data": {
      "text/plain": [
       "<matplotlib.image.AxesImage at 0x7fee40d29550>"
      ]
     },
     "execution_count": 3,
     "metadata": {},
     "output_type": "execute_result"
    },
    {
     "data": {
      "image/png": "[encoded data removed]",
      "text/plain": [
       "<Figure size 432x288 with 1 Axes>"
      ]
     },
     "metadata": {
      "needs_background": "light"
     },
     "output_type": "display_data"
    }
   ],
   "source": [
    "plt.imshow(cap)"
   ]
  }
 ],
 "metadata": {
  "kernelspec": {
   "display_name": "Python 3",
   "language": "python",
   "name": "python3"
  },
  "language_info": {
   "codemirror_mode": {
    "name": "ipython",
    "version": 3
   },
   "file_extension": ".py",
   "mimetype": "text/x-python",
   "name": "python",
   "nbconvert_exporter": "python",
   "pygments_lexer": "ipython3",
   "version": "3.7.6"
  }
 },
 "nbformat": 4,
 "nbformat_minor": 2
}
