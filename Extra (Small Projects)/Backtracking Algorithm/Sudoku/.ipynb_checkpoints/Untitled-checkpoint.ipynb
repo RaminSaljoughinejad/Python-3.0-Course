{
 "cells": [
  {
   "cell_type": "code",
   "execution_count": 1,
   "id": "postal-journalist",
   "metadata": {},
   "outputs": [],
   "source": [
    "grid = [[0,0,0,0,0,0,6,8,0],\n",
    "        [0,0,0,0,7,3,0,0,9],\n",
    "        [3,0,9,0,0,0,0,4,5],\n",
    "        [4,9,0,0,0,0,0,0,0],\n",
    "        [8,0,3,0,5,0,9,0,2],\n",
    "        [0,0,0,0,0,0,0,3,6],\n",
    "        [9,6,0,0,0,0,3,0,8],\n",
    "        [7,0,0,6,8,0,0,0,0],\n",
    "        [0,2,8,0,0,0,0,0,0]]"
   ]
  },
  {
   "cell_type": "code",
   "execution_count": null,
   "id": "swiss-finland",
   "metadata": {},
   "outputs": [],
   "source": [
    "def valid_move(grid, row, column, number):\n",
    "    if number in grid[row]:\n",
    "        return False\n",
    "    \n",
    "    for x in range(9):\n",
    "        if grid[x][col] == number:\n",
    "            return False\n",
    "        \n",
    "    top_left_corner_row = row - (row % 3)\n",
    "    bottom_right_corner_column = column - (column % 3) \n",
    "    \n",
    "    for x in range(3):\n",
    "        for y in range(3):\n",
    "            if grid[top_left_corner_row + x][bottom_right_corner_column + y] == number:\n",
    "                return False:\n",
    "    return True"
   ]
  },
  {
   "cell_type": "code",
   "execution_count": 6,
   "id": "incorrect-cassette",
   "metadata": {},
   "outputs": [],
   "source": [
    "def solving(grid, row, column):\n",
    "    if column == 9:\n",
    "        if row == 8:\n",
    "            return True\n",
    "        else:\n",
    "            row+=1\n",
    "            col = 0\n",
    "            \n",
    "    if grid[row][column] > 0:\n",
    "        return solving(grid, row, column + 1)\n",
    "    \n",
    "    for number in range(1,10):\n",
    "        if valid_move(grid, row, column, number):\n",
    "            grid[row][column] = number\n",
    "            \n",
    "            if solving(grid, row, column + 1):\n",
    "                return True\n",
    "            \n",
    "        grid[row][column]=0\n",
    "    \n",
    "    return False"
   ]
  },
  {
   "cell_type": "code",
   "execution_count": null,
   "id": "enormous-belle",
   "metadata": {},
   "outputs": [],
   "source": [
    "if solving(grid, 0, 0):\n",
    "    for i in range(9):\n",
    "        for j in range(9):\n",
    "            print(grid[i][j], end=\" \")\n",
    "        print(\"\\n\")\n",
    "else:\n",
    "    print(\"No Solution for this sudoko\")"
   ]
  }
 ],
 "metadata": {
  "kernelspec": {
   "display_name": "Python 3",
   "language": "python",
   "name": "python3"
  },
  "language_info": {
   "codemirror_mode": {
    "name": "ipython",
    "version": 3
   },
   "file_extension": ".py",
   "mimetype": "text/x-python",
   "name": "python",
   "nbconvert_exporter": "python",
   "pygments_lexer": "ipython3",
   "version": "3.7.6"
  }
 },
 "nbformat": 4,
 "nbformat_minor": 5
}
