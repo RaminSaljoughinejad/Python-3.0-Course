{
 "cells": [
  {
   "cell_type": "markdown",
   "id": "opening-satisfaction",
   "metadata": {},
   "source": [
    "# Sudoku"
   ]
  },
  {
   "cell_type": "code",
   "execution_count": 1,
   "id": "affected-fellowship",
   "metadata": {},
   "outputs": [],
   "source": [
    "grid = [[0,8,0,0,0,0,0,0,0],\n",
    "        [0,0,0,0,5,0,9,0,0],\n",
    "        [7,0,1,0,0,2,0,6,0],\n",
    "        [0,2,0,0,0,0,0,8,0],\n",
    "        [0,0,3,0,0,4,0,0,0],\n",
    "        [4,0,8,9,0,0,6,0,0],\n",
    "        [6,0,4,0,0,7,0,1,0],\n",
    "        [3,0,0,0,0,0,0,0,0],\n",
    "        [0,0,0,2,0,0,0,0,7]]"
   ]
  },
  {
   "cell_type": "code",
   "execution_count": 2,
   "id": "becoming-astrology",
   "metadata": {},
   "outputs": [],
   "source": [
    "def valid_move(grid, row, column, number):\n",
    "    if number in grid[row]:\n",
    "        return False\n",
    "    \n",
    "    for x in range(9):\n",
    "        if grid[x][column] == number:\n",
    "            return False\n",
    "        \n",
    "    top_left_corner_row = row - (row % 3)\n",
    "    bottom_right_corner_column = column - (column % 3) \n",
    "    \n",
    "    for x in range(3):\n",
    "        for y in range(3):\n",
    "            if grid[top_left_corner_row + x][bottom_right_corner_column + y] == number:\n",
    "                return False\n",
    "    return True"
   ]
  },
  {
   "cell_type": "code",
   "execution_count": 3,
   "id": "complex-third",
   "metadata": {},
   "outputs": [],
   "source": [
    "def solving(grid, row, column):\n",
    "    if column == 9:\n",
    "        if row == 8:\n",
    "            return True\n",
    "        else:\n",
    "            row+=1\n",
    "            column = 0\n",
    "            \n",
    "    if grid[row][column] > 0:\n",
    "        return solving(grid, row, column + 1)\n",
    "    \n",
    "    for number in range(1,10):\n",
    "        if valid_move(grid, row, column, number):\n",
    "            grid[row][column] = number\n",
    "            \n",
    "            if solving(grid, row, column + 1):\n",
    "                return True\n",
    "            \n",
    "        grid[row][column]=0\n",
    "    \n",
    "    return False"
   ]
  },
  {
   "cell_type": "code",
   "execution_count": 4,
   "id": "chronic-aquarium",
   "metadata": {},
   "outputs": [
    {
     "name": "stdout",
     "output_type": "stream",
     "text": [
      "5 8 9 1 6 3 4 7 2 \n",
      "\n",
      "2 4 6 7 5 8 9 3 1 \n",
      "\n",
      "7 3 1 4 9 2 5 6 8 \n",
      "\n",
      "9 2 7 6 3 5 1 8 4 \n",
      "\n",
      "1 6 3 8 2 4 7 5 9 \n",
      "\n",
      "4 5 8 9 7 1 6 2 3 \n",
      "\n",
      "6 9 4 3 8 7 2 1 5 \n",
      "\n",
      "3 7 2 5 1 9 8 4 6 \n",
      "\n",
      "8 1 5 2 4 6 3 9 7 \n",
      "\n"
     ]
    }
   ],
   "source": [
    "if solving(grid, 0, 0):\n",
    "    for i in range(9):\n",
    "        for j in range(9):\n",
    "            print(grid[i][j], end=\" \")\n",
    "        print(\"\\n\")\n",
    "else:\n",
    "    print(\"No Solution for this sudoko\")"
   ]
  },
  {
   "cell_type": "code",
   "execution_count": null,
   "id": "international-operation",
   "metadata": {},
   "outputs": [],
   "source": []
  }
 ],
 "metadata": {
  "kernelspec": {
   "display_name": "Python 3",
   "language": "python",
   "name": "python3"
  },
  "language_info": {
   "codemirror_mode": {
    "name": "ipython",
    "version": 3
   },
   "file_extension": ".py",
   "mimetype": "text/x-python",
   "name": "python",
   "nbconvert_exporter": "python",
   "pygments_lexer": "ipython3",
   "version": "3.7.6"
  }
 },
 "nbformat": 4,
 "nbformat_minor": 5
}
