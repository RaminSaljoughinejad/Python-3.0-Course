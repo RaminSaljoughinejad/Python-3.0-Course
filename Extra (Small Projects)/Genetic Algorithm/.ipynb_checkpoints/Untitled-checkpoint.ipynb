{
 "cells": [
  {
   "cell_type": "code",
   "execution_count": 1,
   "metadata": {},
   "outputs": [],
   "source": [
    "import random\n",
    "import numpy as np"
   ]
  },
  {
   "cell_type": "code",
   "execution_count": 2,
   "metadata": {},
   "outputs": [
    {
     "name": "stdout",
     "output_type": "stream",
     "text": [
      "Please Enter the number of queens you want: 8\n",
      "Please Enter the number of population: 20\n",
      "Please Enter the mutation rate (0-100) : 20\n"
     ]
    }
   ],
   "source": [
    "n = int(input(\"Please Enter the number of queens you want: \"))\n",
    "p = int(input(\"Please Enter the number of population: \"))\n",
    "mutation_rate = int(input(\"Please Enter the mutation rate (0-100) : \"))\n",
    "epoch = int(input(\"Please Enter The number of epochs: \"))\n",
    "\n",
    "current_generation = []\n",
    "next_generation = []"
   ]
  },
  {
   "cell_type": "code",
   "execution_count": 3,
   "metadata": {},
   "outputs": [],
   "source": [
    "def rnd_generation(p,n):\n",
    "    p_list = []\n",
    "    for i in range(p):\n",
    "        current = []\n",
    "        for i in range(n):\n",
    "            current.append(random.randint(1,n))\n",
    "        current.append(0)\n",
    "        p_list.append(current)\n",
    "    return p_list"
   ]
  },
  {
   "cell_type": "code",
   "execution_count": 4,
   "metadata": {},
   "outputs": [],
   "source": [
    "def fitness(current_generation,n,p):\n",
    "    conflict = 0\n",
    "    for i in range(p):\n",
    "        conflict = 0\n",
    "        for j in range(n):\n",
    "            for z in range(j+1,n):\n",
    "                if current_generation[i][j] == current_generation[i][z]:\n",
    "                    conflict+=1\n",
    "                if abs(j-z)==abs(current_generation[i][j]-current_generation[i][z]):\n",
    "                    conflict+=1\n",
    "        current_generation[i][8]=conflict\n",
    "\n",
    "    for i in range(p):\n",
    "        for j in range(i+1,p):\n",
    "            if current_generation[i][8]> current_generation[j][8]:\n",
    "                temp = current_generation[i]\n",
    "                current_generation[i]=current_generation[j]\n",
    "                current_generation[j]=temp\n",
    "    return current_generation"
   ]
  },
  {
   "cell_type": "code",
   "execution_count": 5,
   "metadata": {},
   "outputs": [],
   "source": [
    "def cross_over(p_list):\n",
    "    for i in range(0,(p//2)-2,2):\n",
    "        p_list[i+(p//2)]=(p_list[i][:n//2])+(p_list[i+1][n//2:n])+[0]\n",
    "        p_list[i+(p//2)+1]=(p_list[i+1][:n//2])+(p_list[i][n//2:n])+[0]\n",
    "    return p_list"
   ]
  },
  {
   "cell_type": "code",
   "execution_count": 6,
   "metadata": {},
   "outputs": [],
   "source": [
    "def mutation(p_list):\n",
    "    if mutation == 0:\n",
    "        return p_list\n",
    "    else:\n",
    "        chosen = []\n",
    "        n_rate = ((p//2)*mutation_rate)//100\n",
    "        i=0\n",
    "        while i< n_rate:\n",
    "            new_rand = random.randint((p//2),p-1)\n",
    "            if new_rand not in chosen:\n",
    "                chosen.append(new_rand)\n",
    "                i+=1\n",
    "        for i in chosen:\n",
    "            new_rand = random.randint(0,n-1)\n",
    "            p_list[i][new_rand] = random.randint(1,n)\n",
    "    print(chosen)\n",
    "    return p_list"
   ]
  },
  {
   "cell_type": "code",
   "execution_count": 7,
   "metadata": {},
   "outputs": [],
   "source": [
    "current_generation = rnd_generation(p,n)\n",
    "current_generation = fitness(current_generation,n,p)\n",
    "current_generation = cross_over(current_generation)\n",
    "current_generation = mutation(current_generation)"
   ]
  },
  {
   "cell_type": "code",
   "execution_count": null,
   "metadata": {},
   "outputs": [],
   "source": []
  }
 ],
 "metadata": {
  "kernelspec": {
   "display_name": "Python 3",
   "language": "python",
   "name": "python3"
  },
  "language_info": {
   "codemirror_mode": {
    "name": "ipython",
    "version": 3
   },
   "file_extension": ".py",
   "mimetype": "text/x-python",
   "name": "python",
   "nbconvert_exporter": "python",
   "pygments_lexer": "ipython3",
   "version": "3.7.3"
  }
 },
 "nbformat": 4,
 "nbformat_minor": 2
}
