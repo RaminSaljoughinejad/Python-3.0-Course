{
 "cells": [
  {
   "cell_type": "code",
   "execution_count": 5,
   "metadata": {},
   "outputs": [],
   "source": [
    "import keras\n",
    "from keras.datasets import mnist\n",
    "from keras.layers import Dense\n",
    "from keras.optimizers import adam\n",
    "from keras.models import Sequential\n",
    "\n",
    "import matplotlib.pyplot as plt\n",
    "import numpy as np"
   ]
  },
  {
   "cell_type": "code",
   "execution_count": 6,
   "metadata": {},
   "outputs": [],
   "source": [
    "(x_train, y_train),(x_test, y_test) = mnist.load_data()"
   ]
  },
  {
   "cell_type": "code",
   "execution_count": 16,
   "metadata": {},
   "outputs": [
    {
     "data": {
      "text/plain": [
       "(60000, 28, 28)"
      ]
     },
     "execution_count": 16,
     "metadata": {},
     "output_type": "execute_result"
    }
   ],
   "source": [
    "x_train.shape"
   ]
  },
  {
   "cell_type": "code",
   "execution_count": 7,
   "metadata": {},
   "outputs": [
    {
     "data": {
      "image/png": "[encoded data removed]",
      "text/plain": [
       "<Figure size 432x288 with 1 Axes>"
      ]
     },
     "metadata": {
      "needs_background": "light"
     },
     "output_type": "display_data"
    },
    {
     "name": "stdout",
     "output_type": "stream",
     "text": [
      "5\n"
     ]
    }
   ],
   "source": [
    "plt.imshow(x_train[0])\n",
    "plt.show()\n",
    "print(y_train[0])"
   ]
  },
  {
   "cell_type": "code",
   "execution_count": 8,
   "metadata": {},
   "outputs": [
    {
     "data": {
      "text/plain": [
       "(28, 28)"
      ]
     },
     "execution_count": 8,
     "metadata": {},
     "output_type": "execute_result"
    }
   ],
   "source": [
    "x_train[0].shape"
   ]
  },
  {
   "cell_type": "code",
   "execution_count": 19,
   "metadata": {},
   "outputs": [
    {
     "name": "stdout",
     "output_type": "stream",
     "text": [
      "# 1000  Picture Done\n",
      "# 2000  Picture Done\n",
      "# 3000  Picture Done\n",
      "# 4000  Picture Done\n",
      "# 5000  Picture Done\n",
      "# 6000  Picture Done\n",
      "# 7000  Picture Done\n",
      "# 8000  Picture Done\n",
      "# 9000  Picture Done\n",
      "# 10000  Picture Done\n",
      "# 11000  Picture Done\n",
      "# 12000  Picture Done\n",
      "# 13000  Picture Done\n",
      "# 14000  Picture Done\n",
      "# 15000  Picture Done\n",
      "# 16000  Picture Done\n",
      "# 17000  Picture Done\n",
      "# 18000  Picture Done\n",
      "# 19000  Picture Done\n",
      "# 20000  Picture Done\n",
      "# 21000  Picture Done\n",
      "# 22000  Picture Done\n",
      "# 23000  Picture Done\n",
      "# 24000  Picture Done\n",
      "# 25000  Picture Done\n",
      "# 26000  Picture Done\n",
      "# 27000  Picture Done\n",
      "# 28000  Picture Done\n",
      "# 29000  Picture Done\n",
      "# 30000  Picture Done\n",
      "# 31000  Picture Done\n",
      "# 32000  Picture Done\n",
      "# 33000  Picture Done\n",
      "# 34000  Picture Done\n",
      "# 35000  Picture Done\n",
      "# 36000  Picture Done\n",
      "# 37000  Picture Done\n",
      "# 38000  Picture Done\n",
      "# 39000  Picture Done\n",
      "# 40000  Picture Done\n",
      "# 41000  Picture Done\n",
      "# 42000  Picture Done\n",
      "# 43000  Picture Done\n",
      "# 44000  Picture Done\n",
      "# 45000  Picture Done\n",
      "# 46000  Picture Done\n",
      "# 47000  Picture Done\n",
      "# 48000  Picture Done\n",
      "# 49000  Picture Done\n",
      "# 50000  Picture Done\n",
      "# 51000  Picture Done\n",
      "# 52000  Picture Done\n",
      "# 53000  Picture Done\n",
      "# 54000  Picture Done\n",
      "# 55000  Picture Done\n",
      "# 56000  Picture Done\n",
      "# 57000  Picture Done\n",
      "# 58000  Picture Done\n",
      "# 59000  Picture Done\n",
      "# 60000  Picture Done\n"
     ]
    }
   ],
   "source": [
    "for i in range(len(x_train)):\n",
    "    for row in range(len(x_train[i])):\n",
    "        for j in range(len(x_train[i][row])):\n",
    "            if x_train[i][row][j] != 0:\n",
    "                x_train[i][row][j]=255\n",
    "    if (i+1)%1000 == 0: \n",
    "        print(\"#\",i+1,\" Picture Done\")"
   ]
  },
  {
   "cell_type": "code",
   "execution_count": 20,
   "metadata": {},
   "outputs": [
    {
     "data": {
      "image/png": "[encoded data removed]",
      "text/plain": [
       "<Figure size 432x288 with 1 Axes>"
      ]
     },
     "metadata": {
      "needs_background": "light"
     },
     "output_type": "display_data"
    }
   ],
   "source": [
    "plt.imshow(x_train[0])\n",
    "plt.show()"
   ]
  },
  {
   "cell_type": "code",
   "execution_count": 22,
   "metadata": {},
   "outputs": [],
   "source": [
    "n_classes = 10\n",
    "y_train = keras.utils.to_categorical(y_train,n_classes)"
   ]
  },
  {
   "cell_type": "code",
   "execution_count": 23,
   "metadata": {},
   "outputs": [
    {
     "name": "stdout",
     "output_type": "stream",
     "text": [
      "[0. 0. 0. 0. 0. 1. 0. 0. 0. 0.]\n"
     ]
    }
   ],
   "source": [
    "print(y_train[0])"
   ]
  },
  {
   "cell_type": "code",
   "execution_count": 24,
   "metadata": {},
   "outputs": [],
   "source": [
    "x_train = x_train.reshape(60000, 784)"
   ]
  },
  {
   "cell_type": "code",
   "execution_count": 25,
   "metadata": {},
   "outputs": [
    {
     "name": "stdout",
     "output_type": "stream",
     "text": [
      "WARNING:tensorflow:From C:\\Users\\Programming\\AppData\\Roaming\\Python\\Python37\\site-packages\\tensorflow\\python\\framework\\op_def_library.py:263: colocate_with (from tensorflow.python.framework.ops) is deprecated and will be removed in a future version.\n",
      "Instructions for updating:\n",
      "Colocations handled automatically by placer.\n",
      "_________________________________________________________________\n",
      "Layer (type)                 Output Shape              Param #   \n",
      "=================================================================\n",
      "dense_1 (Dense)              (None, 64)                50240     \n",
      "_________________________________________________________________\n",
      "dense_2 (Dense)              (None, 10)                650       \n",
      "=================================================================\n",
      "Total params: 50,890\n",
      "Trainable params: 50,890\n",
      "Non-trainable params: 0\n",
      "_________________________________________________________________\n"
     ]
    }
   ],
   "source": [
    "model = Sequential()\n",
    "model.add(Dense((64), activation=\"sigmoid\", input_shape=(784,)))\n",
    "model.add(Dense((10), activation=\"softmax\"))\n",
    "\n",
    "model.summary()"
   ]
  },
  {
   "cell_type": "code",
   "execution_count": 26,
   "metadata": {},
   "outputs": [],
   "source": [
    "model.compile(loss=\"categorical_crossentropy\", optimizer=\"Adam\", metrics=[\"accuracy\"])"
   ]
  },
  {
   "cell_type": "code",
   "execution_count": 44,
   "metadata": {},
   "outputs": [
    {
     "name": "stdout",
     "output_type": "stream",
     "text": [
      "Train on 48000 samples, validate on 12000 samples\n",
      "Epoch 1/20\n",
      "48000/48000 [==============================] - 1s 22us/step - loss: 0.2789 - acc: 0.9160 - val_loss: 0.2611 - val_acc: 0.9196\n",
      "Epoch 2/20\n",
      "48000/48000 [==============================] - 1s 23us/step - loss: 0.2846 - acc: 0.9128 - val_loss: 0.2714 - val_acc: 0.9172\n",
      "Epoch 3/20\n",
      "48000/48000 [==============================] - 1s 21us/step - loss: 0.2736 - acc: 0.9163 - val_loss: 0.2719 - val_acc: 0.9155\n",
      "Epoch 4/20\n",
      "48000/48000 [==============================] - 1s 21us/step - loss: 0.2860 - acc: 0.9140 - val_loss: 0.2882 - val_acc: 0.9152\n",
      "Epoch 5/20\n",
      "48000/48000 [==============================] - 1s 22us/step - loss: 0.2841 - acc: 0.9131 - val_loss: 0.2891 - val_acc: 0.9148\n",
      "Epoch 6/20\n",
      "48000/48000 [==============================] - 1s 22us/step - loss: 0.2780 - acc: 0.9154 - val_loss: 0.2673 - val_acc: 0.9207\n",
      "Epoch 7/20\n",
      "48000/48000 [==============================] - 1s 22us/step - loss: 0.2810 - acc: 0.9153 - val_loss: 0.2758 - val_acc: 0.9157\n",
      "Epoch 8/20\n",
      "48000/48000 [==============================] - 1s 23us/step - loss: 0.2707 - acc: 0.9178 - val_loss: 0.2639 - val_acc: 0.9219\n",
      "Epoch 9/20\n",
      "48000/48000 [==============================] - 1s 22us/step - loss: 0.2660 - acc: 0.9201 - val_loss: 0.2649 - val_acc: 0.9208\n",
      "Epoch 10/20\n",
      "48000/48000 [==============================] - 1s 22us/step - loss: 0.2752 - acc: 0.9165 - val_loss: 0.2910 - val_acc: 0.9123\n",
      "Epoch 11/20\n",
      "48000/48000 [==============================] - 1s 24us/step - loss: 0.2902 - acc: 0.9126 - val_loss: 0.2867 - val_acc: 0.9134\n",
      "Epoch 12/20\n",
      "48000/48000 [==============================] - 1s 26us/step - loss: 0.2790 - acc: 0.9143 - val_loss: 0.2782 - val_acc: 0.9142\n",
      "Epoch 13/20\n",
      "48000/48000 [==============================] - 1s 25us/step - loss: 0.2910 - acc: 0.9106 - val_loss: 0.2774 - val_acc: 0.9157\n",
      "Epoch 14/20\n",
      "48000/48000 [==============================] - 1s 26us/step - loss: 0.2694 - acc: 0.9179 - val_loss: 0.2589 - val_acc: 0.9253\n",
      "Epoch 15/20\n",
      "48000/48000 [==============================] - 1s 26us/step - loss: 0.2665 - acc: 0.9185 - val_loss: 0.2753 - val_acc: 0.9176\n",
      "Epoch 16/20\n",
      "48000/48000 [==============================] - 1s 26us/step - loss: 0.2808 - acc: 0.9144 - val_loss: 0.2779 - val_acc: 0.9158\n",
      "Epoch 17/20\n",
      "48000/48000 [==============================] - 1s 24us/step - loss: 0.2819 - acc: 0.9135 - val_loss: 0.2909 - val_acc: 0.9093\n",
      "Epoch 18/20\n",
      "48000/48000 [==============================] - 1s 24us/step - loss: 0.2791 - acc: 0.9146 - val_loss: 0.2637 - val_acc: 0.9196\n",
      "Epoch 19/20\n",
      "48000/48000 [==============================] - 1s 23us/step - loss: 0.2698 - acc: 0.9177 - val_loss: 0.2711 - val_acc: 0.9177\n",
      "Epoch 20/20\n",
      "48000/48000 [==============================] - 1s 23us/step - loss: 0.2638 - acc: 0.9188 - val_loss: 0.2647 - val_acc: 0.9178\n"
     ]
    },
    {
     "data": {
      "text/plain": [
       "<keras.callbacks.History at 0x20c77b52b00>"
      ]
     },
     "execution_count": 44,
     "metadata": {},
     "output_type": "execute_result"
    }
   ],
   "source": [
    "model.fit(x_train,y_train, batch_size=128, epochs=20, validation_split=0.2)"
   ]
  },
  {
   "cell_type": "code",
   "execution_count": 29,
   "metadata": {},
   "outputs": [
    {
     "name": "stdout",
     "output_type": "stream",
     "text": [
      "[[3.3866987e-04 4.1713656e-04 1.7536933e-02 3.6980069e-01 4.1910657e-06\n",
      "  6.0459107e-01 5.4076128e-05 3.4089377e-03 2.9113772e-03 9.3702617e-04]]\n"
     ]
    }
   ],
   "source": [
    "Prediction = model.predict([[x_train[0]]])\n",
    "print(Prediction)"
   ]
  },
  {
   "cell_type": "code",
   "execution_count": 30,
   "metadata": {},
   "outputs": [
    {
     "name": "stdout",
     "output_type": "stream",
     "text": [
      "5\n"
     ]
    }
   ],
   "source": [
    "max_num = Prediction.max()\n",
    "Prediction = Prediction.tolist()\n",
    "x = 0;\n",
    "Prediction = Prediction[0]\n",
    "for items in Prediction:\n",
    "    if(items==max_num):\n",
    "        break;\n",
    "    x+=1\n",
    "print(x)"
   ]
  },
  {
   "cell_type": "code",
   "execution_count": 31,
   "metadata": {},
   "outputs": [],
   "source": [
    "import cv2"
   ]
  },
  {
   "cell_type": "code",
   "execution_count": 62,
   "metadata": {},
   "outputs": [],
   "source": [
    "my_image = cv2.imread(\"myimage.png\")"
   ]
  },
  {
   "cell_type": "code",
   "execution_count": 63,
   "metadata": {},
   "outputs": [],
   "source": [
    "new_image = my_image[:,:,0]\n",
    "new_image = np.array(new_image)"
   ]
  },
  {
   "cell_type": "code",
   "execution_count": 64,
   "metadata": {},
   "outputs": [
    {
     "data": {
      "text/plain": [
       "(28, 28)"
      ]
     },
     "execution_count": 64,
     "metadata": {},
     "output_type": "execute_result"
    }
   ],
   "source": [
    "new_image.shape"
   ]
  },
  {
   "cell_type": "code",
   "execution_count": 65,
   "metadata": {},
   "outputs": [
    {
     "data": {
      "image/png": "[encoded data removed]",
      "text/plain": [
       "<Figure size 432x288 with 1 Axes>"
      ]
     },
     "metadata": {
      "needs_background": "light"
     },
     "output_type": "display_data"
    }
   ],
   "source": [
    "plt.imshow(new_image)\n",
    "plt.show()"
   ]
  },
  {
   "cell_type": "code",
   "execution_count": 66,
   "metadata": {},
   "outputs": [
    {
     "name": "stdout",
     "output_type": "stream",
     "text": [
      "[[  0   0   0   0   0   0   0   0   0   0   0   0   0   0   0   0   0   0\n",
      "    0   0   0   0   0   0   0   0   0   0]\n",
      " [  0   0   0   0   0   0   0   0   0   0   0   0   0   0   0   0   0   0\n",
      "    0   0   0   0   0   0   0   0   0   0]\n",
      " [  0   0   0   0   0   0   0   0   0   0   0   0   0   0   0   0   0   0\n",
      "    0   0   0   0   0   0   0   0   0   0]\n",
      " [  0   0   0   0   0   0   0   0   0   0   0   0   0   0   0   0   0   0\n",
      "    0   0   0   0   0   0   0   0   0   0]\n",
      " [  0   0   0   0   0   0   0   0   0   0   0   0   0   0   0   0   0   0\n",
      "    0   0 255   0   0   0   0   0   0   0]\n",
      " [  0   0   0   0   0   0   0 255 255 255 255 255 255 255 255 255 255 255\n",
      "  255 255 255 255 255   0   0   0   0   0]\n",
      " [  0   0   0   0   0   0 255 255 255 255 255 255 255 255 255 255 255 255\n",
      "  255 255 255 255 255   0   0   0   0   0]\n",
      " [  0   0   0   0   0 255 255 255 255 255 255 255 255 255 255 255 255 255\n",
      "  255 255 255 255 255   0   0   0   0   0]\n",
      " [  0   0   0   0   0   0 255 255 255 255 255 255 255 255 255 255 255 255\n",
      "  255 255 255 255 255   0   0   0   0   0]\n",
      " [  0   0   0   0   0   0   0   0   0   0   0   0   0   0   0   0   0   0\n",
      "  255 255 255 255   0   0   0   0   0   0]\n",
      " [  0   0   0   0   0   0   0   0   0   0   0   0   0   0   0   0   0 255\n",
      "  255 255 255 255   0   0   0   0   0   0]\n",
      " [  0   0   0   0   0   0   0   0   0   0   0   0   0   0   0   0   0 255\n",
      "  255 255 255   0   0   0   0   0   0   0]\n",
      " [  0   0   0   0   0   0   0   0   0   0   0   0   0   0   0   0 255 255\n",
      "  255 255 255   0   0   0   0   0   0   0]\n",
      " [  0   0   0   0   0   0   0   0   0   0   0   0   0   0   0   0 255 255\n",
      "  255 255   0   0   0   0   0   0   0   0]\n",
      " [  0   0   0   0   0   0   0   0   0   0   0   0   0   0   0 255 255 255\n",
      "  255 255   0   0   0   0   0   0   0   0]\n",
      " [  0   0   0   0   0   0   0   0   0   0   0   0   0   0   0 255 255 255\n",
      "  255   0   0   0   0   0   0   0   0   0]\n",
      " [  0   0   0   0   0   0   0   0   0   0   0   0   0   0 255 255 255 255\n",
      "  255   0   0   0   0   0   0   0   0   0]\n",
      " [  0   0   0   0   0   0   0   0   0   0   0   0   0 255 255 255 255 255\n",
      "    0   0   0   0   0   0   0   0   0   0]\n",
      " [  0   0   0   0   0   0   0   0   0   0   0   0 255 255 255 255 255   0\n",
      "    0   0   0   0   0   0   0   0   0   0]\n",
      " [  0   0   0   0   0   0   0   0   0   0   0   0 255 255 255 255 255   0\n",
      "    0   0   0   0   0   0   0   0   0   0]\n",
      " [  0   0   0   0   0   0   0   0   0   0   0 255 255 255 255 255   0   0\n",
      "    0   0   0   0   0   0   0   0   0   0]\n",
      " [  0   0   0   0   0   0   0   0   0   0   0 255 255 255 255   0   0   0\n",
      "    0   0   0   0   0   0   0   0   0   0]\n",
      " [  0   0   0   0   0   0   0   0   0   0   0 255 255 255 255   0   0   0\n",
      "    0   0   0   0   0   0   0   0   0   0]\n",
      " [  0   0   0   0   0   0   0   0   0   0 255 255 255 255 255   0   0   0\n",
      "    0   0   0   0   0   0   0   0   0   0]\n",
      " [  0   0   0   0   0   0   0   0   0 255 255 255 255 255   0   0   0   0\n",
      "    0   0   0   0   0   0   0   0   0   0]\n",
      " [  0   0   0   0   0   0   0   0 255 255 255 255 255 255   0   0   0   0\n",
      "    0   0   0   0   0   0   0   0   0   0]\n",
      " [  0   0   0   0   0   0   0   0   0 255 255 255 255   0   0   0   0   0\n",
      "    0   0   0   0   0   0   0   0   0   0]\n",
      " [  0   0   0   0   0   0   0   0   0   0   0   0   0   0   0   0   0   0\n",
      "    0   0   0   0   0   0   0   0   0   0]]\n"
     ]
    }
   ],
   "source": [
    "new_image = 255 - new_image\n",
    "print(new_image)"
   ]
  },
  {
   "cell_type": "code",
   "execution_count": 67,
   "metadata": {},
   "outputs": [
    {
     "data": {
      "image/png": "[encoded data removed]",
      "text/plain": [
       "<Figure size 432x288 with 1 Axes>"
      ]
     },
     "metadata": {
      "needs_background": "light"
     },
     "output_type": "display_data"
    }
   ],
   "source": [
    "plt.imshow(new_image)\n",
    "plt.show()"
   ]
  },
  {
   "cell_type": "code",
   "execution_count": 68,
   "metadata": {},
   "outputs": [],
   "source": [
    "new_image = new_image.reshape(1, 784)"
   ]
  },
  {
   "cell_type": "code",
   "execution_count": 69,
   "metadata": {},
   "outputs": [
    {
     "data": {
      "text/plain": [
       "(1, 784)"
      ]
     },
     "execution_count": 69,
     "metadata": {},
     "output_type": "execute_result"
    }
   ],
   "source": [
    "new_image.shape"
   ]
  },
  {
   "cell_type": "code",
   "execution_count": 70,
   "metadata": {},
   "outputs": [
    {
     "name": "stdout",
     "output_type": "stream",
     "text": [
      "[[  0   0   0   0   0   0   0   0   0   0   0   0   0   0   0   0   0   0\n",
      "    0   0   0   0   0   0   0   0   0   0   0   0   0   0   0   0   0   0\n",
      "    0   0   0   0   0   0   0   0   0   0   0   0   0   0   0   0   0   0\n",
      "    0   0   0   0   0   0   0   0   0   0   0   0   0   0   0   0   0   0\n",
      "    0   0   0   0   0   0   0   0   0   0   0   0   0   0   0   0   0   0\n",
      "    0   0   0   0   0   0   0   0   0   0   0   0   0   0   0   0   0   0\n",
      "    0   0   0   0   0   0   0   0   0   0   0   0   0   0   0   0   0   0\n",
      "    0   0   0   0   0   0 255   0   0   0   0   0   0   0   0   0   0   0\n",
      "    0   0   0 255 255 255 255 255 255 255 255 255 255 255 255 255 255 255\n",
      "  255   0   0   0   0   0   0   0   0   0   0   0 255 255 255 255 255 255\n",
      "  255 255 255 255 255 255 255 255 255 255 255   0   0   0   0   0   0   0\n",
      "    0   0   0 255 255 255 255 255 255 255 255 255 255 255 255 255 255 255\n",
      "  255 255 255   0   0   0   0   0   0   0   0   0   0   0 255 255 255 255\n",
      "  255 255 255 255 255 255 255 255 255 255 255 255 255   0   0   0   0   0\n",
      "    0   0   0   0   0   0   0   0   0   0   0   0   0   0   0   0   0   0\n",
      "  255 255 255 255   0   0   0   0   0   0   0   0   0   0   0   0   0   0\n",
      "    0   0   0   0   0   0   0   0   0 255 255 255 255 255   0   0   0   0\n",
      "    0   0   0   0   0   0   0   0   0   0   0   0   0   0   0   0   0   0\n",
      "    0 255 255 255 255   0   0   0   0   0   0   0   0   0   0   0   0   0\n",
      "    0   0   0   0   0   0   0   0   0   0 255 255 255 255 255   0   0   0\n",
      "    0   0   0   0   0   0   0   0   0   0   0   0   0   0   0   0   0   0\n",
      "    0   0 255 255 255 255   0   0   0   0   0   0   0   0   0   0   0   0\n",
      "    0   0   0   0   0   0   0   0   0   0   0 255 255 255 255 255   0   0\n",
      "    0   0   0   0   0   0   0   0   0   0   0   0   0   0   0   0   0   0\n",
      "    0   0   0 255 255 255 255   0   0   0   0   0   0   0   0   0   0   0\n",
      "    0   0   0   0   0   0   0   0   0   0   0   0 255 255 255 255 255   0\n",
      "    0   0   0   0   0   0   0   0   0   0   0   0   0   0   0   0   0   0\n",
      "    0   0   0 255 255 255 255 255   0   0   0   0   0   0   0   0   0   0\n",
      "    0   0   0   0   0   0   0   0   0   0   0   0 255 255 255 255 255   0\n",
      "    0   0   0   0   0   0   0   0   0   0   0   0   0   0   0   0   0   0\n",
      "    0   0   0   0 255 255 255 255 255   0   0   0   0   0   0   0   0   0\n",
      "    0   0   0   0   0   0   0   0   0   0   0   0   0 255 255 255 255 255\n",
      "    0   0   0   0   0   0   0   0   0   0   0   0   0   0   0   0   0   0\n",
      "    0   0   0   0   0 255 255 255 255   0   0   0   0   0   0   0   0   0\n",
      "    0   0   0   0   0   0   0   0   0   0   0   0   0   0   0 255 255 255\n",
      "  255   0   0   0   0   0   0   0   0   0   0   0   0   0   0   0   0   0\n",
      "    0   0   0   0   0   0 255 255 255 255 255   0   0   0   0   0   0   0\n",
      "    0   0   0   0   0   0   0   0   0   0   0   0   0   0   0 255 255 255\n",
      "  255 255   0   0   0   0   0   0   0   0   0   0   0   0   0   0   0   0\n",
      "    0   0   0   0   0   0 255 255 255 255 255 255   0   0   0   0   0   0\n",
      "    0   0   0   0   0   0   0   0   0   0   0   0   0   0   0   0   0 255\n",
      "  255 255 255   0   0   0   0   0   0   0   0   0   0   0   0   0   0   0\n",
      "    0   0   0   0   0   0   0   0   0   0   0   0   0   0   0   0   0   0\n",
      "    0   0   0   0   0   0   0   0   0   0]]\n"
     ]
    }
   ],
   "source": [
    "print(new_image)"
   ]
  },
  {
   "cell_type": "code",
   "execution_count": 71,
   "metadata": {},
   "outputs": [
    {
     "name": "stdout",
     "output_type": "stream",
     "text": [
      "[[1.5130385e-05 1.7774746e-05 2.0288108e-03 2.8161325e-02 1.3953095e-06\n",
      "  1.4187045e-03 4.2552747e-07 9.6519023e-01 6.0647470e-04 2.5596833e-03]]\n"
     ]
    }
   ],
   "source": [
    "Prediction = model.predict(new_image)\n",
    "print(Prediction)"
   ]
  },
  {
   "cell_type": "code",
   "execution_count": 72,
   "metadata": {},
   "outputs": [
    {
     "name": "stdout",
     "output_type": "stream",
     "text": [
      "7\n"
     ]
    }
   ],
   "source": [
    "max_num = Prediction.max()\n",
    "Prediction = Prediction.tolist()\n",
    "x = 0;\n",
    "Prediction = Prediction[0]\n",
    "for items in Prediction:\n",
    "    if(items==max_num):\n",
    "        break;\n",
    "    x+=1\n",
    "print(x)"
   ]
  },
  {
   "cell_type": "code",
   "execution_count": 56,
   "metadata": {},
   "outputs": [],
   "source": [
    "for i in range(len(x_test[0])):\n",
    "    for row in range(len(x_test[i])):\n",
    "        for j in range(len(x_test[i][row])):\n",
    "            if x_test[i][row][j] != 0:\n",
    "                x_test[i][row][j]=255\n",
    "    if (i+1)%1000 == 0: \n",
    "        print(\"#\",i+1,\" Picture Done\")"
   ]
  },
  {
   "cell_type": "code",
   "execution_count": 57,
   "metadata": {},
   "outputs": [
    {
     "data": {
      "image/png": "[encoded data removed]",
      "text/plain": [
       "<Figure size 432x288 with 1 Axes>"
      ]
     },
     "metadata": {
      "needs_background": "light"
     },
     "output_type": "display_data"
    }
   ],
   "source": [
    "plt.imshow(x_test[0])\n",
    "plt.show()"
   ]
  },
  {
   "cell_type": "code",
   "execution_count": 59,
   "metadata": {},
   "outputs": [],
   "source": [
    "new_image = x_test[0].reshape(1, 784)"
   ]
  },
  {
   "cell_type": "code",
   "execution_count": 60,
   "metadata": {},
   "outputs": [
    {
     "name": "stdout",
     "output_type": "stream",
     "text": [
      "[[5.1808547e-07 2.4831628e-08 3.5312423e-06 3.2686527e-05 3.6326604e-08\n",
      "  7.7051709e-08 8.1155412e-12 9.9994552e-01 3.3663281e-07 1.7326372e-05]]\n"
     ]
    }
   ],
   "source": [
    "Prediction = model.predict(new_image)\n",
    "print(Prediction)"
   ]
  },
  {
   "cell_type": "code",
   "execution_count": 61,
   "metadata": {},
   "outputs": [
    {
     "name": "stdout",
     "output_type": "stream",
     "text": [
      "7\n"
     ]
    }
   ],
   "source": [
    "max_num = Prediction.max()\n",
    "Prediction = Prediction.tolist()\n",
    "x = 0;\n",
    "Prediction = Prediction[0]\n",
    "for items in Prediction:\n",
    "    if(items==max_num):\n",
    "        break;\n",
    "    x+=1\n",
    "print(x)"
   ]
  },
  {
   "cell_type": "code",
   "execution_count": 82,
   "metadata": {},
   "outputs": [],
   "source": [
    "import keras\n",
    "from keras.datasets import mnist\n",
    "from keras.models import Sequential\n",
    "from keras.layers import Dense,Dropout, Conv2D ,Flatten, MaxPooling2D\n",
    "from keras.optimizers import SGD, Adam\n",
    "import matplotlib.pyplot as plt"
   ]
  },
  {
   "cell_type": "code",
   "execution_count": 83,
   "metadata": {},
   "outputs": [],
   "source": [
    "x_train = x_train.reshape(60000, 28,28,1)"
   ]
  },
  {
   "cell_type": "code",
   "execution_count": 85,
   "metadata": {},
   "outputs": [
    {
     "name": "stdout",
     "output_type": "stream",
     "text": [
      "_________________________________________________________________\n",
      "Layer (type)                 Output Shape              Param #   \n",
      "=================================================================\n",
      "conv2d_3 (Conv2D)            (None, 26, 26, 32)        320       \n",
      "_________________________________________________________________\n",
      "conv2d_4 (Conv2D)            (None, 24, 24, 64)        18496     \n",
      "_________________________________________________________________\n",
      "max_pooling2d_2 (MaxPooling2 (None, 12, 12, 64)        0         \n",
      "_________________________________________________________________\n",
      "dropout_3 (Dropout)          (None, 12, 12, 64)        0         \n",
      "_________________________________________________________________\n",
      "flatten_2 (Flatten)          (None, 9216)              0         \n",
      "_________________________________________________________________\n",
      "dense_5 (Dense)              (None, 128)               1179776   \n",
      "_________________________________________________________________\n",
      "dropout_4 (Dropout)          (None, 128)               0         \n",
      "_________________________________________________________________\n",
      "dense_6 (Dense)              (None, 10)                1290      \n",
      "=================================================================\n",
      "Total params: 1,199,882\n",
      "Trainable params: 1,199,882\n",
      "Non-trainable params: 0\n",
      "_________________________________________________________________\n"
     ]
    }
   ],
   "source": [
    "model = Sequential()\n",
    "model.add(Conv2D((32), activation=\"tanh\", kernel_size=3, input_shape=(28,28,1)))\n",
    "model.add(Conv2D((64), activation=\"tanh\", kernel_size=3))\n",
    "model.add(MaxPooling2D(pool_size=(2,2)))\n",
    "model.add(Dropout(0.25))\n",
    "model.add(Flatten())\n",
    "model.add(Dense(128, activation='relu'))\n",
    "model.add(Dropout(0.25))\n",
    "model.add(Dense(10, activation=\"softmax\"))\n",
    "\n",
    "model.summary()"
   ]
  },
  {
   "cell_type": "code",
   "execution_count": 86,
   "metadata": {},
   "outputs": [],
   "source": [
    "model.compile(loss=\"categorical_crossentropy\", optimizer=\"Adam\", metrics=[\"accuracy\"])"
   ]
  },
  {
   "cell_type": "code",
   "execution_count": 88,
   "metadata": {},
   "outputs": [
    {
     "name": "stdout",
     "output_type": "stream",
     "text": [
      "Train on 54000 samples, validate on 6000 samples\n",
      "Epoch 1/1\n",
      "54000/54000 [==============================] - 142s 3ms/step - loss: 0.0533 - acc: 0.9824 - val_loss: 0.0587 - val_acc: 0.9825\n"
     ]
    },
    {
     "data": {
      "text/plain": [
       "<keras.callbacks.History at 0x20c785324e0>"
      ]
     },
     "execution_count": 88,
     "metadata": {},
     "output_type": "execute_result"
    }
   ],
   "source": [
    "model.fit(x_train,y_train, batch_size=128, epochs=1, validation_split=0.1)"
   ]
  },
  {
   "cell_type": "code",
   "execution_count": 107,
   "metadata": {},
   "outputs": [],
   "source": [
    "my_image = cv2.imread(\"myimage.png\")"
   ]
  },
  {
   "cell_type": "code",
   "execution_count": 108,
   "metadata": {},
   "outputs": [],
   "source": [
    "new_image = my_image[:,:,0]\n",
    "new_image = np.array(new_image)"
   ]
  },
  {
   "cell_type": "code",
   "execution_count": 109,
   "metadata": {},
   "outputs": [
    {
     "name": "stdout",
     "output_type": "stream",
     "text": [
      "[[  0   0   0   0   0   0   0   0   0   0   0   0   0   0   0   0   0   0\n",
      "    0   0   0   0   0   0   0   0   0   0]\n",
      " [  0   0   0   0   0   0   0   0   0   0   0   0   0   0   0   0   0   0\n",
      "    0   0   0   0   0   0   0   0   0   0]\n",
      " [  0   0   0   0   0   0   0   0   0   0   0   0   0   0   0   0   0   0\n",
      "    0   0   0   0   0   0   0   0   0   0]\n",
      " [  0   0   0   0   0   0   0   0   0   0   0   0   0   0   0   0   0   0\n",
      "    0   0   0   0   0   0   0   0   0   0]\n",
      " [  0   0   0   0   0   0   0   0   0 255 255 255 255 255 255 255 255 255\n",
      "    0   0   0   0   0   0   0   0   0   0]\n",
      " [  0   0   0   0   0   0   0   0 255 255 255 255 255 255 255 255 255 255\n",
      "    0   0   0   0   0   0   0   0   0   0]\n",
      " [  0   0   0   0   0   0   0   0 255 255 255 255 255 255 255 255 255 255\n",
      "  255   0   0   0   0   0   0   0   0   0]\n",
      " [  0   0   0   0   0   0   0   0 255 255 255   0   0   0   0 255 255 255\n",
      "  255   0   0   0   0   0   0   0   0   0]\n",
      " [  0   0   0   0   0   0   0   0 255 255 255   0   0   0   0   0 255 255\n",
      "  255   0   0   0   0   0   0   0   0   0]\n",
      " [  0   0   0   0   0   0   0   0   0   0   0   0   0   0   0   0 255 255\n",
      "  255   0   0   0   0   0   0   0   0   0]\n",
      " [  0   0   0   0   0   0   0   0   0   0   0   0   0   0   0 255 255 255\n",
      "  255   0   0   0   0   0   0   0   0   0]\n",
      " [  0   0   0   0   0   0   0   0   0   0   0   0   0 255 255 255 255 255\n",
      "  255   0   0   0   0   0   0   0   0   0]\n",
      " [  0   0   0   0   0   0   0   0   0   0   0   0 255 255 255 255 255 255\n",
      "  255 255   0   0   0   0   0   0   0   0]\n",
      " [  0   0   0   0   0   0   0   0   0   0 255 255 255 255 255 255 255 255\n",
      "  255 255 255   0   0   0   0   0   0   0]\n",
      " [  0   0   0   0   0   0   0   0   0   0 255 255 255 255 255 255 255 255\n",
      "  255 255 255 255   0   0   0   0   0   0]\n",
      " [  0   0   0   0   0   0   0   0   0   0 255 255 255 255 255 255   0 255\n",
      "  255 255 255 255   0   0   0   0   0   0]\n",
      " [  0   0   0   0   0   0   0   0   0   0 255 255 255   0   0   0   0   0\n",
      "  255 255 255 255   0   0   0   0   0   0]\n",
      " [  0   0   0   0   0   0   0   0   0   0   0   0   0   0   0   0   0   0\n",
      "    0 255 255 255   0   0   0   0   0   0]\n",
      " [  0   0   0   0   0   0   0   0   0   0   0   0   0   0   0   0   0   0\n",
      "    0 255 255 255   0   0   0   0   0   0]\n",
      " [  0   0   0   0   0   0   0   0   0   0   0   0   0   0   0   0   0   0\n",
      "    0 255 255 255   0   0   0   0   0   0]\n",
      " [  0   0   0   0   0   0   0   0   0   0   0   0   0   0   0   0   0   0\n",
      "    0 255 255 255   0   0   0   0   0   0]\n",
      " [  0   0   0   0   0   0   0   0   0   0   0   0   0   0   0   0   0   0\n",
      "  255 255 255 255   0   0   0   0   0   0]\n",
      " [  0   0   0   0   0   0   0   0   0   0   0   0   0   0   0 255 255 255\n",
      "  255 255 255 255   0   0   0   0   0   0]\n",
      " [  0   0   0   0   0   0   0   0   0   0   0   0   0   0 255 255 255 255\n",
      "  255 255 255 255   0   0   0   0   0   0]\n",
      " [  0   0   0   0   0   0   0   0   0   0   0 255 255 255 255 255 255 255\n",
      "  255 255   0   0   0   0   0   0   0   0]\n",
      " [  0   0   0   0   0   0   0   0   0   0   0 255 255 255 255 255 255 255\n",
      "    0   0   0   0   0   0   0   0   0   0]\n",
      " [  0   0   0   0   0   0   0   0   0   0   0 255 255 255 255 255 255   0\n",
      "    0   0   0   0   0   0   0   0   0   0]\n",
      " [  0   0   0   0   0   0   0   0   0   0   0   0   0   0   0   0   0   0\n",
      "    0   0   0   0   0   0   0   0   0   0]]\n"
     ]
    }
   ],
   "source": [
    "new_image = 255 - new_image\n",
    "print(new_image)"
   ]
  },
  {
   "cell_type": "code",
   "execution_count": 110,
   "metadata": {},
   "outputs": [],
   "source": [
    "new_image = new_image.reshape(1, 28,28,1)"
   ]
  },
  {
   "cell_type": "code",
   "execution_count": 111,
   "metadata": {},
   "outputs": [
    {
     "name": "stdout",
     "output_type": "stream",
     "text": [
      "[[8.6804052e-14 3.7102010e-12 5.7456035e-09 9.9999976e-01 2.8211390e-13\n",
      "  1.5770753e-07 1.9393973e-13 1.3931067e-07 1.1214864e-10 7.1425005e-10]]\n"
     ]
    }
   ],
   "source": [
    "Prediction = model.predict(new_image)\n",
    "print(Prediction)"
   ]
  },
  {
   "cell_type": "code",
   "execution_count": 112,
   "metadata": {},
   "outputs": [
    {
     "name": "stdout",
     "output_type": "stream",
     "text": [
      "3\n"
     ]
    }
   ],
   "source": [
    "max_num = Prediction.max()\n",
    "Prediction = Prediction.tolist()\n",
    "x = 0;\n",
    "Prediction = Prediction[0]\n",
    "for items in Prediction:\n",
    "    if(items==max_num):\n",
    "        break;\n",
    "    x+=1\n",
    "print(x)"
   ]
  }
 ],
 "metadata": {
  "kernelspec": {
   "display_name": "Python 3",
   "language": "python",
   "name": "python3"
  },
  "language_info": {
   "codemirror_mode": {
    "name": "ipython",
    "version": 3
   },
   "file_extension": ".py",
   "mimetype": "text/x-python",
   "name": "python",
   "nbconvert_exporter": "python",
   "pygments_lexer": "ipython3",
   "version": "3.7.3"
  }
 },
 "nbformat": 4,
 "nbformat_minor": 2
}
