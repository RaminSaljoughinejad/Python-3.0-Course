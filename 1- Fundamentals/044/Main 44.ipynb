{
 "cells": [
  {
   "cell_type": "markdown",
   "metadata": {},
   "source": [
    "# <span style='color:green;'>Exercise 044</span>\n",
    "<span style='color:red;'>Files</span><br>\n",
    "<span style='color:blue;font-size:18px'>Before Running the code in this section, check the number of files and their content in this folder.</span><br>\n",
    "<span style='color:blue;font-size:18px'>They will permanently change once you run the code.</span><br><br>\n",
    "<span>Writing Files</span><br>\n",
    "<span style='color:red;'>Write mode will delete the existing file data.</span><br>\n",
    "<span style='display:none;'>Copyright All Rights Reserved Ramin Saljoughinejad</span>"
   ]
  },
  {
   "cell_type": "code",
   "execution_count": 1,
   "metadata": {},
   "outputs": [
    {
     "name": "stdout",
     "output_type": "stream",
     "text": [
      "Hello, this is the first line of my txt file.\n",
      "This one is the second line of my txt file.\n",
      "And finaly, this is the the third and last line of my txt file.\n"
     ]
    }
   ],
   "source": [
    "myFile = open(\"test.txt\", \"r\")\n",
    "print(myFile.read())"
   ]
  },
  {
   "cell_type": "code",
   "execution_count": 2,
   "metadata": {},
   "outputs": [
    {
     "name": "stdout",
     "output_type": "stream",
     "text": [
      "This line is going to get inserted to the file.\n"
     ]
    }
   ],
   "source": [
    "myFile = open(\"test.txt\", \"w\")\n",
    "myFile.write(\"This line is going to get inserted to the file.\")\n",
    "myFile.close()\n",
    "\n",
    "myFile = open(\"test.txt\", \"r\")\n",
    "print(myFile.read())\n",
    "myFile.close()"
   ]
  },
  {
   "cell_type": "markdown",
   "metadata": {},
   "source": [
    "#### <span style='color:Purple;'>Write mode will create a file, if it does not already exist.</span>"
   ]
  },
  {
   "cell_type": "code",
   "execution_count": 3,
   "metadata": {},
   "outputs": [
    {
     "name": "stdout",
     "output_type": "stream",
     "text": [
      "Hello, and welcome to Python 3.x class.\n"
     ]
    }
   ],
   "source": [
    "myFile = open(\"NewFile.txt\", \"w\")\n",
    "myFile.write(\"Hello, and welcome to Python 3.x class.\")\n",
    "myFile.close()\n",
    "\n",
    "myFile = open(\"NewFile.txt\", \"r\")\n",
    "print(myFile.read())\n",
    "myFile.close()"
   ]
  },
  {
   "cell_type": "markdown",
   "metadata": {},
   "source": [
    "#### <span style='color:Purple;'>the write method returns the number of bytes written to a file, if successful.</span>"
   ]
  },
  {
   "cell_type": "code",
   "execution_count": 4,
   "metadata": {},
   "outputs": [
    {
     "name": "stdout",
     "output_type": "stream",
     "text": [
      "74\n",
      "In this couse you will learn everything about Python Programming Language.\n"
     ]
    }
   ],
   "source": [
    "myFile = open(\"NewFile.txt\", \"w\")\n",
    "written_count = myFile.write(\"In this couse you will learn everything about Python Programming Language.\")\n",
    "print(written_count)\n",
    "myFile.close()\n",
    "\n",
    "myFile = open(\"NewFile.txt\", \"r\")\n",
    "print(myFile.read())\n",
    "myFile.close()"
   ]
  }
,  {
   "cell_type": "markdown",
   "metadata": {},
   "source": [
    "<div style='width:178px;float:right;'>\n",
    "<a style='text-decoration:none;color:white;background-color:green;padding:10px 16px 10px 16px;float:left;border-top-left-radius:15px;border-bottom-left-radius:15px;' href='../043/Main 43.ipynb'>Previous</a>\n",
    "<a style='text-decoration:none;color:white;background-color:green;padding:10px 30px 10px 30px;float:right;border-top-right-radius:15px;border-bottom-right-radius:15px;' href='../045/Main 45.ipynb'>Next</a>\n",
    "</div>"
   ]
  }
 ],
 "metadata": {
  "kernelspec": {
   "display_name": "Python 3",
   "language": "python",
   "name": "python3"
  },
  "language_info": {
   "codemirror_mode": {
    "name": "ipython",
    "version": 3
   },
   "file_extension": ".py",
   "mimetype": "text/x-python",
   "name": "python",
   "nbconvert_exporter": "python",
   "pygments_lexer": "ipython3",
   "version": "3.7.3"
  }
 },
 "nbformat": 4,
 "nbformat_minor": 2
}
