{
 "cells": [
  {
   "cell_type": "markdown",
   "metadata": {},
   "source": [
    "# <span style='color:green;'>Exercise 029</span>\n",
    "<span style='color:red'>Functions</span><br>\n",
    "<span style='display:none;'>Copyright All Rights Reserved Ramin Saljoughinejad</span>"
   ]
  },
  {
   "cell_type": "code",
   "execution_count": 1,
   "metadata": {},
   "outputs": [
    {
     "name": "stdout",
     "output_type": "stream",
     "text": [
      "Hello, World\n",
      "range(2, 10)\n",
      "123\n",
      "12\n"
     ]
    }
   ],
   "source": [
    "print(\"Hello, World\")\n",
    "print(range(2,10))\n",
    "print(str(123))\n",
    "print(len(\"Hello, World\"))"
   ]
  },
  {
   "cell_type": "markdown",
   "metadata": {},
   "source": [
    "#### <span style='color:purple;'>Defining Functions</span>"
   ]
  },
  {
   "cell_type": "code",
   "execution_count": 2,
   "metadata": {},
   "outputs": [],
   "source": [
    "def my_func():\n",
    "    print(\"Hello\")\n",
    "    print(\"Hello\")\n",
    "    print(\"Hello\")\n",
    "    print(\"Hello\")"
   ]
  },
  {
   "cell_type": "code",
   "execution_count": 3,
   "metadata": {},
   "outputs": [
    {
     "name": "stdout",
     "output_type": "stream",
     "text": [
      "Hello\n",
      "Hello\n",
      "Hello\n",
      "Hello\n"
     ]
    }
   ],
   "source": [
    "my_func()"
   ]
  },
  {
   "cell_type": "code",
   "execution_count": 4,
   "metadata": {},
   "outputs": [],
   "source": [
    "def mul(x,y):\n",
    "    print(x*y)"
   ]
  },
  {
   "cell_type": "code",
   "execution_count": 5,
   "metadata": {},
   "outputs": [
    {
     "name": "stdout",
     "output_type": "stream",
     "text": [
      "30\n",
      "8\n",
      "22\n"
     ]
    }
   ],
   "source": [
    "mul(5,6)\n",
    "mul(4,2)\n",
    "mul(2,11)"
   ]
  },
  {
   "cell_type": "code",
   "execution_count": 6,
   "metadata": {},
   "outputs": [
    {
     "name": "stdout",
     "output_type": "stream",
     "text": [
      "11\n",
      "4\n"
     ]
    }
   ],
   "source": [
    "z = 4\n",
    "\n",
    "def doit(z):\n",
    "    z=z+2\n",
    "    print(z)\n",
    "    \n",
    "doit(9)\n",
    "\n",
    "print(z)"
   ]
  },
  {
   "cell_type": "code",
   "execution_count": 7,
   "metadata": {},
   "outputs": [],
   "source": [
    "def stu_grade(x):\n",
    "    if x>=10 and x<=20:\n",
    "        return \"Pass\"\n",
    "    elif x<10 and x>=0:\n",
    "        return \"Fail\"\n",
    "    else:\n",
    "        return \"Out of range\""
   ]
  },
  {
   "cell_type": "code",
   "execution_count": 8,
   "metadata": {},
   "outputs": [
    {
     "name": "stdout",
     "output_type": "stream",
     "text": [
      "Ali :Pass | Reza :Fail | Mitra :Out of range\n"
     ]
    }
   ],
   "source": [
    "ali = stu_grade(14)\n",
    "reza = stu_grade(4)\n",
    "mitra = stu_grade(-2)\n",
    "\n",
    "print(\"Ali :\" + ali,\"| Reza :\" + reza,\"| Mitra :\" + mitra)"
   ]
  },
  {
   "cell_type": "code",
   "execution_count": 9,
   "metadata": {},
   "outputs": [],
   "source": [
    "def odd_range(x,y):\n",
    "    if x>y:\n",
    "        min = y + 1\n",
    "        max = x\n",
    "    else:\n",
    "        min = x + 1\n",
    "        max = y\n",
    "    num_list = []\n",
    "    for number in range(min,max):\n",
    "        if number%2:\n",
    "            num_list.append(number)\n",
    "    return num_list"
   ]
  },
  {
   "cell_type": "code",
   "execution_count": 10,
   "metadata": {},
   "outputs": [
    {
     "name": "stdout",
     "output_type": "stream",
     "text": [
      "[3, 5, 7, 9, 11, 13]\n"
     ]
    }
   ],
   "source": [
    "print(odd_range(2,15))"
   ]
  },
  {
   "cell_type": "code",
   "execution_count": 11,
   "metadata": {},
   "outputs": [],
   "source": [
    "def search_in_list(my_list,x):\n",
    "    if x in my_list:\n",
    "        return my_list.index(x)\n",
    "    else:\n",
    "        return -1"
   ]
  },
  {
   "cell_type": "code",
   "execution_count": 12,
   "metadata": {},
   "outputs": [
    {
     "name": "stdout",
     "output_type": "stream",
     "text": [
      "-1\n"
     ]
    }
   ],
   "source": [
    "x = [2,5,6,1,2,0,4,7,6,3]\n",
    "\n",
    "print(search_in_list(x,10))"
   ]
  },
  {
   "cell_type": "code",
   "execution_count": 13,
   "metadata": {},
   "outputs": [],
   "source": [
    "def sorter(my_list):\n",
    "    min = 0\n",
    "    i = z = 0\n",
    "    len_mylist=len(my_list)\n",
    "    while z<len_mylist:\n",
    "        i=z\n",
    "        min=z\n",
    "        while i<len_mylist:\n",
    "            if my_list[min]>my_list[i]:\n",
    "                min = i\n",
    "            i+=1\n",
    "        temp = my_list[min]\n",
    "        my_list[min]=my_list[z]\n",
    "        my_list[z]=temp\n",
    "        z+=1\n",
    "    return my_list"
   ]
  },
  {
   "cell_type": "code",
   "execution_count": 14,
   "metadata": {},
   "outputs": [
    {
     "data": {
      "text/plain": [
       "[1, 2, 3, 4, 5, 6]"
      ]
     },
     "execution_count": 14,
     "metadata": {},
     "output_type": "execute_result"
    }
   ],
   "source": [
    "sorter([2,3,6,5,4,1])"
   ]
  },
  {
   "cell_type": "code",
   "execution_count": 15,
   "metadata": {},
   "outputs": [],
   "source": [
    "def special_sorter(my_list,way):\n",
    "    min = 0\n",
    "    i = z = 0\n",
    "    len_mylist=len(my_list)\n",
    "    while z<len_mylist:\n",
    "        i=z\n",
    "        min=z\n",
    "        while i<len_mylist:\n",
    "            if way:\n",
    "                if my_list[min]>my_list[i]:\n",
    "                    min = i\n",
    "            else:\n",
    "                if my_list[min]<my_list[i]:\n",
    "                    min = i\n",
    "            i+=1\n",
    "        temp = my_list[min]\n",
    "        my_list[min]=my_list[z]\n",
    "        my_list[z]=temp\n",
    "        z+=1\n",
    "    return my_list"
   ]
  },
  {
   "cell_type": "code",
   "execution_count": 16,
   "metadata": {},
   "outputs": [
    {
     "data": {
      "text/plain": [
       "[36, 25, 9, 8, 7, 6, 5, 4, 2, 1, 0]"
      ]
     },
     "execution_count": 16,
     "metadata": {},
     "output_type": "execute_result"
    }
   ],
   "source": [
    "special_sorter([25,1,36,4,7,8,5,6,9,2,0],False)"
   ]
  },
  {
   "cell_type": "code",
   "execution_count": 17,
   "metadata": {},
   "outputs": [
    {
     "data": {
      "text/plain": [
       "[0, 1, 2, 4, 5, 6, 7, 8, 9, 25, 36]"
      ]
     },
     "execution_count": 17,
     "metadata": {},
     "output_type": "execute_result"
    }
   ],
   "source": [
    "special_sorter([25,1,36,4,7,8,5,6,9,2,0],True)"
   ]
  },
  {
   "cell_type": "code",
   "execution_count": 18,
   "metadata": {},
   "outputs": [
    {
     "name": "stdout",
     "output_type": "stream",
     "text": [
      "21.1 µs ± 1.28 µs per loop (mean ± std. dev. of 7 runs, 10000 loops each)\n"
     ]
    }
   ],
   "source": [
    "%timeit special_sorter([25,1,36,4,7,8,5,6,9,2,0],False)"
   ]
  },
  {
   "cell_type": "code",
   "execution_count": 19,
   "metadata": {},
   "outputs": [
    {
     "name": "stdout",
     "output_type": "stream",
     "text": [
      "546 ns ± 17.2 ns per loop (mean ± std. dev. of 7 runs, 1000000 loops each)\n"
     ]
    }
   ],
   "source": [
    "%timeit ([25,1,36,4,7,8,5,6,9,2,0].sort())"
   ]
  }
,  {
   "cell_type": "markdown",
   "metadata": {},
   "source": [
    "<div style='width:178px;float:right;'>\n",
    "<a style='text-decoration:none;color:white;background-color:green;padding:10px 16px 10px 16px;float:left;border-top-left-radius:15px;border-bottom-left-radius:15px;' href='../028/Main 28.ipynb'>Previous</a>\n",
    "<a style='text-decoration:none;color:white;background-color:green;padding:10px 30px 10px 30px;float:right;border-top-right-radius:15px;border-bottom-right-radius:15px;' href='../030/Main 30.ipynb'>Next</a>\n",
    "</div>"
   ]
  }
 ],
 "metadata": {
  "kernelspec": {
   "display_name": "Python 3",
   "language": "python",
   "name": "python3"
  },
  "language_info": {
   "codemirror_mode": {
    "name": "ipython",
    "version": 3
   },
   "file_extension": ".py",
   "mimetype": "text/x-python",
   "name": "python",
   "nbconvert_exporter": "python",
   "pygments_lexer": "ipython3",
   "version": "3.7.3"
  }
 },
 "nbformat": 4,
 "nbformat_minor": 2
}
