{
 "cells": [
  {
   "cell_type": "markdown",
   "metadata": {},
   "source": [
    "# <span style='color:green;'>Exercise 060</span>\n",
    "<span style='color:red'>Functional Programming</span><br><br>\n",
    "<span>Generators</span><br>\n",
    "<span style='color:orange'>They allow you to declare a function that behaves like an iterator, i.e. it can be used in a for loop.</span><br>\n",
    "<span style='color:red;'>You can't index generators!</span><br>\n",
    "<span style='color:blue;'>Unlike lists, generators dont have the memory restrictions, or in better words, they can be <i><b>infinite</b></i>.</span><br>\n",
    "<span style='display:none;'>Copyright All Rights Reserved Ramin Saljoughinejad</span>"
   ]
  },
  {
   "cell_type": "code",
   "execution_count": 1,
   "metadata": {},
   "outputs": [
    {
     "name": "stdout",
     "output_type": "stream",
     "text": [
      "24\n",
      "[('Ali', 'Mitra', 'Zahra', 'Ramin'), ('Ali', 'Mitra', 'Ramin', 'Zahra'), ('Ali', 'Zahra', 'Mitra', 'Ramin'), ('Ali', 'Zahra', 'Ramin', 'Mitra'), ('Ali', 'Ramin', 'Mitra', 'Zahra'), ('Ali', 'Ramin', 'Zahra', 'Mitra'), ('Mitra', 'Ali', 'Zahra', 'Ramin'), ('Mitra', 'Ali', 'Ramin', 'Zahra'), ('Mitra', 'Zahra', 'Ali', 'Ramin'), ('Mitra', 'Zahra', 'Ramin', 'Ali'), ('Mitra', 'Ramin', 'Ali', 'Zahra'), ('Mitra', 'Ramin', 'Zahra', 'Ali'), ('Zahra', 'Ali', 'Mitra', 'Ramin'), ('Zahra', 'Ali', 'Ramin', 'Mitra'), ('Zahra', 'Mitra', 'Ali', 'Ramin'), ('Zahra', 'Mitra', 'Ramin', 'Ali'), ('Zahra', 'Ramin', 'Ali', 'Mitra'), ('Zahra', 'Ramin', 'Mitra', 'Ali'), ('Ramin', 'Ali', 'Mitra', 'Zahra'), ('Ramin', 'Ali', 'Zahra', 'Mitra'), ('Ramin', 'Mitra', 'Ali', 'Zahra'), ('Ramin', 'Mitra', 'Zahra', 'Ali'), ('Ramin', 'Zahra', 'Ali', 'Mitra'), ('Ramin', 'Zahra', 'Mitra', 'Ali')]\n"
     ]
    }
   ],
   "source": [
    "from itertools import product, permutations\n",
    "\n",
    "letters = (\"Ali\", \"Mitra\", \"Zahra\", \"Ramin\")\n",
    "print(len(list(permutations(letters))))\n",
    "print(list(permutations(letters)))"
   ]
  }
,  {
   "cell_type": "markdown",
   "metadata": {},
   "source": [
    "<div style='width:178px;float:right;'>\n",
    "<a style='text-decoration:none;color:white;background-color:green;padding:10px 16px 10px 16px;float:left;border-top-left-radius:15px;border-bottom-left-radius:15px;' href='../059/Main 59.ipynb'>Previous</a>\n",
    "<a style='text-decoration:none;color:white;background-color:green;padding:10px 30px 10px 30px;float:right;border-top-right-radius:15px;border-bottom-right-radius:15px;' href='../061/Main 61.ipynb'>Next</a>\n",
    "</div>"
   ]
  }
 ],
 "metadata": {
  "kernelspec": {
   "display_name": "Python 3",
   "language": "python",
   "name": "python3"
  },
  "language_info": {
   "codemirror_mode": {
    "name": "ipython",
    "version": 3
   },
   "file_extension": ".py",
   "mimetype": "text/x-python",
   "name": "python",
   "nbconvert_exporter": "python",
   "pygments_lexer": "ipython3",
   "version": "3.7.3"
  }
 },
 "nbformat": 4,
 "nbformat_minor": 2
}
