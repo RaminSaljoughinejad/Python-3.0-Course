{
 "cells": [
  {
   "cell_type": "markdown",
   "metadata": {},
   "source": [
    "# <span style='color:green;'>Exercise 043</span>\n",
    "<span style='color:red'>Files</span><br><br>\n",
    "<span>More Into Reading Files.</span><br>\n",
    "<span style='display:none;'>Copyright All Rights Reserved Ramin Saljoughinejad</span>"
   ]
  },
  {
   "cell_type": "code",
   "execution_count": 1,
   "metadata": {},
   "outputs": [
    {
     "name": "stdout",
     "output_type": "stream",
     "text": [
      "Line 1:\n",
      "Hello, this is the first line of my txt file.\n",
      "\n",
      "Line 2:\n",
      "This one is the second line of my txt file.\n",
      "\n"
     ]
    }
   ],
   "source": [
    "myFile = open(\"test.txt\", \"r\")\n",
    "print(\"Line 1:\")\n",
    "print(myFile.readline())\n",
    "\n",
    "print(\"Line 2:\")\n",
    "print(myFile.readline())\n",
    "myFile.close()"
   ]
  },
  {
   "cell_type": "code",
   "execution_count": 2,
   "metadata": {
    "scrolled": true
   },
   "outputs": [
    {
     "name": "stdout",
     "output_type": "stream",
     "text": [
      "['Hello, this is the first line of my txt file.\\n', 'This one is the second line of my txt file.\\n', 'And finaly, this is the the third and last line of my txt file.']\n"
     ]
    }
   ],
   "source": [
    "myFile = open(\"test.txt\", \"r\")\n",
    "print(myFile.readlines())\n",
    "myFile.close()"
   ]
  },
  {
   "cell_type": "markdown",
   "metadata": {},
   "source": [
    "#### <span style='color:purple;'>Going Through a File</span>"
   ]
  },
  {
   "cell_type": "code",
   "execution_count": 3,
   "metadata": {},
   "outputs": [
    {
     "name": "stdout",
     "output_type": "stream",
     "text": [
      "Hello, this is the first line of my txt file.\n",
      "\n",
      "End of Line\n",
      "This one is the second line of my txt file.\n",
      "\n",
      "End of Line\n",
      "And finaly, this is the the third and last line of my txt file.\n",
      "End of Line\n"
     ]
    }
   ],
   "source": [
    "myFile = open(\"test.txt\", \"r\")\n",
    "\n",
    "for eachline in myFile:\n",
    "    print(eachline)\n",
    "    print(\"End of Line\")\n",
    "    \n",
    "myFile.close()"
   ]
  },
  {
   "cell_type": "code",
   "execution_count": 4,
   "metadata": {},
   "outputs": [
    {
     "name": "stdout",
     "output_type": "stream",
     "text": [
      "+H+\n",
      "+e+\n",
      "+l+\n",
      "+l+\n",
      "+o+\n",
      "+,+\n",
      "+ +\n",
      "+t+\n",
      "+h+\n",
      "+i+\n",
      "+s+\n",
      "+ +\n",
      "+i+\n",
      "+s+\n",
      "+ +\n",
      "+t+\n",
      "+h+\n",
      "+e+\n",
      "+ +\n",
      "+f+\n",
      "+i+\n",
      "+r+\n",
      "+s+\n",
      "+t+\n",
      "+ +\n",
      "+l+\n",
      "+i+\n",
      "+n+\n",
      "+e+\n",
      "+ +\n",
      "+o+\n",
      "+f+\n",
      "+ +\n",
      "+m+\n",
      "+y+\n",
      "+ +\n",
      "+t+\n",
      "+x+\n",
      "+t+\n",
      "+ +\n",
      "+f+\n",
      "+i+\n",
      "+l+\n",
      "+e+\n",
      "+.+\n",
      "+\n",
      "+\n",
      "+T+\n",
      "+h+\n",
      "+i+\n",
      "+s+\n",
      "+ +\n",
      "+o+\n",
      "+n+\n",
      "+e+\n",
      "+ +\n",
      "+i+\n",
      "+s+\n",
      "+ +\n",
      "+t+\n",
      "+h+\n",
      "+e+\n",
      "+ +\n",
      "+s+\n",
      "+e+\n",
      "+c+\n",
      "+o+\n",
      "+n+\n",
      "+d+\n",
      "+ +\n",
      "+l+\n",
      "+i+\n",
      "+n+\n",
      "+e+\n",
      "+ +\n",
      "+o+\n",
      "+f+\n",
      "+ +\n",
      "+m+\n",
      "+y+\n",
      "+ +\n",
      "+t+\n",
      "+x+\n",
      "+t+\n",
      "+ +\n",
      "+f+\n",
      "+i+\n",
      "+l+\n",
      "+e+\n",
      "+.+\n",
      "+\n",
      "+\n",
      "+A+\n",
      "+n+\n",
      "+d+\n",
      "+ +\n",
      "+f+\n",
      "+i+\n",
      "+n+\n",
      "+a+\n",
      "+l+\n",
      "+y+\n",
      "+,+\n",
      "+ +\n",
      "+t+\n",
      "+h+\n",
      "+i+\n",
      "+s+\n",
      "+ +\n",
      "+i+\n",
      "+s+\n",
      "+ +\n",
      "+t+\n",
      "+h+\n",
      "+e+\n",
      "+ +\n",
      "+t+\n",
      "+h+\n",
      "+e+\n",
      "+ +\n",
      "+t+\n",
      "+h+\n",
      "+i+\n",
      "+r+\n",
      "+d+\n",
      "+ +\n",
      "+a+\n",
      "+n+\n",
      "+d+\n",
      "+ +\n",
      "+l+\n",
      "+a+\n",
      "+s+\n",
      "+t+\n",
      "+ +\n",
      "+l+\n",
      "+i+\n",
      "+n+\n",
      "+e+\n",
      "+ +\n",
      "+o+\n",
      "+f+\n",
      "+ +\n",
      "+m+\n",
      "+y+\n",
      "+ +\n",
      "+t+\n",
      "+x+\n",
      "+t+\n",
      "+ +\n",
      "+f+\n",
      "+i+\n",
      "+l+\n",
      "+e+\n",
      "+.+\n"
     ]
    }
   ],
   "source": [
    "myFile = open(\"test.txt\", \"r\")\n",
    "\n",
    "for eachline in myFile:\n",
    "    for eachWord in eachline:\n",
    "        print(\"+\"+eachWord+\"+\")\n",
    "    \n",
    "myFile.close()"
   ]
  }
,  {
   "cell_type": "markdown",
   "metadata": {},
   "source": [
    "<div style='width:178px;float:right;'>\n",
    "<a style='text-decoration:none;color:white;background-color:green;padding:10px 16px 10px 16px;float:left;border-top-left-radius:15px;border-bottom-left-radius:15px;' href='../042/Main 42.ipynb'>Previous</a>\n",
    "<a style='text-decoration:none;color:white;background-color:green;padding:10px 30px 10px 30px;float:right;border-top-right-radius:15px;border-bottom-right-radius:15px;' href='../044/Main 44.ipynb'>Next</a>\n",
    "</div>"
   ]
  }
 ],
 "metadata": {
  "kernelspec": {
   "display_name": "Python 3",
   "language": "python",
   "name": "python3"
  },
  "language_info": {
   "codemirror_mode": {
    "name": "ipython",
    "version": 3
   },
   "file_extension": ".py",
   "mimetype": "text/x-python",
   "name": "python",
   "nbconvert_exporter": "python",
   "pygments_lexer": "ipython3",
   "version": "3.7.3"
  }
 },
 "nbformat": 4,
 "nbformat_minor": 2
}
