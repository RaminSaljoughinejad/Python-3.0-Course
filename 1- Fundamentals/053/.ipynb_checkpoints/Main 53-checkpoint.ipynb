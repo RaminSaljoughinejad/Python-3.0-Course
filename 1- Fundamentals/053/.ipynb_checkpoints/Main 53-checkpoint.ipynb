{
 "cells": [
  {
   "cell_type": "markdown",
   "metadata": {},
   "source": [
    "# <span style='color:green;'>Exercise 053</span>\n",
    "<span style='color:red'>More Types</span><br><br>\n",
    "<span>String Formatting</span><br>\n",
    "<span style='display:none;'>Copyright All Rights Reserved Ramin Saljoughinejad</span>"
   ]
  },
  {
   "cell_type": "code",
   "execution_count": 1,
   "metadata": {},
   "outputs": [
    {
     "name": "stdout",
     "output_type": "stream",
     "text": [
      "Class Final Marks: 15 14 10\n"
     ]
    }
   ],
   "source": [
    "final_marks = [14, 17, 19, 15, 20, 10, 12]\n",
    "\n",
    "msg = \"Class Final Marks: {1} {0} {2}\".format(final_marks[0],final_marks[3],final_marks[5])\n",
    "\n",
    "print(msg)"
   ]
  },
  {
   "cell_type": "code",
   "execution_count": 2,
   "metadata": {},
   "outputs": [
    {
     "name": "stdout",
     "output_type": "stream",
     "text": [
      "5, 7, 5\n"
     ]
    }
   ],
   "source": [
    "a = \"{x}, {y}, {x}\".format(x=5,y=7)\n",
    "\n",
    "print(a)"
   ]
  },
  {
   "cell_type": "markdown",
   "metadata": {},
   "source": [
    "### <span style='color:deepskyblue;'>F-String</span>"
   ]
  },
  {
   "cell_type": "code",
   "execution_count": 3,
   "metadata": {},
   "outputs": [
    {
     "name": "stdout",
     "output_type": "stream",
     "text": [
      "Class Marks: 14 15 10\n"
     ]
    }
   ],
   "source": [
    "my_msg = f\"Class Marks: {final_marks[0]} {final_marks[3]} {final_marks[5]}\"\n",
    "print(my_msg)"
   ]
  }
 ],
 "metadata": {
  "kernelspec": {
   "display_name": "Python 3",
   "language": "python",
   "name": "python3"
  },
  "language_info": {
   "codemirror_mode": {
    "name": "ipython",
    "version": 3
   },
   "file_extension": ".py",
   "mimetype": "text/x-python",
   "name": "python",
   "nbconvert_exporter": "python",
   "pygments_lexer": "ipython3",
   "version": "3.7.3"
  }
 },
 "nbformat": 4,
 "nbformat_minor": 2
}
