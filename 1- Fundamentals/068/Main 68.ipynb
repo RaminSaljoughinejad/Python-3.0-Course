{
 "cells": [
  {
   "cell_type": "markdown",
   "metadata": {},
   "source": [
    "# <span style='color:green;'>Exercise 068</span>\n",
    "\n",
    "<span style='color:red'>More into classes</span><br><br>\n",
    "<span style='color:coral'>Inheritance</span><br>\n",
    "<span style='color:purple;margin-left:25px;'>Inheritance provides a way to share functionality between classes. </span><br>\n",
    "<ul style=\"color:blue\">\n",
    "    <li>A class that inherits from another class is called a <b>subclass</b>.</li>\n",
    "    <li>A class that is inherited from is called a <b>superclass</b>.</li>\n",
    "<ul>\n",
    "<span style='display:none;'>Copyright All Rights Reserved Ramin Saljoughinejad</span>"
   ]
  },
  {
   "cell_type": "code",
   "execution_count": 1,
   "metadata": {},
   "outputs": [],
   "source": [
    "class Animal: \n",
    "  def __init__(self, name, color):\n",
    "    self.name = name\n",
    "    self.color = color\n",
    "\n",
    "class Cat(Animal):\n",
    "  def purr(self):\n",
    "    print(\"Purr...\")\n",
    "        \n",
    "class Dog(Animal):\n",
    "  def bark(self):\n",
    "    print(\"Woof!\")"
   ]
  },
  {
   "cell_type": "code",
   "execution_count": 2,
   "metadata": {},
   "outputs": [
    {
     "name": "stdout",
     "output_type": "stream",
     "text": [
      "brown\n",
      "Woof!\n"
     ]
    }
   ],
   "source": [
    "fido = Dog(\"Fido\", \"brown\")\n",
    "print(fido.color)\n",
    "fido.bark()"
   ]
  },
  {
   "cell_type": "markdown",
   "metadata": {},
   "source": [
    "### <span style=color:purple;>If a class inherits from another with the same attributes or methods, it overrides them.</span>"
   ]
  },
  {
   "cell_type": "code",
   "execution_count": 3,
   "metadata": {},
   "outputs": [],
   "source": [
    "class Wolf: \n",
    "  def __init__(self, name, color):\n",
    "    self.name = name\n",
    "    self.color = color\n",
    "\n",
    "  def bark(self):\n",
    "    print(\"Grr...\")\n",
    "\n",
    "class Dog(Wolf):\n",
    "  def bark(self):\n",
    "    print(\"Woof\")"
   ]
  },
  {
   "cell_type": "code",
   "execution_count": 4,
   "metadata": {},
   "outputs": [
    {
     "name": "stdout",
     "output_type": "stream",
     "text": [
      "Woof\n"
     ]
    }
   ],
   "source": [
    "husky = Dog(\"Max\", \"grey\")\n",
    "husky.bark()"
   ]
  }
,  {
   "cell_type": "markdown",
   "metadata": {},
   "source": [
    "<div style='width:178px;float:right;'>\n",
    "<a style='text-decoration:none;color:white;background-color:green;padding:10px 16px 10px 16px;float:left;border-top-left-radius:15px;border-bottom-left-radius:15px;' href='../067/Main 67.ipynb'>Previous</a>\n",
    "<a style='text-decoration:none;color:white;background-color:green;padding:10px 30px 10px 30px;float:right;border-top-right-radius:15px;border-bottom-right-radius:15px;' href='../069/Main 69.ipynb'>Next</a>\n",
    "</div>"
   ]
  }
 ],
 "metadata": {
  "kernelspec": {
   "display_name": "Python 3",
   "language": "python",
   "name": "python3"
  },
  "language_info": {
   "codemirror_mode": {
    "name": "ipython",
    "version": 3
   },
   "file_extension": ".py",
   "mimetype": "text/x-python",
   "name": "python",
   "nbconvert_exporter": "python",
   "pygments_lexer": "ipython3",
   "version": "3.7.3"
  }
 },
 "nbformat": 4,
 "nbformat_minor": 2
}
