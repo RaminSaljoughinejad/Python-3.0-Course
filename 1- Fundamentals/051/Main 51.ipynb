{
 "cells": [
  {
   "cell_type": "markdown",
   "metadata": {},
   "source": [
    "# <span style='color:green;'>Exercise 051</span>\n",
    "<span style='color:red'>More Types</span><br><br>\n",
    "<span>List Slices</span><br>\n",
    "<span style='color:orange;'>More into List Slices</span><br>\n",
    "<span style='display:none;'>Copyright All Rights Reserved Ramin Saljoughinejad</span>"
   ]
  },
  {
   "cell_type": "code",
   "execution_count": 1,
   "metadata": {},
   "outputs": [
    {
     "name": "stdout",
     "output_type": "stream",
     "text": [
      "[36, 45, 37]\n",
      "[36, 46, 47, 37]\n"
     ]
    }
   ],
   "source": [
    "Niki_E52 = [36, 43, 46, 45, 47, \"hello\", 37, 38]\n",
    "\n",
    "print(Niki_E52[::3])\n",
    "\n",
    "print(Niki_E52[::2])"
   ]
  },
  {
   "cell_type": "code",
   "execution_count": 2,
   "metadata": {},
   "outputs": [
    {
     "name": "stdout",
     "output_type": "stream",
     "text": [
      "[38, 37, 'hello', 47, 45, 46, 43, 36]\n"
     ]
    }
   ],
   "source": [
    "print(Niki_E52[::-1])"
   ]
  },
  {
   "cell_type": "code",
   "execution_count": 3,
   "metadata": {},
   "outputs": [
    {
     "name": "stdout",
     "output_type": "stream",
     "text": [
      "[36]\n",
      "[36]\n",
      "[38, 46]\n",
      "[38, 'hello', 45, 43]\n"
     ]
    }
   ],
   "source": [
    "print(Niki_E52[::10])\n",
    "print(Niki_E52[::11])\n",
    "print(Niki_E52[::-5])\n",
    "print(Niki_E52[::-2])"
   ]
  }
,  {
   "cell_type": "markdown",
   "metadata": {},
   "source": [
    "<div style='width:178px;float:right;'>\n",
    "<a style='text-decoration:none;color:white;background-color:green;padding:10px 16px 10px 16px;float:left;border-top-left-radius:15px;border-bottom-left-radius:15px;' href='../050/Main 50.ipynb'>Previous</a>\n",
    "<a style='text-decoration:none;color:white;background-color:green;padding:10px 30px 10px 30px;float:right;border-top-right-radius:15px;border-bottom-right-radius:15px;' href='../052/Main 52.ipynb'>Next</a>\n",
    "</div>"
   ]
  }
 ],
 "metadata": {
  "kernelspec": {
   "display_name": "Python 3",
   "language": "python",
   "name": "python3"
  },
  "language_info": {
   "codemirror_mode": {
    "name": "ipython",
    "version": 3
   },
   "file_extension": ".py",
   "mimetype": "text/x-python",
   "name": "python",
   "nbconvert_exporter": "python",
   "pygments_lexer": "ipython3",
   "version": "3.7.3"
  }
 },
 "nbformat": 4,
 "nbformat_minor": 2
}
