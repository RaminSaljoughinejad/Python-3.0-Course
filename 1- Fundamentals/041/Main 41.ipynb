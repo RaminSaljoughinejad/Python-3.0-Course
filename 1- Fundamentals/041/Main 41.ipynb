{
 "cells": [
  {
   "cell_type": "markdown",
   "metadata": {},
   "source": [
    "# <span style='color:green;'>Exercise 041</span>\n",
    "<span style='color:red'>Files</span><br><br>\n",
    "<span>Opening Files.</span><br>"
   ]
  },
  {
   "cell_type": "code",
   "execution_count": 1,
   "metadata": {},
   "outputs": [
    {
     "ename": "FileNotFoundError",
     "evalue": "[Errno 2] No such file or directory: 'myfile.txt'",
     "output_type": "error",
     "traceback": [
      "\u001b[1;31m---------------------------------------------------------------------------\u001b[0m",
      "\u001b[1;31mFileNotFoundError\u001b[0m                         Traceback (most recent call last)",
      "\u001b[1;32m<ipython-input-1-454d8693d84d>\u001b[0m in \u001b[0;36m<module>\u001b[1;34m\u001b[0m\n\u001b[1;32m----> 1\u001b[1;33m \u001b[0mmyfile\u001b[0m \u001b[1;33m=\u001b[0m \u001b[0mopen\u001b[0m\u001b[1;33m(\u001b[0m\u001b[1;34m\"myfile.txt\"\u001b[0m\u001b[1;33m)\u001b[0m\u001b[1;33m\u001b[0m\u001b[1;33m\u001b[0m\u001b[0m\n\u001b[0m",
      "\u001b[1;31mFileNotFoundError\u001b[0m: [Errno 2] No such file or directory: 'myfile.txt'"
     ]
    }
   ],
   "source": [
    "myfile = open(\"myfile.txt\")"
   ]
  },
  {
   "cell_type": "code",
   "execution_count": 2,
   "metadata": {},
   "outputs": [
    {
     "name": "stdout",
     "output_type": "stream",
     "text": [
      "Sorry, we couldn't find your file.\n"
     ]
    }
   ],
   "source": [
    "try:\n",
    "    myFile = open(\"myfile.txt\")\n",
    "except FileNotFoundError:\n",
    "    print(\"Sorry, we couldn't find your file.\")"
   ]
  },
  {
   "cell_type": "markdown",
   "metadata": {},
   "source": [
    "#### <span style='color:purple;'>Opening Modes</span>"
   ]
  },
  {
   "cell_type": "code",
   "execution_count": 3,
   "metadata": {},
   "outputs": [
    {
     "data": {
      "text/plain": [
       "<_io.BufferedWriter name='test.txt'>"
      ]
     },
     "execution_count": 3,
     "metadata": {},
     "output_type": "execute_result"
    }
   ],
   "source": [
    "# Opens a file for writing only\n",
    "open(\"test.txt\", \"w\")\n",
    "\n",
    "# Opens a file for reading only\n",
    "open(\"test.txt\", \"r\")\n",
    "\n",
    "# Opens a file for reading only in binary format\n",
    "open(\"test.txt\", \"rb\")\n",
    "\n",
    "# Opens a file for writing only in binary format\n",
    "open(\"test.txt\", \"wb\")\n",
    "\n",
    "# Opens a file for appending\n",
    "open(\"test.txt\", \"a\")\n",
    "\n",
    "# Opens a file for appending in binary format\n",
    "open(\"test.txt\", \"ab\")"
   ]
  },
  {
   "cell_type": "markdown",
   "metadata": {},
   "source": [
    "#### <span style='color:purple;'>Opening with Extra access</span><br>\n",
    "<span style='color:red'>You can use the + sign with each of the modes above to give  them extra access to files. For example, r+ opens files for both reading and writing.</span>"
   ]
  },
  {
   "cell_type": "code",
   "execution_count": 4,
   "metadata": {},
   "outputs": [
    {
     "data": {
      "text/plain": [
       "<_io.BufferedRandom name='test.txt'>"
      ]
     },
     "execution_count": 4,
     "metadata": {},
     "output_type": "execute_result"
    }
   ],
   "source": [
    "# Opens a file for both reading and writing\n",
    "open(\"test.txt\", \"r+\")\n",
    "\n",
    "# Opens a file for both reading and writing in binary format\n",
    "open(\"test.txt\", \"rb+\")\n",
    "\n",
    "# Opens a file for both writing and reading\n",
    "open(\"test.txt\", \"w+\")\n",
    "\n",
    "# Opens a file for both writing and reading in binary format\n",
    "open(\"test.txt\", \"wb+\")\n",
    "\n",
    "# Opens a file for both appending and reading\n",
    "open(\"test.txt\", \"a+\")\n",
    "\n",
    "# Opens a file for both appending and reading in binary format\n",
    "open(\"test.txt\", \"ab+\")"
   ]
  },
  {
   "cell_type": "markdown",
   "metadata": {},
   "source": [
    "#### <span style='color:purple;'>Closing Files</span>"
   ]
  },
  {
   "cell_type": "code",
   "execution_count": 6,
   "metadata": {},
   "outputs": [],
   "source": [
    "file = open(\"test.txt\", \"r+\")\n",
    "file.close()"
   ]
  }
,  {
   "cell_type": "markdown",
   "metadata": {},
   "source": [
    "<div style='width:178px;float:right;'>\n",
    "<a style='text-decoration:none;color:white;background-color:green;padding:10px 16px 10px 16px;float:left;border-top-left-radius:15px;border-bottom-left-radius:15px;' href='../040/Main 40.ipynb'>Previous</a>\n",
    "<a style='text-decoration:none;color:white;background-color:green;padding:10px 30px 10px 30px;float:right;border-top-right-radius:15px;border-bottom-right-radius:15px;' href='../042/Main 42.ipynb'>Next</a>\n",
    "</div>"
   ]
  }
 ],
 "metadata": {
  "kernelspec": {
   "display_name": "Python 3",
   "language": "python",
   "name": "python3"
  },
  "language_info": {
   "codemirror_mode": {
    "name": "ipython",
    "version": 3
   },
   "file_extension": ".py",
   "mimetype": "text/x-python",
   "name": "python",
   "nbconvert_exporter": "python",
   "pygments_lexer": "ipython3",
   "version": "3.7.3"
  }
 },
 "nbformat": 4,
 "nbformat_minor": 2
}
