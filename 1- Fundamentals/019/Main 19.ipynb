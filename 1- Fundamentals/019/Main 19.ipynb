{
 "cells": [
  {
   "cell_type": "markdown",
   "metadata": {},
   "source": [
    "# <span style='color:green;'>Exercise 019</span>\n",
    "<span style='color:red'>Operator Precedence</span>\n",
    "<br>\n",
    "<br>\n",
    "<span style='color:purple'>\n",
    "Python's oder of operations is the same as that of normal mathematics: parentheses first, then exponentiation, then multilication/devision, and then addition/subtraction.\n",
    "</span>\n",
    "<br>\n",
    "<span style='color:purple;float:right;align:right;' dir='rtl'>\n",
    "    اولویت عملگر ها در زبان برنامه نویسی پایتون دقیقا همانند ریاضیات و به ترتیب زیر است.\n",
    "    <br>\n",
    "    <span style='color:purple;float:right;align:right;' dir='rtl'>- پرانتز ها</span><br>\n",
    "    <span style='color:purple;float:right;align:right;' dir='rtl'>- توان</span><br>\n",
    "    <span style='color:purple;float:right;align:right;' dir='rtl'>- ضرب و تقسیم</span><br>\n",
    "    <span style='color:purple;float:right;align:right;' dir='rtl'>- جمع و تفریق</span>\n",
    "</span>\n",
    "<span style='display:none;'>Copyright All Rights Reserved Ramin Saljoughinejad</span>"
   ]
  },
  {
   "cell_type": "code",
   "execution_count": 1,
   "metadata": {},
   "outputs": [
    {
     "data": {
      "text/plain": [
       "True"
      ]
     },
     "execution_count": 1,
     "metadata": {},
     "output_type": "execute_result"
    }
   ],
   "source": [
    "False == False or True"
   ]
  },
  {
   "cell_type": "code",
   "execution_count": 2,
   "metadata": {},
   "outputs": [
    {
     "data": {
      "text/plain": [
       "False"
      ]
     },
     "execution_count": 2,
     "metadata": {},
     "output_type": "execute_result"
    }
   ],
   "source": [
    "False == (False or True)"
   ]
  },
  {
   "cell_type": "code",
   "execution_count": 3,
   "metadata": {},
   "outputs": [
    {
     "data": {
      "text/plain": [
       "True"
      ]
     },
     "execution_count": 3,
     "metadata": {},
     "output_type": "execute_result"
    }
   ],
   "source": [
    "(False == False) or True"
   ]
  },
  {
   "cell_type": "code",
   "execution_count": 4,
   "metadata": {},
   "outputs": [
    {
     "name": "stdout",
     "output_type": "stream",
     "text": [
      "13.166666666666666\n"
     ]
    }
   ],
   "source": [
    "print(2+3*4-5/6)"
   ]
  },
  {
   "cell_type": "code",
   "execution_count": 5,
   "metadata": {},
   "outputs": [
    {
     "data": {
      "text/plain": [
       "True"
      ]
     },
     "execution_count": 5,
     "metadata": {},
     "output_type": "execute_result"
    }
   ],
   "source": [
    "True == 2-1"
   ]
  },
  {
   "cell_type": "code",
   "execution_count": 6,
   "metadata": {},
   "outputs": [
    {
     "name": "stdout",
     "output_type": "stream",
     "text": [
      "Please Enter a number:12\n",
      "144\n"
     ]
    }
   ],
   "source": [
    "x = int(input(\"Please Enter a number:\"))\n",
    "\n",
    "if not x%3:\n",
    "    print(x**2)"
   ]
  }
 ],
 "metadata": {
  "kernelspec": {
   "display_name": "Python 3",
   "language": "python",
   "name": "python3"
  },
  "language_info": {
   "codemirror_mode": {
    "name": "ipython",
    "version": 3
   },
   "file_extension": ".py",
   "mimetype": "text/x-python",
   "name": "python",
   "nbconvert_exporter": "python",
   "pygments_lexer": "ipython3",
   "version": "3.7.3"
  }
 },
 "nbformat": 4,
 "nbformat_minor": 2
}
