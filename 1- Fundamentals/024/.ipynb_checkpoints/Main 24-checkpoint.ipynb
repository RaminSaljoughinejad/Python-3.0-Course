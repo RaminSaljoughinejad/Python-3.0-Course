{
 "cells": [
  {
   "cell_type": "markdown",
   "metadata": {},
   "source": [
    "# <span style='color:green;'>Exercise 024</span>\n",
    "<span style='color:red'>More into Lists</span><br>\n",
    "<span style='color:purple'>Write a program that prints a list from its' end to its' begining.</span><br>\n",
    "<span style='float:right;align:right;color:purple;' dir='rtl'>برنامه ای بنویسید که یک لیست را از انتها به ابتدا چاپ کند.</span>\n",
    "<span style='display:none;'>Copyright All Rights Reserved Ramin Saljoughinejad</span>"
   ]
  },
  {
   "cell_type": "code",
   "execution_count": 1,
   "metadata": {},
   "outputs": [
    {
     "name": "stdout",
     "output_type": "stream",
     "text": [
      "Alienware\n",
      "MSI\n",
      "Lenovo\n",
      "Sony\n",
      "Apple\n",
      "HP\n"
     ]
    }
   ],
   "source": [
    "laptop_brands = [\"HP\", \"Apple\", \"Sony\", \"Lenovo\", \"MSI\", \"Alienware\"]\n",
    "Lenght = len(laptop_brands)-1\n",
    "while Lenght>=0:\n",
    "    print(laptop_brands[Lenght])\n",
    "    Lenght-=1"
   ]
  },
  {
   "cell_type": "markdown",
   "metadata": {},
   "source": [
    "### <span style='color:green;'>Searching Inside a <a href='../023/Main 23.ipynb'>List</a>.</span><br>\n",
    "<span style='Color:orange;'>Without Flag</span>"
   ]
  },
  {
   "cell_type": "code",
   "execution_count": 2,
   "metadata": {},
   "outputs": [
    {
     "name": "stdout",
     "output_type": "stream",
     "text": [
      "Please Enter the Value you are looking for: Sony\n",
      "Found - Cell Number [2]\n"
     ]
    }
   ],
   "source": [
    "laptop_brands = [\"HP\", \"Apple\", \"Sony\", \"Lenovo\", \"MSI\", \"Alienware\"]\n",
    "key = input(\"Please Enter the Value you are looking for: \")\n",
    "i = 0\n",
    "Mylenght =len(laptop_brands)\n",
    "while i<Mylenght:\n",
    "    if laptop_brands[i]==key:\n",
    "        print(\"Found - Cell Number [\"+str(i)+\"]\")\n",
    "        break\n",
    "    i+=1\n",
    "if i == Mylenght:\n",
    "    print(\"Not Found.\")"
   ]
  },
  {
   "cell_type": "markdown",
   "metadata": {},
   "source": [
    "### <span style='color:green;'>Searching Inside a <a href='../023/Main 23.ipynb'>List</a>.</span><br>\n",
    "<span style='Color:orange;'>With Flag</span>"
   ]
  },
  {
   "cell_type": "code",
   "execution_count": 3,
   "metadata": {},
   "outputs": [
    {
     "name": "stdout",
     "output_type": "stream",
     "text": [
      "Please Enter the Value you are looking for: Mac\n",
      "Not Found!\n"
     ]
    }
   ],
   "source": [
    "laptop_brands = [\"HP\", \"Apple\", \"Sony\", \"Lenovo\", \"MSI\", \"Alienware\"]\n",
    "key = input(\"Please Enter the Value you are looking for: \")\n",
    "i = 0\n",
    "flag = False\n",
    "myLenght = len(laptop_brands)\n",
    "while i < myLenght:\n",
    "    if laptop_brands[i]==key:\n",
    "        print(\"Found -- Cell Number [\"+str(i)+\"]\")\n",
    "        flag=True\n",
    "        break\n",
    "    i+=1\n",
    "if not flag:\n",
    "    print(\"Not Found!\")"
   ]
  },
  {
   "cell_type": "markdown",
   "metadata": {},
   "source": [
    "### <span style='color:green;'>Replacing the last and the firts cell inside a <a href='../023/Main 23.ipynb'>List</a>.</span>"
   ]
  },
  {
   "cell_type": "code",
   "execution_count": 4,
   "metadata": {
    "scrolled": true
   },
   "outputs": [
    {
     "name": "stdout",
     "output_type": "stream",
     "text": [
      "['HP', 'Apple', 'Sony', 'Lenovo', 'MSI', 'Alienware']\n",
      "['Alienware', 'Apple', 'Sony', 'Lenovo', 'MSI', 'HP']\n"
     ]
    }
   ],
   "source": [
    "laptop_brands = [\"HP\", \"Apple\", \"Sony\", \"Lenovo\", \"MSI\", \"Alienware\"]\n",
    "Lenght = len(laptop_brands)\n",
    "\n",
    "print(laptop_brands)\n",
    "\n",
    "lastItem = len(laptop_brands)-1\n",
    "temp = laptop_brands[0]\n",
    "laptop_brands[0]=laptop_brands[lastItem]\n",
    "laptop_brands[lastItem]=temp\n",
    "\n",
    "print(laptop_brands)"
   ]
  },
  {
   "cell_type": "markdown",
   "metadata": {},
   "source": [
    "### <span style='color:green;'>Finding the smallest value inside a <a href='../023/Main 23.ipynb'>List</a> and replacing it with the first cell.</span>"
   ]
  },
  {
   "cell_type": "code",
   "execution_count": 5,
   "metadata": {},
   "outputs": [
    {
     "name": "stdout",
     "output_type": "stream",
     "text": [
      "[4, 3, 6, 2, 8, 9, 5, 1, 0, 7]\n",
      "[0, 3, 6, 2, 8, 9, 5, 1, 4, 7]\n"
     ]
    }
   ],
   "source": [
    "my_numbers = [4,3,6,2,8,9,5,1,0,7]\n",
    "print(my_numbers)\n",
    "\n",
    "Lenght = len(my_numbers)\n",
    "\n",
    "x = min_cell = 0\n",
    "while x<Lenght:\n",
    "    if my_numbers[x]<my_numbers[min_cell]:\n",
    "        min_cell=x\n",
    "    x+=1\n",
    "\n",
    "temp = my_numbers[0]\n",
    "my_numbers[0] = my_numbers[min_cell]\n",
    "my_numbers[min_cell]= temp\n",
    "\n",
    "print(my_numbers)"
   ]
  },
  {
   "cell_type": "markdown",
   "metadata": {},
   "source": [
    "### <span style='color:green;'>Sorting a <a href='../023/Main 23.ipynb'>List</a></span>"
   ]
  },
  {
   "cell_type": "code",
   "execution_count": 6,
   "metadata": {},
   "outputs": [
    {
     "name": "stdout",
     "output_type": "stream",
     "text": [
      "Before:[4, 3, 6, 2, 8, 9, 5, 1, 0, 7]\n",
      "After: [0, 1, 2, 3, 4, 5, 6, 7, 8, 9]\n"
     ]
    }
   ],
   "source": [
    "my_numbers = [4,3,6,2,8,9,5,1,0,7]\n",
    "print(\"Before:\" + str(my_numbers))\n",
    "\n",
    "Lenght = len(my_numbers)\n",
    "\n",
    "y=0\n",
    "while(y<Lenght):\n",
    "    x = min_cell = y\n",
    "    while x<Lenght:\n",
    "        if my_numbers[x]<my_numbers[min_cell]:\n",
    "            min_cell=x\n",
    "        x+=1\n",
    "\n",
    "    temp = my_numbers[y]\n",
    "    my_numbers[y] = my_numbers[min_cell]\n",
    "    my_numbers[min_cell]= temp\n",
    "    y+=1\n",
    "\n",
    "print(\"After: \" + str(my_numbers))"
   ]
  },
  {
   "cell_type": "markdown",
   "metadata": {},
   "source": [
    "# <span style='color:purple'>Please Check <a href='../../Class Assignments/06/Assignment 06.ipynb'>Assignment 06</a></span>"
   ]
  },
  {
   "cell_type": "markdown",
   "metadata": {},
   "source": [
    "<div style='width:178px;float:right;'>\n",
    "<a style='text-decoration:none;color:white;background-color:green;padding:10px 16px 10px 16px;float:left;border-top-left-radius:15px;border-bottom-left-radius:15px;' href='../023/Main 23.ipynb'>Previous</a>\n",
    "<a style='text-decoration:none;color:white;background-color:green;padding:10px 30px 10px 30px;float:right;border-top-right-radius:15px;border-bottom-right-radius:15px;' href='../025/Main 25.ipynb'>Next</a>\n",
    "</div>"
   ]
  }
 ],
 "metadata": {
  "kernelspec": {
   "display_name": "Python 3",
   "language": "python",
   "name": "python3"
  },
  "language_info": {
   "codemirror_mode": {
    "name": "ipython",
    "version": 3
   },
   "file_extension": ".py",
   "mimetype": "text/x-python",
   "name": "python",
   "nbconvert_exporter": "python",
   "pygments_lexer": "ipython3",
   "version": "3.8.3"
  }
 },
 "nbformat": 4,
 "nbformat_minor": 2
}
