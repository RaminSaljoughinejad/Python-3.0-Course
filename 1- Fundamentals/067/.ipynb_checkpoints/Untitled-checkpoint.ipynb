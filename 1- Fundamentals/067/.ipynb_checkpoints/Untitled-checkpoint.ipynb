{
 "cells": [
  {
   "cell_type": "code",
   "execution_count": 40,
   "metadata": {},
   "outputs": [],
   "source": [
    "class Car:\n",
    "    numberOfWheels = 4\n",
    "    currentSpeed = 0\n",
    "    state = True\n",
    "    eng = False\n",
    "    def __init__(self,model, numberOfdoors, maxSpeed, color):\n",
    "        self.model = model\n",
    "        self.numberOfDoors = numberOfdoors\n",
    "        self.maxSpeed = maxSpeed\n",
    "        self.color = color\n",
    "    def startEng(self):\n",
    "        if self.state:\n",
    "            if self.eng == False:\n",
    "                self.eng = True\n",
    "                print(\"Gham Gham\")\n",
    "            else:\n",
    "                print(\"Gheeeeeeeeeeeeeeeeeeeeeezh\")\n",
    "        else:\n",
    "            print(\"You need to buy a new car!\")\n",
    "    def stopEng(self):\n",
    "        if self.state:\n",
    "            if self.eng:\n",
    "                if self.currentSpeed > 0:\n",
    "                    print(\"You need to decrease your speed first!\")\n",
    "                else:\n",
    "                    self.eng = False\n",
    "                    print(\"Your Car is OFF\")\n",
    "            else:\n",
    "                print(\"Your Car was OFF!\")\n",
    "        else:\n",
    "            print(\"Which car???\")\n",
    "    def incSpeed(self):\n",
    "        if self.state:\n",
    "            if self.eng:\n",
    "                if self.currentSpeed < self.maxSpeed:\n",
    "                    self.currentSpeed += 10\n",
    "                    print(self.currentSpeed)\n",
    "                else:\n",
    "                    self.state = False\n",
    "                    print(\"BOOOOM\")\n",
    "            else:\n",
    "                print(\"You Need to turn on your car First!\")\n",
    "        else:\n",
    "            print(\"Which car?\")\n",
    "pride = Car(\"111\",4,120,\"White\")"
   ]
  },
  {
   "cell_type": "code",
   "execution_count": 41,
   "metadata": {},
   "outputs": [
    {
     "name": "stdout",
     "output_type": "stream",
     "text": [
      "Gham Gham\n"
     ]
    }
   ],
   "source": [
    "pride.startEng()"
   ]
  },
  {
   "cell_type": "code",
   "execution_count": 44,
   "metadata": {},
   "outputs": [
    {
     "name": "stdout",
     "output_type": "stream",
     "text": [
      "90\n",
      "100\n",
      "110\n",
      "120\n"
     ]
    }
   ],
   "source": [
    "pride.incSpeed()\n",
    "pride.incSpeed()\n",
    "pride.incSpeed()\n",
    "pride.incSpeed()"
   ]
  },
  {
   "cell_type": "code",
   "execution_count": 48,
   "metadata": {},
   "outputs": [
    {
     "name": "stdout",
     "output_type": "stream",
     "text": [
      "You need to buy a new car!\n"
     ]
    }
   ],
   "source": [
    "pride.startEng()"
   ]
  },
  {
   "cell_type": "code",
   "execution_count": null,
   "metadata": {},
   "outputs": [],
   "source": []
  }
 ],
 "metadata": {
  "kernelspec": {
   "display_name": "Python 3",
   "language": "python",
   "name": "python3"
  },
  "language_info": {
   "codemirror_mode": {
    "name": "ipython",
    "version": 3
   },
   "file_extension": ".py",
   "mimetype": "text/x-python",
   "name": "python",
   "nbconvert_exporter": "python",
   "pygments_lexer": "ipython3",
   "version": "3.7.3"
  }
 },
 "nbformat": 4,
 "nbformat_minor": 2
}
