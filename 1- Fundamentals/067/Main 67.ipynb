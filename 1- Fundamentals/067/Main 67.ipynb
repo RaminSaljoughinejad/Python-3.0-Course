{
 "cells": [
  {
   "cell_type": "markdown",
   "metadata": {},
   "source": [
    "# <span style='color:green;'>Exercise 067</span>\n",
    "\n",
    "<span style='color:red'>More into classes</span><br><br>\n",
    "<span style='color:coral'>Example</span>\n",
    "\n",
    "<span style='display:none;'>Copyright All Rights Reserved Ramin Saljoughinejad</span>"
   ]
  },
  {
   "cell_type": "code",
   "execution_count": 1,
   "metadata": {},
   "outputs": [],
   "source": [
    "class Car:\n",
    "    engineState = \"Off\"\n",
    "    currentSpeed = 0\n",
    "    def __init__(self, maxspeed, model, color, doors):\n",
    "        self.maxSpeed = maxspeed\n",
    "        self.model = model\n",
    "        self.color = color\n",
    "        self.doors = doors\n",
    "        \n",
    "    def startEng(self):\n",
    "        if self.engineState == \"Off\":\n",
    "            print(\"Ghum Ghum\")\n",
    "            self.engineState = \"On\"\n",
    "        else:\n",
    "            print(\"Ghiiiiiiiiiiiiiizh\")\n",
    "    def speedUp(self):\n",
    "        if self.engineState == \"On\":\n",
    "            if self.currentSpeed < self.maxSpeed:\n",
    "                self.currentSpeed +=10\n",
    "                print(\"Your Speed\",self.currentSpeed)\n",
    "            else:\n",
    "                print(\"BOOM!\")\n",
    "        else:\n",
    "            print(\"Your Car is OFF!\")\n",
    "    def stopEng(self):\n",
    "        if self.currentSpeed > 0:\n",
    "            print(\"!!!!YOU CAN'T TURN OFF YOUR CAR!!!!\")\n",
    "        else:\n",
    "            self.engineState = \"Off\"\n",
    "            print(\"Your Car is OFF\")\n",
    "    def handBreak(self):\n",
    "        self.currentSpeed = 0\n",
    "        print(\"eeeeeeeeeeeeeeeeeeeeeeeeeee\")\n",
    "        \n",
    "pride = Car(80,\"111\",\"White\",4)"
   ]
  },
  {
   "cell_type": "code",
   "execution_count": 2,
   "metadata": {},
   "outputs": [
    {
     "name": "stdout",
     "output_type": "stream",
     "text": [
      "Your Car is OFF!\n"
     ]
    }
   ],
   "source": [
    "pride.speedUp()"
   ]
  },
  {
   "cell_type": "code",
   "execution_count": 3,
   "metadata": {},
   "outputs": [
    {
     "name": "stdout",
     "output_type": "stream",
     "text": [
      "Ghum Ghum\n"
     ]
    }
   ],
   "source": [
    "pride.startEng()"
   ]
  },
  {
   "cell_type": "code",
   "execution_count": 4,
   "metadata": {},
   "outputs": [
    {
     "name": "stdout",
     "output_type": "stream",
     "text": [
      "Ghiiiiiiiiiiiiiizh\n"
     ]
    }
   ],
   "source": [
    "pride.startEng()"
   ]
  },
  {
   "cell_type": "code",
   "execution_count": 5,
   "metadata": {},
   "outputs": [
    {
     "name": "stdout",
     "output_type": "stream",
     "text": [
      "Your Speed 10\n"
     ]
    }
   ],
   "source": [
    "pride.speedUp()"
   ]
  },
  {
   "cell_type": "code",
   "execution_count": 6,
   "metadata": {},
   "outputs": [
    {
     "name": "stdout",
     "output_type": "stream",
     "text": [
      "Your Speed 20\n"
     ]
    }
   ],
   "source": [
    "pride.speedUp()"
   ]
  },
  {
   "cell_type": "code",
   "execution_count": 7,
   "metadata": {},
   "outputs": [
    {
     "name": "stdout",
     "output_type": "stream",
     "text": [
      "Your Speed 30\n",
      "Your Speed 40\n",
      "Your Speed 50\n",
      "Your Speed 60\n"
     ]
    }
   ],
   "source": [
    "pride.speedUp()\n",
    "pride.speedUp()\n",
    "pride.speedUp()\n",
    "pride.speedUp()\n"
   ]
  },
  {
   "cell_type": "code",
   "execution_count": 8,
   "metadata": {},
   "outputs": [
    {
     "name": "stdout",
     "output_type": "stream",
     "text": [
      "!!!!YOU CAN'T TURN OFF YOUR CAR!!!!\n"
     ]
    }
   ],
   "source": [
    "pride.stopEng()"
   ]
  },
  {
   "cell_type": "code",
   "execution_count": 9,
   "metadata": {},
   "outputs": [
    {
     "name": "stdout",
     "output_type": "stream",
     "text": [
      "eeeeeeeeeeeeeeeeeeeeeeeeeee\n"
     ]
    }
   ],
   "source": [
    "pride.handBreak()"
   ]
  },
  {
   "cell_type": "code",
   "execution_count": 10,
   "metadata": {},
   "outputs": [
    {
     "name": "stdout",
     "output_type": "stream",
     "text": [
      "Your Car is OFF\n"
     ]
    }
   ],
   "source": [
    "pride.stopEng()"
   ]
  }
,  {
   "cell_type": "markdown",
   "metadata": {},
   "source": [
    "<div style='width:178px;float:right;'>\n",
    "<a style='text-decoration:none;color:white;background-color:green;padding:10px 16px 10px 16px;float:left;border-top-left-radius:15px;border-bottom-left-radius:15px;' href='../066/Main 66.ipynb'>Previous</a>\n",
    "<a style='text-decoration:none;color:white;background-color:green;padding:10px 30px 10px 30px;float:right;border-top-right-radius:15px;border-bottom-right-radius:15px;' href='../068/Main 68.ipynb'>Next</a>\n",
    "</div>"
   ]
  }
 ],
 "metadata": {
  "kernelspec": {
   "display_name": "Python 3",
   "language": "python",
   "name": "python3"
  },
  "language_info": {
   "codemirror_mode": {
    "name": "ipython",
    "version": 3
   },
   "file_extension": ".py",
   "mimetype": "text/x-python",
   "name": "python",
   "nbconvert_exporter": "python",
   "pygments_lexer": "ipython3",
   "version": "3.7.3"
  }
 },
 "nbformat": 4,
 "nbformat_minor": 2
}
