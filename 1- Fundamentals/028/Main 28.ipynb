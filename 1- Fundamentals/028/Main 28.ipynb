{
 "cells": [
  {
   "cell_type": "markdown",
   "metadata": {},
   "source": [
    "# <span style='color:green;'>Exercise 028</span>\n",
    "<span style='color:red'>For Loop</span><br>\n",
    "<span style='display:none;'>Copyright All Rights Reserved Ramin Saljoughinejad</span>"
   ]
  },
  {
   "cell_type": "code",
   "execution_count": 1,
   "metadata": {},
   "outputs": [
    {
     "name": "stdout",
     "output_type": "stream",
     "text": [
      "HP\n",
      "Apple\n",
      "Sony\n",
      "Lenovo\n",
      "MSI\n",
      "Alienware\n"
     ]
    }
   ],
   "source": [
    "laptop_brands = [\"HP\", \"Apple\", \"Sony\", \"Lenovo\", \"MSI\", \"Alienware\"]\n",
    "\n",
    "for item in laptop_brands:\n",
    "    print(item)"
   ]
  },
  {
   "cell_type": "code",
   "execution_count": 2,
   "metadata": {},
   "outputs": [
    {
     "name": "stdout",
     "output_type": "stream",
     "text": [
      "0 New Line\n",
      "1 New Line\n",
      "2 New Line\n",
      "3 New Line\n",
      "4 New Line\n"
     ]
    }
   ],
   "source": [
    "for i in range(5):\n",
    "    print(str(i) + \" New Line\")"
   ]
  },
  {
   "cell_type": "code",
   "execution_count": 3,
   "metadata": {},
   "outputs": [
    {
     "name": "stdout",
     "output_type": "stream",
     "text": [
      "0 New Line\n",
      "1 New Line\n",
      "2 New Line\n",
      "3 New Line\n",
      "4 New Line\n"
     ]
    }
   ],
   "source": [
    "for i in list(range(5)):\n",
    "    print(str(i) + \" New Line\")"
   ]
  },
  {
   "cell_type": "code",
   "execution_count": 4,
   "metadata": {},
   "outputs": [
    {
     "name": "stdout",
     "output_type": "stream",
     "text": [
      "Alienware\n",
      "MSI\n",
      "Lenovo\n",
      "Sony\n",
      "Apple\n",
      "HP\n"
     ]
    }
   ],
   "source": [
    "laptop_brands = [\"HP\", \"Apple\", \"Sony\", \"Lenovo\", \"MSI\", \"Alienware\"]\n",
    "\n",
    "for i in range(5,-1,-1):\n",
    "    print(laptop_brands[i])"
   ]
  },
  {
   "cell_type": "code",
   "execution_count": 5,
   "metadata": {},
   "outputs": [
    {
     "name": "stdout",
     "output_type": "stream",
     "text": [
      "Please Enter a Number: 2\n",
      "Please enter a Number: 3\n",
      "8\n"
     ]
    }
   ],
   "source": [
    "paie = int(input(\"Please Enter a Number: \"))\n",
    "tavan = int(input(\"Please enter a Number: \"))\n",
    "outer = 1\n",
    "for i in range(tavan):\n",
    "    outer*=paie\n",
    "    \n",
    "print(outer)"
   ]
  },
  {
   "cell_type": "code",
   "execution_count": 6,
   "metadata": {},
   "outputs": [
    {
     "name": "stdout",
     "output_type": "stream",
     "text": [
      "Please Enter a Number:5\n",
      "120\n"
     ]
    }
   ],
   "source": [
    "x = int(input(\"Please Enter a Number:\"))\n",
    "f = 1\n",
    "for i in range(x,0,-1):\n",
    "    f*=i\n",
    "print(f)"
   ]
  },
  {
   "cell_type": "code",
   "execution_count": 7,
   "metadata": {},
   "outputs": [
    {
     "name": "stdout",
     "output_type": "stream",
     "text": [
      "Please Enter a Number: 5\n",
      "120\n"
     ]
    }
   ],
   "source": [
    "x = int(input(\"Please Enter a Number: \"))\n",
    "f=1\n",
    "for i in range(1,x+1):\n",
    "    f*=i\n",
    "print(f)"
   ]
  },
  {
   "cell_type": "code",
   "execution_count": 8,
   "metadata": {},
   "outputs": [
    {
     "name": "stdout",
     "output_type": "stream",
     "text": [
      "Please Enter a Number:3\n",
      "1\n",
      "+\n",
      "1\n",
      "+\n",
      "2\n"
     ]
    }
   ],
   "source": [
    "x = int(input(\"Please Enter a Number:\"))\n",
    "if x > 2:\n",
    "    print(1)\n",
    "    print(\"+\")\n",
    "    print(1)\n",
    "    pre = 1\n",
    "    cur = 1\n",
    "    x-=2\n",
    "    for i in range(x):\n",
    "        fur = cur + pre\n",
    "        print(\"+\")\n",
    "        print(fur)\n",
    "        pre = cur\n",
    "        cur = fur\n",
    "elif x == 1:\n",
    "    print(1)\n",
    "elif x == 2:\n",
    "    print(1)\n",
    "    print(\"+\")\n",
    "    print(1)\n",
    "else:\n",
    "    print(\"Not valid input\")\n",
    "    "
   ]
  },
  {
   "cell_type": "code",
   "execution_count": 9,
   "metadata": {},
   "outputs": [
    {
     "name": "stdout",
     "output_type": "stream",
     "text": [
      "Please Enter a Number:7\n",
      "1+1+2+3+5+8+13\n"
     ]
    }
   ],
   "source": [
    "x = int(input(\"Please Enter a Number:\"))\n",
    "if x > 2:\n",
    "    myStr = \"1+1\"\n",
    "    x-=2\n",
    "    pre = 1\n",
    "    cur = 1\n",
    "    for i in range(x):\n",
    "        fur = cur + pre\n",
    "        myStr+= \"+\" + str(fur)\n",
    "        pre = cur\n",
    "        cur = fur\n",
    "    print(myStr)\n",
    "elif x == 1:\n",
    "    print(\"1\")\n",
    "elif x == 2:\n",
    "    print(\"1+1\")\n",
    "else:\n",
    "    print(\"Invalid Input\")"
   ]
  }
,  {
   "cell_type": "markdown",
   "metadata": {},
   "source": [
    "<div style='width:178px;float:right;'>\n",
    "<a style='text-decoration:none;color:white;background-color:green;padding:10px 16px 10px 16px;float:left;border-top-left-radius:15px;border-bottom-left-radius:15px;' href='../027/Main 27.ipynb'>Previous</a>\n",
    "<a style='text-decoration:none;color:white;background-color:green;padding:10px 30px 10px 30px;float:right;border-top-right-radius:15px;border-bottom-right-radius:15px;' href='../029/Main 29.ipynb'>Next</a>\n",
    "</div>"
   ]
  }
 ],
 "metadata": {
  "kernelspec": {
   "display_name": "Python 3",
   "language": "python",
   "name": "python3"
  },
  "language_info": {
   "codemirror_mode": {
    "name": "ipython",
    "version": 3
   },
   "file_extension": ".py",
   "mimetype": "text/x-python",
   "name": "python",
   "nbconvert_exporter": "python",
   "pygments_lexer": "ipython3",
   "version": "3.7.3"
  }
 },
 "nbformat": 4,
 "nbformat_minor": 2
}
