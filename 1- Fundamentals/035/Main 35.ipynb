{
 "cells": [
  {
   "cell_type": "markdown",
   "metadata": {},
   "source": [
    "# <span style='color:green;'>Exercise 035</span>\n",
    "<span style='color:red'>Exception Handling</span><br><br>\n",
    "<span>Try and Except</span><br>\n",
    "<span style='display:none;'>Copyright All Rights Reserved Ramin Saljoughinejad</span>"
   ]
  },
  {
   "cell_type": "code",
   "execution_count": 2,
   "metadata": {},
   "outputs": [
    {
     "name": "stdout",
     "output_type": "stream",
     "text": [
      "Please enter a number: Hello\n",
      "Error: You should enter a number.\n",
      "Finished\n"
     ]
    }
   ],
   "source": [
    "try:\n",
    "    x = float(input(\"Please enter a number: \"))\n",
    "except ValueError:\n",
    "    print(\"Error: You should enter a number.\")\n",
    "\n",
    "print(\"Finished\")"
   ]
  },
  {
   "cell_type": "code",
   "execution_count": 2,
   "metadata": {},
   "outputs": [
    {
     "name": "stdout",
     "output_type": "stream",
     "text": [
      "Error: Division By Zero/\n",
      "Finished\n"
     ]
    }
   ],
   "source": [
    "x=5        #can be user input\n",
    "y=0        #can be user input\n",
    "try:\n",
    "    print(x/y)\n",
    "except ZeroDivisionError:\n",
    "    print(\"Error: Division By Zero/\")\n",
    "\n",
    "print(\"Finished\")"
   ]
  },
  {
   "cell_type": "code",
   "execution_count": 3,
   "metadata": {},
   "outputs": [
    {
     "name": "stdout",
     "output_type": "stream",
     "text": [
      "Error: Can not add int to string!\n",
      "Finished\n"
     ]
    }
   ],
   "source": [
    "x=5          #can be user input\n",
    "y=\"Hi\"       #can be user input\n",
    "try:\n",
    "    print(x + y)\n",
    "except TypeError:\n",
    "    print(\"Error: Can not add int to string!\")\n",
    "\n",
    "print(\"Finished\")"
   ]
  },
  {
   "cell_type": "markdown",
   "metadata": {},
   "source": [
    "# <span style='color:purple'>Please Check <a href='../../Assignments/08/Assignment 08.ipynb'>Assignment 08</a></span>"
   ]
  }
 ],
 "metadata": {
  "kernelspec": {
   "display_name": "Python 3",
   "language": "python",
   "name": "python3"
  },
  "language_info": {
   "codemirror_mode": {
    "name": "ipython",
    "version": 3
   },
   "file_extension": ".py",
   "mimetype": "text/x-python",
   "name": "python",
   "nbconvert_exporter": "python",
   "pygments_lexer": "ipython3",
   "version": "3.7.3"
  }
 },
 "nbformat": 4,
 "nbformat_minor": 2
}
