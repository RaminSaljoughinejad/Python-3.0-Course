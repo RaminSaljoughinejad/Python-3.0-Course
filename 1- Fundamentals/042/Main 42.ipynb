{
 "cells": [
  {
   "cell_type": "markdown",
   "metadata": {},
   "source": [
    "# <span style='color:green;'>Exercise 042</span>\n",
    "<span style='color:red'>Files</span><br><br>\n",
    "<span>Reading Files.</span><br>\n",
    "<span style='display:none;'>Copyright All Rights Reserved Ramin Saljoughinejad</span>"
   ]
  },
  {
   "cell_type": "code",
   "execution_count": 1,
   "metadata": {},
   "outputs": [
    {
     "name": "stdout",
     "output_type": "stream",
     "text": [
      "Hello, this is the first line of my txt file.\n",
      "This one is the second line of my txt file.\n",
      "And finaly, this is the third and last line of my txt file.\n"
     ]
    }
   ],
   "source": [
    "myFile = open(\"test.txt\", \"r\")\n",
    "content = myFile.read()\n",
    "print(content)\n",
    "myFile.close()"
   ]
  },
  {
   "cell_type": "code",
   "execution_count": 2,
   "metadata": {},
   "outputs": [
    {
     "name": "stdout",
     "output_type": "stream",
     "text": [
      "Hell\n",
      "o, this \n",
      "is \n",
      "the first line of my txt file.\n",
      "This one is the second line of my txt file.\n",
      "And finaly, this is the third and last line of my txt file.\n"
     ]
    }
   ],
   "source": [
    "myFile = open(\"test.txt\", \"r\")\n",
    "print(myFile.read(4))\n",
    "print(myFile.read(8))\n",
    "print(myFile.read(3))\n",
    "print(myFile.read())\n",
    "myFile.close()"
   ]
  },
  {
   "cell_type": "code",
   "execution_count": 3,
   "metadata": {},
   "outputs": [
    {
     "name": "stdout",
     "output_type": "stream",
     "text": [
      "Hello, this is the first line of my txt file.\n",
      "This one is the second line of my txt file.\n",
      "And finaly, this is the third and last line of my txt file.\n"
     ]
    }
   ],
   "source": [
    "myFile = open(\"test.txt\", \"r\")\n",
    "print(myFile.read(-1))\n",
    "myFile.close()"
   ]
  },
  {
   "cell_type": "code",
   "execution_count": 4,
   "metadata": {},
   "outputs": [
    {
     "name": "stdout",
     "output_type": "stream",
     "text": [
      "Hello, this is the first line of my txt file.\n",
      "This one is the second line of my txt file.\n",
      "And finaly, this is the third and last line of my txt file.\n",
      "Re-reading\n",
      "\n",
      "End of Re-reading\n"
     ]
    }
   ],
   "source": [
    "myFile = open(\"test.txt\", \"r\")\n",
    "print(myFile.read())\n",
    "print(\"Re-reading\")\n",
    "print(myFile.read())\n",
    "print(\"End of Re-reading\")\n",
    "myFile.close()"
   ]
  }
,  {
   "cell_type": "markdown",
   "metadata": {},
   "source": [
    "<div style='width:178px;float:right;'>\n",
    "<a style='text-decoration:none;color:white;background-color:green;padding:10px 16px 10px 16px;float:left;border-top-left-radius:15px;border-bottom-left-radius:15px;' href='../041/Main 41.ipynb'>Previous</a>\n",
    "<a style='text-decoration:none;color:white;background-color:green;padding:10px 30px 10px 30px;float:right;border-top-right-radius:15px;border-bottom-right-radius:15px;' href='../043/Main 43.ipynb'>Next</a>\n",
    "</div>"
   ]
  }
 ],
 "metadata": {
  "kernelspec": {
   "display_name": "Python 3",
   "language": "python",
   "name": "python3"
  },
  "language_info": {
   "codemirror_mode": {
    "name": "ipython",
    "version": 3
   },
   "file_extension": ".py",
   "mimetype": "text/x-python",
   "name": "python",
   "nbconvert_exporter": "python",
   "pygments_lexer": "ipython3",
   "version": "3.7.3"
  }
 },
 "nbformat": 4,
 "nbformat_minor": 2
}
