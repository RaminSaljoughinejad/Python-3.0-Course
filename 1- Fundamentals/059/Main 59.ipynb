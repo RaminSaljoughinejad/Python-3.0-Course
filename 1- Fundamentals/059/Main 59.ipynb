{
 "cells": [
  {
   "cell_type": "markdown",
   "metadata": {},
   "source": [
    "# <span style='color:green;'>Exercise 059</span>\n",
    "<span style='color:red'>Functional Programming</span><br><br>\n",
    "<span>Generators</span><br>\n",
    "<span style='color:orange'>They allow you to declare a function that behaves like an iterator, i.e. it can be used in a for loop.</span><br>\n",
    "<span style='color:red;'>You can't index generators!</span><br>\n",
    "<span style='color:blue;'>Unlike lists, generators dont have the memory restrictions, or in better words, they can be <i><b>infinite</b></i>.</span><br>\n",
    "<span style='display:none;'>Copyright All Rights Reserved Ramin Saljoughinejad</span>"
   ]
  },
  {
   "cell_type": "code",
   "execution_count": 1,
   "metadata": {},
   "outputs": [
    {
     "name": "stdout",
     "output_type": "stream",
     "text": [
      "9\n",
      "7\n",
      "5\n",
      "3\n",
      "1\n"
     ]
    }
   ],
   "source": [
    "def odds():\n",
    "    i = 10\n",
    "    while i>0:\n",
    "        if i%2:\n",
    "            yield i\n",
    "        i-=1\n",
    "\n",
    "for i in odds():\n",
    "    print(i)"
   ]
  },
  {
   "cell_type": "code",
   "execution_count": 2,
   "metadata": {},
   "outputs": [
    {
     "name": "stdout",
     "output_type": "stream",
     "text": [
      "[1, 3, 5, 7, 9]\n"
     ]
    }
   ],
   "source": [
    "def odds(x):\n",
    "    if x%2:\n",
    "        return x\n",
    "mylist = []\n",
    "for i in range(1,10):\n",
    "    if odds(i)!= None:\n",
    "        mylist.append(odds(i))\n",
    "print(mylist)"
   ]
  },
  {
   "cell_type": "markdown",
   "metadata": {},
   "source": [
    "#### <span style='color:red;'>Only finit generators can be convert into lists due to the memory restrictions of lists</span>"
   ]
  },
  {
   "cell_type": "code",
   "execution_count": 3,
   "metadata": {},
   "outputs": [
    {
     "name": "stdout",
     "output_type": "stream",
     "text": [
      "[1, 3, 5, 7, 9]\n"
     ]
    }
   ],
   "source": [
    "def doNums(x):\n",
    "    for i in range(x):\n",
    "        if i%2 != 0:\n",
    "            yield i\n",
    "\n",
    "print(list(doNums(10)))"
   ]
  },
  {
   "cell_type": "markdown",
   "metadata": {},
   "source": [
    "#### <span style='color:Purple;'>You don't need to wait until all the elements have beengenerated before we start to use them.</span>"
   ]
  },
  {
   "cell_type": "code",
   "execution_count": 4,
   "metadata": {},
   "outputs": [
    {
     "name": "stdout",
     "output_type": "stream",
     "text": [
      "['P', 'Py', 'Pyt', 'Pyth', 'Pytho', 'Python']\n"
     ]
    }
   ],
   "source": [
    "def spellIt():\n",
    "    word = \"\"\n",
    "    for eachChar in \"Python\":\n",
    "        word += eachChar\n",
    "        yield word\n",
    "        \n",
    "print(list(spellIt()))"
   ]
  }
,  {
   "cell_type": "markdown",
   "metadata": {},
   "source": [
    "<div style='width:178px;float:right;'>\n",
    "<a style='text-decoration:none;color:white;background-color:green;padding:10px 16px 10px 16px;float:left;border-top-left-radius:15px;border-bottom-left-radius:15px;' href='../058/Main 58.ipynb'>Previous</a>\n",
    "<a style='text-decoration:none;color:white;background-color:green;padding:10px 30px 10px 30px;float:right;border-top-right-radius:15px;border-bottom-right-radius:15px;' href='../060/Main 60.ipynb'>Next</a>\n",
    "</div>"
   ]
  }
 ],
 "metadata": {
  "kernelspec": {
   "display_name": "Python 3",
   "language": "python",
   "name": "python3"
  },
  "language_info": {
   "codemirror_mode": {
    "name": "ipython",
    "version": 3
   },
   "file_extension": ".py",
   "mimetype": "text/x-python",
   "name": "python",
   "nbconvert_exporter": "python",
   "pygments_lexer": "ipython3",
   "version": "3.7.3"
  }
 },
 "nbformat": 4,
 "nbformat_minor": 2
}
