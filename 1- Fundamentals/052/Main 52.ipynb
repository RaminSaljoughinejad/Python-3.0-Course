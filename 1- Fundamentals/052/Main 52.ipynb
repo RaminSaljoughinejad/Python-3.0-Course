{
 "cells": [
  {
   "cell_type": "markdown",
   "metadata": {},
   "source": [
    "# <span style='color:green;'>Exercise 052</span>\n",
    "<span style='color:red'>More Types</span><br><br>\n",
    "<span>List Comprehensions</span><br>\n",
    "<span style='display:none;'>Copyright All Rights Reserved Ramin Saljoughinejad</span>"
   ]
  },
  {
   "cell_type": "code",
   "execution_count": 1,
   "metadata": {},
   "outputs": [
    {
     "name": "stdout",
     "output_type": "stream",
     "text": [
      "[1, 3, 5, 7, 9]\n"
     ]
    }
   ],
   "source": [
    "odd_numbers = [i*2+1 for i in range(5)]\n",
    "\n",
    "print(odd_numbers)"
   ]
  },
  {
   "cell_type": "code",
   "execution_count": 2,
   "metadata": {},
   "outputs": [
    {
     "name": "stdout",
     "output_type": "stream",
     "text": [
      "[0, 4, 16, 36, 64]\n"
     ]
    }
   ],
   "source": [
    "even_numbers = [i**2 for i in range(10) if i**2 % 2 == 0]\n",
    "\n",
    "print(even_numbers)"
   ]
  },
  {
   "cell_type": "markdown",
   "metadata": {},
   "source": [
    "# <span style='color:Red;'>Do Not Run This Code! Memory Error!</span>"
   ]
  },
  {
   "cell_type": "code",
   "execution_count": null,
   "metadata": {},
   "outputs": [],
   "source": [
    "even = [2*i for i in range(10**100)]"
   ]
  }
,  {
   "cell_type": "markdown",
   "metadata": {},
   "source": [
    "<div style='width:178px;float:right;'>\n",
    "<a style='text-decoration:none;color:white;background-color:green;padding:10px 16px 10px 16px;float:left;border-top-left-radius:15px;border-bottom-left-radius:15px;' href='../051/Main 51.ipynb'>Previous</a>\n",
    "<a style='text-decoration:none;color:white;background-color:green;padding:10px 30px 10px 30px;float:right;border-top-right-radius:15px;border-bottom-right-radius:15px;' href='../053/Main 53.ipynb'>Next</a>\n",
    "</div>"
   ]
  }
 ],
 "metadata": {
  "kernelspec": {
   "display_name": "Python 3",
   "language": "python",
   "name": "python3"
  },
  "language_info": {
   "codemirror_mode": {
    "name": "ipython",
    "version": 3
   },
   "file_extension": ".py",
   "mimetype": "text/x-python",
   "name": "python",
   "nbconvert_exporter": "python",
   "pygments_lexer": "ipython3",
   "version": "3.7.3"
  }
 },
 "nbformat": 4,
 "nbformat_minor": 2
}
