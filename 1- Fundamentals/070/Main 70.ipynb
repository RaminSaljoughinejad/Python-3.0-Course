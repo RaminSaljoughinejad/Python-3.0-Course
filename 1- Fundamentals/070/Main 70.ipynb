{
 "cells": [
  {
   "cell_type": "markdown",
   "metadata": {},
   "source": [
    "# <span style='color:green;'>Exercise 070</span>\n",
    "\n",
    "<span style='color:red'>More into classes</span><br><br>\n",
    "<span style='color:coral'>Magic Methods</span><br>\n",
    "<span style='color:purple;margin-left:25px;'>Magic methods are special methods which have double underscores at the beginning and end of their names. </span><br>\n",
    "<span style='color:purple;margin-left:25px;'>So far, the only one we have encountered is __init__, but there are several others. They are used to create functionality that can't be represented as a normal method. </span><br>\n",
    "<br><span style=\"color:Blue;\">An example magic method is __add__ for +. </span>\n",
    "<span style='display:none;'>Copyright All Rights Reserved Ramin Saljoughinejad</span>"
   ]
  },
  {
   "cell_type": "code",
   "execution_count": 1,
   "metadata": {},
   "outputs": [
    {
     "name": "stdout",
     "output_type": "stream",
     "text": [
      "8\n",
      "16\n"
     ]
    }
   ],
   "source": [
    "class Vector2D:\n",
    "  def __init__(self, x, y):\n",
    "    self.x = x\n",
    "    self.y = y\n",
    "  def __add__(self, other):\n",
    "    return Vector2D(self.x + other.x, self.y + other.y)\n",
    "\n",
    "first = Vector2D(5, 7)\n",
    "second = Vector2D(3, 9)\n",
    "result = first + second\n",
    "print(result.x)\n",
    "print(result.y)"
   ]
  },
  {
   "cell_type": "markdown",
   "metadata": {},
   "source": [
    "### <span style='color:blue;'>More magic methods for common operators:</span>\n",
    "<ul>\n",
    "<li>__sub__ for -</li>\n",
    "<li>__mul__ for *</li>\n",
    "<li>__truediv__ for /</li>\n",
    "<li>__floordiv__ for //</li>\n",
    "<li>__mod__ for %</li>\n",
    "<li>__pow__ for **</li>\n",
    "<li>__and__ for &</li>\n",
    "<li>__xor__ for ^</li>\n",
    "<li>__or__ for |</li>\n",
    "<ul>"
   ]
  },
  {
   "cell_type": "code",
   "execution_count": 3,
   "metadata": {},
   "outputs": [
    {
     "name": "stdout",
     "output_type": "stream",
     "text": [
      "2    -2\n",
      "8    16\n"
     ]
    }
   ],
   "source": [
    "class Vector2D:\n",
    "  def __init__(self, x, y):\n",
    "    self.x = x\n",
    "    self.y = y\n",
    "  def __add__(self, other):\n",
    "    return Vector2D(self.x + other.x, self.y + other.y)\n",
    "  def __sub__(self, other):\n",
    "    return Vector2D(self.x - other.x, self.y - other.y)\n",
    "\n",
    "first = Vector2D(5, 7)\n",
    "second = Vector2D(3, 9)\n",
    "result = first - second\n",
    "result2 = first + second\n",
    "print(result.x,\"  \",result.y)\n",
    "print(result2.x,\"  \",result2.y)"
   ]
  },
  {
   "cell_type": "code",
   "execution_count": null,
   "metadata": {},
   "outputs": [],
   "source": []
  }
,  {
   "cell_type": "markdown",
   "metadata": {},
   "source": [
    "<div style='width:178px;float:right;'>\n",
    "<a style='text-decoration:none;color:white;background-color:green;padding:10px 16px 10px 16px;float:left;border-top-left-radius:15px;border-bottom-left-radius:15px;' href='../069/Main 69.ipynb'>Previous</a>\n",
    "<a style='text-decoration:none;color:white;background-color:green;padding:10px 30px 10px 30px;float:right;border-top-right-radius:15px;border-bottom-right-radius:15px;' href='../071/Main 71.ipynb'>Next</a>\n",
    "</div>"
   ]
  }
 ],
 "metadata": {
  "kernelspec": {
   "display_name": "Python 3",
   "language": "python",
   "name": "python3"
  },
  "language_info": {
   "codemirror_mode": {
    "name": "ipython",
    "version": 3
   },
   "file_extension": ".py",
   "mimetype": "text/x-python",
   "name": "python",
   "nbconvert_exporter": "python",
   "pygments_lexer": "ipython3",
   "version": "3.7.3"
  }
 },
 "nbformat": 4,
 "nbformat_minor": 2
}
