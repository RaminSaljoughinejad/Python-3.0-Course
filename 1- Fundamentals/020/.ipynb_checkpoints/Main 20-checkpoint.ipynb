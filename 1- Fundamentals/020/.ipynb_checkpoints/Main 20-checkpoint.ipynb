{
 "cells": [
  {
   "cell_type": "markdown",
   "metadata": {},
   "source": [
    "# <span style='color:green;'>Exercise 020</span>\n",
    "<span style='color:red'>While Loop</span>\n",
    "<span style='display:none;'>Copyright All Rights Reserved Ramin Saljoughinejad</span>"
   ]
  },
  {
   "cell_type": "code",
   "execution_count": 1,
   "metadata": {},
   "outputs": [
    {
     "name": "stdout",
     "output_type": "stream",
     "text": [
      "Python 3.x\n",
      "Python 3.x\n",
      "Python 3.x\n",
      "Python 3.x\n"
     ]
    }
   ],
   "source": [
    "x = 1\n",
    "while x<5:\n",
    "    print(\"Python 3.x\")\n",
    "    x+=1"
   ]
  },
  {
   "cell_type": "code",
   "execution_count": 2,
   "metadata": {},
   "outputs": [
    {
     "name": "stdout",
     "output_type": "stream",
     "text": [
      "1 : Python 3.x\n",
      "2 : Python 3.x\n",
      "3 : Python 3.x\n",
      "4 : Python 3.x\n"
     ]
    }
   ],
   "source": [
    "x = 1 \n",
    "while x<5:\n",
    "    print(str(x) + \" : Python 3.x\")\n",
    "    x+=1"
   ]
  },
  {
   "cell_type": "code",
   "execution_count": 3,
   "metadata": {},
   "outputs": [
    {
     "name": "stdout",
     "output_type": "stream",
     "text": [
      "5\n",
      "4\n",
      "3\n",
      "2\n",
      "1\n"
     ]
    }
   ],
   "source": [
    "x = 5\n",
    "while x>0:\n",
    "    print(x)\n",
    "    x-=1"
   ]
  },
  {
   "cell_type": "markdown",
   "metadata": {},
   "source": [
    "#### Infinite Loops"
   ]
  },
  {
   "cell_type": "code",
   "execution_count": null,
   "metadata": {},
   "outputs": [],
   "source": [
    "x = 5\n",
    "while x>0:\n",
    "    print(x)"
   ]
  },
  {
   "cell_type": "markdown",
   "metadata": {},
   "source": [
    "### Class-Assignment\n",
    "<br>\n",
    "<br>\n",
    "<span style='color:green;'>Write a program that takes 2 numbers from the user, then prints all the numbers between those two numbers.</span><br><br>\n",
    "<span style='color:green;align:right;float:right;' dir='rtl'>برنامه ای بنویسید که 2 عدد از کاربر دریافت و تمامی اعداد بین این دو عدد را چاپ کند.</span>"
   ]
  },
  {
   "cell_type": "code",
   "execution_count": 4,
   "metadata": {},
   "outputs": [
    {
     "name": "stdout",
     "output_type": "stream",
     "text": [
      "Please Enter a number: 2\n",
      "Please Enter another number: 10\n",
      "3\n",
      "4\n",
      "5\n",
      "6\n",
      "7\n",
      "8\n",
      "9\n"
     ]
    }
   ],
   "source": [
    "x = int(input(\"Please Enter a number: \"))\n",
    "y = int(input(\"Please Enter another number: \"))\n",
    "\n",
    "min = max = 0\n",
    "if x!=y:\n",
    "    if x>y:\n",
    "        min = y + 1\n",
    "        max = x\n",
    "    else:\n",
    "        min = x + 1\n",
    "        max = y\n",
    "\n",
    "    while min < max:\n",
    "        print(min)\n",
    "        min+=1\n",
    "else:\n",
    "    print(\"Your numbers are the same!\")"
   ]
  },
  {
   "cell_type": "markdown",
   "metadata": {},
   "source": [
    "# <span style='color:purple'>Please Check Assignments <a href='../../Class Assignments/02/Assignment 02.ipynb'>02</a>, <a href='../../Class Assignments/03/Assignment 03.ipynb'>03</a>, <a href='../../Class Assignments/04/Assignment 04.ipynb'>04</a>, and <a href='../../Class Assignments/05/Assignment 05.ipynb'>05</a></span>"
   ]
  },
  {
   "cell_type": "markdown",
   "metadata": {},
   "source": [
    "<div style='width:178px;float:right;'>\n",
    "<a style='text-decoration:none;color:white;background-color:green;padding:10px 16px 10px 16px;float:left;border-top-left-radius:15px;border-bottom-left-radius:15px;' href='../019/Main 19.ipynb'>Previous</a>\n",
    "<a style='text-decoration:none;color:white;background-color:green;padding:10px 30px 10px 30px;float:right;border-top-right-radius:15px;border-bottom-right-radius:15px;' href='../021/Main 21.ipynb'>Next</a>\n",
    "</div>"
   ]
  }
 ],
 "metadata": {
  "kernelspec": {
   "display_name": "Python 3",
   "language": "python",
   "name": "python3"
  },
  "language_info": {
   "codemirror_mode": {
    "name": "ipython",
    "version": 3
   },
   "file_extension": ".py",
   "mimetype": "text/x-python",
   "name": "python",
   "nbconvert_exporter": "python",
   "pygments_lexer": "ipython3",
   "version": "3.8.3"
  }
 },
 "nbformat": 4,
 "nbformat_minor": 2
}
