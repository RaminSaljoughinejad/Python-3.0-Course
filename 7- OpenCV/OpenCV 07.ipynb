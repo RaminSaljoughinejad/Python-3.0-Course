{
 "cells": [
  {
   "cell_type": "code",
   "execution_count": 1,
   "metadata": {},
   "outputs": [],
   "source": [
    "import cv2"
   ]
  },
  {
   "cell_type": "code",
   "execution_count": 2,
   "metadata": {},
   "outputs": [
    {
     "name": "stdout",
     "output_type": "stream",
     "text": [
      "Key Code:  114\n"
     ]
    }
   ],
   "source": [
    "img = cv2.imread('Files/lena.jpg', 1)\n",
    "\n",
    "cv2.imshow('Image Window', img)\n",
    "\n",
    "myKey = cv2.waitKey(0)\n",
    "\n",
    "if myKey == 27:                    # 27 == ESC key\n",
    "    cv2.destroyAllWindows()\n",
    "    print(\"ESC\")\n",
    "elif myKey ==ord('s'):\n",
    "    cv2.imwrite('Files/copy_lena2.png', img)\n",
    "    cv2.destroyAllWindows()\n",
    "else:\n",
    "    cv2.destroyAllWindows()\n",
    "    print(\"Key Code: \",myKey)"
   ]
  }
 ],
 "metadata": {
  "kernelspec": {
   "display_name": "Python 3",
   "language": "python",
   "name": "python3"
  },
  "language_info": {
   "codemirror_mode": {
    "name": "ipython",
    "version": 3
   },
   "file_extension": ".py",
   "mimetype": "text/x-python",
   "name": "python",
   "nbconvert_exporter": "python",
   "pygments_lexer": "ipython3",
   "version": "3.7.3"
  }
 },
 "nbformat": 4,
 "nbformat_minor": 2
}
