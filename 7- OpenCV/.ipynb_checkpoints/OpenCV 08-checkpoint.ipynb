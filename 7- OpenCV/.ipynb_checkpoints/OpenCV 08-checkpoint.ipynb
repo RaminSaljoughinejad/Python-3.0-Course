{
 "cells": [
  {
   "cell_type": "code",
   "execution_count": 1,
   "metadata": {},
   "outputs": [],
   "source": [
    "import cv2"
   ]
  },
  {
   "cell_type": "code",
   "execution_count": 2,
   "metadata": {},
   "outputs": [],
   "source": [
    "img = cv2.imread('Files/lena.jpg', 1)\n",
    "\n",
    "img = cv2.line(img, (155,155), (355,355), (255,0,0), 5)        #brg not rgb\n",
    "\n",
    "cv2.imshow(\"Image Window\", img)\n",
    "\n",
    "cv2.waitKey(0)\n",
    "cv2.destroyAllWindows()"
   ]
  },
  {
   "cell_type": "code",
   "execution_count": 3,
   "metadata": {},
   "outputs": [],
   "source": [
    "img = cv2.imread('Files/lena.jpg', 1)\n",
    "\n",
    "img = cv2.arrowedLine(img, (155,155), (355,355), (255,0,0), 5)\n",
    "\n",
    "cv2.imshow(\"Image Window\", img)\n",
    "\n",
    "cv2.waitKey(0)\n",
    "cv2.destroyAllWindows()"
   ]
  },
  {
   "cell_type": "code",
   "execution_count": 4,
   "metadata": {},
   "outputs": [],
   "source": [
    "img = cv2.imread('Files/lena.jpg', 1)\n",
    "\n",
    "img = cv2.rectangle(img, (155,155), (400,400), (255,0,0), 3)\n",
    "\n",
    "cv2.imshow(\"Image Window\", img)\n",
    "\n",
    "cv2.waitKey(0)\n",
    "cv2.destroyAllWindows()"
   ]
  },
  {
   "cell_type": "code",
   "execution_count": 5,
   "metadata": {},
   "outputs": [],
   "source": [
    "img = cv2.imread('Files/lena.jpg', 1)\n",
    "\n",
    "img = cv2.rectangle(img, (155,155), (400,400), (255,0,0), -1)\n",
    "\n",
    "cv2.imshow(\"Image Window\", img)\n",
    "\n",
    "cv2.waitKey(0)\n",
    "cv2.destroyAllWindows()"
   ]
  },
  {
   "cell_type": "code",
   "execution_count": 6,
   "metadata": {},
   "outputs": [],
   "source": [
    "img = cv2.imread('Files/lena.jpg', 1)\n",
    "\n",
    "img = cv2.circle(img, (260,260), 140, (255,0,0), 3)\n",
    "\n",
    "cv2.imshow(\"Image Window\", img)\n",
    "\n",
    "cv2.waitKey(0)\n",
    "cv2.destroyAllWindows()"
   ]
  },
  {
   "cell_type": "code",
   "execution_count": 7,
   "metadata": {},
   "outputs": [],
   "source": [
    "img = cv2.imread('Files/lena.jpg', 1)\n",
    "\n",
    "font = cv2.FONT_HERSHEY_COMPLEX\n",
    "img = cv2.putText(img, \"Lena\", (200,420), font, 2, (255,0,0), 5, cv2.LINE_AA)\n",
    "\n",
    "cv2.imshow(\"Image Window\", img)\n",
    "\n",
    "cv2.waitKey(0)\n",
    "cv2.destroyAllWindows()"
   ]
  }
 ],
 "metadata": {
  "kernelspec": {
   "display_name": "Python 3",
   "language": "python",
   "name": "python3"
  },
  "language_info": {
   "codemirror_mode": {
    "name": "ipython",
    "version": 3
   },
   "file_extension": ".py",
   "mimetype": "text/x-python",
   "name": "python",
   "nbconvert_exporter": "python",
   "pygments_lexer": "ipython3",
   "version": "3.7.3"
  }
 },
 "nbformat": 4,
 "nbformat_minor": 2
}
