{
 "cells": [
  {
   "cell_type": "code",
   "execution_count": 1,
   "metadata": {},
   "outputs": [],
   "source": [
    "import numpy as np\n",
    "import cv2\n",
    "import random\n",
    "import matplotlib.pyplot as plt"
   ]
  },
  {
   "cell_type": "code",
   "execution_count": 2,
   "metadata": {},
   "outputs": [
    {
     "data": {
      "text/plain": [
       "<matplotlib.image.AxesImage at 0x225ff585438>"
      ]
     },
     "execution_count": 2,
     "metadata": {},
     "output_type": "execute_result"
    },
    {
     "data": {
      "image/png": "[encoded data removed]",
      "text/plain": [
       "<Figure size 432x288 with 1 Axes>"
      ]
     },
     "metadata": {
      "needs_background": "light"
     },
     "output_type": "display_data"
    }
   ],
   "source": [
    "cap = np.zeros([30,110,3], np.uint8)\n",
    "\n",
    "mySpace = [0,1,2,3,4,5,6,7,8,9,'a','b','c','d','e','f','g','h','i','j','k']\n",
    "\n",
    "mytext = \"\"\n",
    "newrand= 0\n",
    "for i in range(5):\n",
    "    newrand = random.randint(0,20)\n",
    "    mytext += str(mySpace[newrand])\n",
    "\n",
    "font = cv2.FONT_HERSHEY_COMPLEX\n",
    "cap = cv2.putText(cap, mytext, (5,25), font, 1, (255,0,0), 2, cv2.LINE_AA)\n",
    "\n",
    "plt.imshow(cap)"
   ]
  }
 ],
 "metadata": {
  "kernelspec": {
   "display_name": "Python 3",
   "language": "python",
   "name": "python3"
  },
  "language_info": {
   "codemirror_mode": {
    "name": "ipython",
    "version": 3
   },
   "file_extension": ".py",
   "mimetype": "text/x-python",
   "name": "python",
   "nbconvert_exporter": "python",
   "pygments_lexer": "ipython3",
   "version": "3.7.3"
  }
 },
 "nbformat": 4,
 "nbformat_minor": 2
}
