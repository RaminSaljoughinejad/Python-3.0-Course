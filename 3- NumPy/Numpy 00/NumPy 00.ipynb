{
 "cells": [
  {
   "cell_type": "markdown",
   "metadata": {},
   "source": [
    "### Installation\n",
    "\n",
    "1- Execute the following command <br>\n",
    "<span style='color:red;'>Windows</span><br>\n",
    "    python -m pip install --upgrade numpy<br>\n",
    "    python -m pip install --upgrade --user numpy <br>\n",
    "<span style='color:red'>Mac</span><br>\n",
    "    python3 -m pip install --upgrade numpy<br>\n",
    "    python3 -m pip install --upgrade --user numpy </br>"
   ]
  }
 ],
 "metadata": {
  "kernelspec": {
   "display_name": "Python 3",
   "language": "python",
   "name": "python3"
  },
  "language_info": {
   "codemirror_mode": {
    "name": "ipython",
    "version": 3
   },
   "file_extension": ".py",
   "mimetype": "text/x-python",
   "name": "python",
   "nbconvert_exporter": "python",
   "pygments_lexer": "ipython3",
   "version": "3.7.3"
  }
 },
 "nbformat": 4,
 "nbformat_minor": 2
}
