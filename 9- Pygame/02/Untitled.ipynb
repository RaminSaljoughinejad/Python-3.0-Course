{
 "cells": [
  {
   "cell_type": "code",
   "execution_count": 2,
   "metadata": {},
   "outputs": [
    {
     "name": "stdout",
     "output_type": "stream",
     "text": [
      "pygame 1.9.6\n",
      "Hello from the pygame community. https://www.pygame.org/contribute.html\n"
     ]
    }
   ],
   "source": [
    "import pygame"
   ]
  },
  {
   "cell_type": "code",
   "execution_count": null,
   "metadata": {},
   "outputs": [],
   "source": [
    "pygame.init()\n",
    "\n",
    "main_widnow_width = 1000\n",
    "main_widnow_height = 500\n",
    "\n",
    "gameDisplay = pygame.display.set_mode((main_widnow_width,main_widnow_height))\n",
    "pygame.display.set_caption(\"Trex\")\n",
    "\n",
    "#Color\n",
    "white = (255,255,255)\n",
    "\n",
    "\n",
    "#Trex\n",
    "trex1 = pygame.image.load(\"trex_run1.png\")\n",
    "trex2 = pygame.image.load(\"trex_run2.png\")\n",
    "trex_x = 0\n",
    "trex_y = 300\n",
    "trex_width = 233\n",
    "trex_height = 216\n",
    "\n",
    "#Ground\n",
    "ground = pygame.image.load(\"desert.png\")\n",
    "ground_x = 0\n",
    "ground_y = 350\n",
    "\n",
    "clock = pygame.time.Clock()\n",
    "\n",
    "game_x = 1\n",
    "\n",
    "def frame(game_x):\n",
    "    if 0<=game_x%10<5:\n",
    "        gameDisplay.blit(trex1,(trex_x,trex_y))\n",
    "    elif 5<=game_x%10<10:\n",
    "        gameDisplay.blit(trex2,(trex_x,trex_y))\n",
    "    if game_x == 1000:\n",
    "        game_x = 1\n",
    "    else:\n",
    "        game_x += 1\n",
    "    return game_x\n",
    "\n",
    "jump = False\n",
    "move_up = False\n",
    "move_down = False\n",
    "jump_i = 1\n",
    "\n",
    "alive = True\n",
    "while alive:\n",
    "    for event in pygame.event.get():\n",
    "        if event.type == pygame.QUIT:\n",
    "            alive = False\n",
    "        if event.type == pygame.KEYDOWN:\n",
    "            if event.key == pygame.K_SPACE:\n",
    "                if jump == False:\n",
    "                    jump = True\n",
    "                    move_up = True\n",
    "                \n",
    "    if jump:\n",
    "        if move_up:\n",
    "            if jump_i < 150:\n",
    "                jump_i += 1\n",
    "                trex_y -= 1\n",
    "            else:\n",
    "                move_up = False\n",
    "                move_down = True\n",
    "        else:\n",
    "            if jump_i >= 1:\n",
    "                jump_i -= 1\n",
    "                trex_y += 1\n",
    "            else:\n",
    "                jump = False\n",
    "                move_down = False\n",
    "    \n",
    "    gameDisplay.fill(white)\n",
    "    gameDisplay.blit(ground,(ground_x,ground_y))\n",
    "\n",
    "    game_x = frame(game_x)\n",
    "    if trex_x == 1000:\n",
    "        trex_x = 0\n",
    "    else:\n",
    "        trex_x+=1\n",
    "    pygame.display.update()\n",
    "    clock.tick(30)\n",
    "    \n",
    "pygame.quit()"
   ]
  },
  {
   "cell_type": "code",
   "execution_count": null,
   "metadata": {},
   "outputs": [],
   "source": []
  }
 ],
 "metadata": {
  "kernelspec": {
   "display_name": "Python 3",
   "language": "python",
   "name": "python3"
  },
  "language_info": {
   "codemirror_mode": {
    "name": "ipython",
    "version": 3
   },
   "file_extension": ".py",
   "mimetype": "text/x-python",
   "name": "python",
   "nbconvert_exporter": "python",
   "pygments_lexer": "ipython3",
   "version": "3.7.3"
  }
 },
 "nbformat": 4,
 "nbformat_minor": 2
}
