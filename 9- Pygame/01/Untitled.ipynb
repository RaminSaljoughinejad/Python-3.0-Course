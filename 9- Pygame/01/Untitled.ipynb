{
 "cells": [
  {
   "cell_type": "code",
   "execution_count": 1,
   "metadata": {},
   "outputs": [
    {
     "name": "stdout",
     "output_type": "stream",
     "text": [
      "pygame 1.9.6\n",
      "Hello from the pygame community. https://www.pygame.org/contribute.html\n"
     ]
    }
   ],
   "source": [
    "import pygame"
   ]
  },
  {
   "cell_type": "code",
   "execution_count": 7,
   "metadata": {},
   "outputs": [],
   "source": [
    "pygame.init()\n",
    "\n",
    "#Window\n",
    "main_display_width = 1000\n",
    "main_display_height = 500\n",
    "\n",
    "#Display Object\n",
    "gameDisplay = pygame.display.set_mode((main_display_width,main_display_height))\n",
    "pygame.display.set_caption(\"TREX\")\n",
    "\n",
    "#Colors\n",
    "white = (255,255,255)\n",
    "red = (255,0,0)\n",
    "\n",
    "#Ground Line\n",
    "ground_line = pygame.image.load(\"ground_line.png\")\n",
    "ground_line_x = 0\n",
    "ground_line_y = 400\n",
    "\n",
    "#TREX\n",
    "trex = pygame.image.load(\"trex.png\")\n",
    "trex_width = 233\n",
    "trex_height = 216\n",
    "trex_x = 0 \n",
    "trex_y = main_display_height - 250\n",
    "\n",
    "#Clock\n",
    "clock = pygame.time.Clock()\n",
    "\n",
    "#Game Loop\n",
    "alive = True\n",
    "while alive:\n",
    "    for event in pygame.event.get():\n",
    "        if event.type == pygame.QUIT:\n",
    "            alive = False\n",
    "    \n",
    "    \n",
    "    gameDisplay.fill(white)\n",
    "    gameDisplay.blit(ground_line,(ground_line_x,ground_line_y))\n",
    "    gameDisplay.blit(trex,(trex_x,trex_y))\n",
    "    \n",
    "    if trex_x > 1000:\n",
    "        trex_x = 0 - trex_width\n",
    "    else:\n",
    "        trex_x+=1\n",
    "    \n",
    "    pygame.display.update()\n",
    "    clock.tick(60)\n",
    "    \n",
    "    \n",
    "pygame.quit()"
   ]
  },
  {
   "cell_type": "code",
   "execution_count": null,
   "metadata": {},
   "outputs": [],
   "source": []
  }
 ],
 "metadata": {
  "kernelspec": {
   "display_name": "Python 3",
   "language": "python",
   "name": "python3"
  },
  "language_info": {
   "codemirror_mode": {
    "name": "ipython",
    "version": 3
   },
   "file_extension": ".py",
   "mimetype": "text/x-python",
   "name": "python",
   "nbconvert_exporter": "python",
   "pygments_lexer": "ipython3",
   "version": "3.7.3"
  }
 },
 "nbformat": 4,
 "nbformat_minor": 2
}
